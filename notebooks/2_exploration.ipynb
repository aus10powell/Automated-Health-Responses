{
 "cells": [
  {
   "cell_type": "markdown",
   "metadata": {},
   "source": [
    "## Purpose\n",
    "Validate the structure of data especially the comments for which I was unable to find data dictionary and had to validate guesses about its structure.\n",
    "\n",
    "### Options:\n",
    "* Use categories from semtype tagging to identify"
   ]
  },
  {
   "cell_type": "markdown",
   "metadata": {},
   "source": [
    "## Initialize"
   ]
  },
  {
   "cell_type": "code",
   "execution_count": 2,
   "metadata": {},
   "outputs": [],
   "source": [
    "# Utility\n",
    "import sys,os\n",
    "import time\n",
    "\n",
    "import pandas as pd\n",
    "import numpy as np\n",
    "\n",
    "# Plotting\n",
    "from ggplot import *\n",
    "pd.set_option('display.max_columns', 500) # more columns displayed at once\n",
    "pd.options.display.max_colwidth = 200 # more of the text displayed at once\n",
    "\n",
    "# Custom\n",
    "from processing import tag_utterances\n",
    "from processing import load_sem_types\n",
    "from processing import DataPipeline\n",
    "\n",
    "# Set path for importing data\n",
    "data_instance = DataPipeline(comments_path = '../data/reddit_comments_askDocs_2014_to_2018_03.gz',\n",
    "                            posts_path = '../data/original_posts_under_askDocs_subreddit_id.gz')\n",
    "\n",
    "## NLP\n",
    "import spacy"
   ]
  },
  {
   "cell_type": "code",
   "execution_count": 4,
   "metadata": {},
   "outputs": [
    {
     "name": "stdout",
     "output_type": "stream",
     "text": [
      "Shape (557648, 21)\n"
     ]
    },
    {
     "data": {
      "text/html": [
       "<div>\n",
       "<style scoped>\n",
       "    .dataframe tbody tr th:only-of-type {\n",
       "        vertical-align: middle;\n",
       "    }\n",
       "\n",
       "    .dataframe tbody tr th {\n",
       "        vertical-align: top;\n",
       "    }\n",
       "\n",
       "    .dataframe thead th {\n",
       "        text-align: right;\n",
       "    }\n",
       "</style>\n",
       "<table border=\"1\" class=\"dataframe\">\n",
       "  <thead>\n",
       "    <tr style=\"text-align: right;\">\n",
       "      <th></th>\n",
       "      <th>body</th>\n",
       "      <th>score_hidden</th>\n",
       "      <th>archived</th>\n",
       "      <th>name</th>\n",
       "      <th>author</th>\n",
       "      <th>author_flair_text</th>\n",
       "      <th>downs</th>\n",
       "      <th>created_utc</th>\n",
       "      <th>subreddit_id</th>\n",
       "      <th>link_id</th>\n",
       "      <th>parent_id</th>\n",
       "      <th>score</th>\n",
       "      <th>retrieved_on</th>\n",
       "      <th>controversiality</th>\n",
       "      <th>gilded</th>\n",
       "      <th>id</th>\n",
       "      <th>subreddit</th>\n",
       "      <th>ups</th>\n",
       "      <th>distinguished</th>\n",
       "      <th>author_flair_css_class</th>\n",
       "      <th>removal_reason</th>\n",
       "    </tr>\n",
       "  </thead>\n",
       "  <tbody>\n",
       "    <tr>\n",
       "      <th>0</th>\n",
       "      <td>for a manlet such as yourself I'd recommend at least 70 oz of water daily and at least 7 hours of sleep. Cut down on red meat, smoking, and sodium intake and check back in a few days.</td>\n",
       "      <td>1.0</td>\n",
       "      <td>NaN</td>\n",
       "      <td>NaN</td>\n",
       "      <td>-Ai</td>\n",
       "      <td>This user has not yet been verified.</td>\n",
       "      <td>NaN</td>\n",
       "      <td>1513411674</td>\n",
       "      <td>t5_2xtuc</td>\n",
       "      <td>t3_7k5x2h</td>\n",
       "      <td>t3_7k5x2h</td>\n",
       "      <td>0</td>\n",
       "      <td>1.514772e+09</td>\n",
       "      <td>0</td>\n",
       "      <td>0</td>\n",
       "      <td>drbt2db</td>\n",
       "      <td>AskDocs</td>\n",
       "      <td>NaN</td>\n",
       "      <td>NaN</td>\n",
       "      <td>default</td>\n",
       "      <td>NaN</td>\n",
       "    </tr>\n",
       "    <tr>\n",
       "      <th>1</th>\n",
       "      <td>Thank you very much for answering!</td>\n",
       "      <td>1.0</td>\n",
       "      <td>NaN</td>\n",
       "      <td>NaN</td>\n",
       "      <td>-SY</td>\n",
       "      <td>This user has not yet been verified.</td>\n",
       "      <td>NaN</td>\n",
       "      <td>1445798103</td>\n",
       "      <td>t5_2xtuc</td>\n",
       "      <td>t3_3q697b</td>\n",
       "      <td>t1_cwcf958</td>\n",
       "      <td>2</td>\n",
       "      <td>1.447190e+09</td>\n",
       "      <td>0</td>\n",
       "      <td>0</td>\n",
       "      <td>cwcfjpr</td>\n",
       "      <td>AskDocs</td>\n",
       "      <td>2.0</td>\n",
       "      <td>NaN</td>\n",
       "      <td>default</td>\n",
       "      <td>NaN</td>\n",
       "    </tr>\n",
       "  </tbody>\n",
       "</table>\n",
       "</div>"
      ],
      "text/plain": [
       "                                                                                                                                                                                       body  \\\n",
       "0  for a manlet such as yourself I'd recommend at least 70 oz of water daily and at least 7 hours of sleep. Cut down on red meat, smoking, and sodium intake and check back in a few days.    \n",
       "1                                                                                                                                                        Thank you very much for answering!   \n",
       "\n",
       "   score_hidden archived name author                     author_flair_text  \\\n",
       "0           1.0      NaN  NaN    -Ai  This user has not yet been verified.   \n",
       "1           1.0      NaN  NaN    -SY  This user has not yet been verified.   \n",
       "\n",
       "   downs  created_utc subreddit_id    link_id   parent_id  score  \\\n",
       "0    NaN   1513411674     t5_2xtuc  t3_7k5x2h   t3_7k5x2h      0   \n",
       "1    NaN   1445798103     t5_2xtuc  t3_3q697b  t1_cwcf958      2   \n",
       "\n",
       "   retrieved_on  controversiality  gilded       id subreddit  ups  \\\n",
       "0  1.514772e+09                 0       0  drbt2db   AskDocs  NaN   \n",
       "1  1.447190e+09                 0       0  cwcfjpr   AskDocs  2.0   \n",
       "\n",
       "  distinguished author_flair_css_class  removal_reason  \n",
       "0           NaN                default             NaN  \n",
       "1           NaN                default             NaN  "
      ]
     },
     "execution_count": 4,
     "metadata": {},
     "output_type": "execute_result"
    }
   ],
   "source": [
    "path_to_data = '../data/reddit_comments_askDocs_2014_to_2018_03.gz'\n",
    "df = pd.read_csv(path_to_data,dtype={'body':str,'score_hidden':float},low_memory=False)\n",
    "print('Shape',df.shape)\n",
    "df.head(2)"
   ]
  },
  {
   "cell_type": "markdown",
   "metadata": {},
   "source": [
    "**Using ETL Loaded Functions**"
   ]
  },
  {
   "cell_type": "code",
   "execution_count": 5,
   "metadata": {},
   "outputs": [
    {
     "name": "stdout",
     "output_type": "stream",
     "text": [
      "Comments Table Shape: (557648, 24)\n",
      "Posts table shape: (43615, 35)\n",
      "30710\n",
      "Final combined table shape: (139535, 28)\n",
      "Turns in conversation for combined posts\n",
      "mean: 4.543633995441224\n",
      "median: 4.0\n",
      "min: 2\n",
      "max: 106\n",
      "Count of where turns equals 2: 7843\n"
     ]
    }
   ],
   "source": [
    "df = data_instance.load_full_thread()\n",
    "import numpy as np\n",
    "print('Turns in conversation for combined posts')\n",
    "v = df['link_id_short'].value_counts().values\n",
    "print('mean:', np.mean(v))\n",
    "print('median:', np.median(v) )\n",
    "print('min:',min(v))\n",
    "print('max:',max(v))\n",
    "print('Count of where turns equals 2:',sum(v==2))"
   ]
  },
  {
   "cell_type": "code",
   "execution_count": 6,
   "metadata": {},
   "outputs": [
    {
     "data": {
      "text/html": [
       "<div>\n",
       "<style scoped>\n",
       "    .dataframe tbody tr th:only-of-type {\n",
       "        vertical-align: middle;\n",
       "    }\n",
       "\n",
       "    .dataframe tbody tr th {\n",
       "        vertical-align: top;\n",
       "    }\n",
       "\n",
       "    .dataframe thead th {\n",
       "        text-align: right;\n",
       "    }\n",
       "</style>\n",
       "<table border=\"1\" class=\"dataframe\">\n",
       "  <thead>\n",
       "    <tr style=\"text-align: right;\">\n",
       "      <th></th>\n",
       "      <th>counts</th>\n",
       "    </tr>\n",
       "  </thead>\n",
       "  <tbody>\n",
       "    <tr>\n",
       "      <th>2nexj3</th>\n",
       "      <td>106</td>\n",
       "    </tr>\n",
       "    <tr>\n",
       "      <th>37o1az</th>\n",
       "      <td>84</td>\n",
       "    </tr>\n",
       "    <tr>\n",
       "      <th>3e4qbd</th>\n",
       "      <td>81</td>\n",
       "    </tr>\n",
       "    <tr>\n",
       "      <th>3hg7cq</th>\n",
       "      <td>63</td>\n",
       "    </tr>\n",
       "    <tr>\n",
       "      <th>2efaaz</th>\n",
       "      <td>56</td>\n",
       "    </tr>\n",
       "  </tbody>\n",
       "</table>\n",
       "</div>"
      ],
      "text/plain": [
       "        counts\n",
       "2nexj3     106\n",
       "37o1az      84\n",
       "3e4qbd      81\n",
       "3hg7cq      63\n",
       "2efaaz      56"
      ]
     },
     "execution_count": 6,
     "metadata": {},
     "output_type": "execute_result"
    }
   ],
   "source": [
    "df_counts = pd.DataFrame(df['link_id_short'].value_counts())\n",
    "df_counts.columns = ['counts']\n",
    "df_counts.head()"
   ]
  },
  {
   "cell_type": "code",
   "execution_count": 18,
   "metadata": {},
   "outputs": [
    {
     "name": "stdout",
     "output_type": "stream",
     "text": [
      "Percentage of posts by medical professionals: 49.0\n",
      "Number of medical medical professionals: 16315\n"
     ]
    }
   ],
   "source": [
    "med_percent = df[df['author_flair_text'] == 'This user has not yet been verified.'].shape[0] / df.shape[0]\n",
    "print('Number of medical medical professionals:',len(df[df['author_flair_text'] == 'This user has not yet been verified.']['author'].unique()))\n",
    "print('Percentage of posts by medical professionals: {}'.format(round(med_percent,3) * 100))"
   ]
  },
  {
   "cell_type": "code",
   "execution_count": 202,
   "metadata": {},
   "outputs": [
    {
     "data": {
      "image/png": "[encoded data removed]",
      "text/plain": [
       "<Figure size 792x576 with 1 Axes>"
      ]
     },
     "metadata": {},
     "output_type": "display_data"
    },
    {
     "data": {
      "text/plain": [
       "<ggplot: (371461538)>"
      ]
     },
     "execution_count": 202,
     "metadata": {},
     "output_type": "execute_result"
    }
   ],
   "source": [
    "breaks = [r for r in range(1,max(df_counts['counts']),5)]\n",
    "ggplot(df_counts, aes(x='counts')) +\\\n",
    "    geom_bar() + \\\n",
    "    ggtitle('Distribution of average number of turns per thread') +\\\n",
    "    theme_bw() + scale_x_discrete(breaks = breaks,labels=breaks)"
   ]
  },
  {
   "cell_type": "code",
   "execution_count": 193,
   "metadata": {},
   "outputs": [],
   "source": [
    "# Get number of words for all entries that started a thread\n",
    "t = df[df['is_thread_start']==1].apply(lambda row: (len(str(row['body']).split()),row['link_id_short']),axis=1).tolist()\n",
    "t_dict = {}\n",
    "for entry in t:\n",
    "    t_dict[entry[1]] = {'initial_len':entry[0]}\n",
    "\n",
    "# Get the number of entries (counting thread start) per thread\n",
    "unique_ids = set(df['link_id_short'])\n",
    "for thread in unique_ids:\n",
    "    count = df[df['link_id_short'] == thread].shape[0]\n",
    "    t_dict[thread]['count'] = count\n",
    "\n",
    "# Extract values\n",
    "x = [] \n",
    "y = []\n",
    "keys = t_dict.keys()\n",
    "for k in keys:\n",
    "    x.append(t_dict[k]['count'])\n",
    "    y.append(t_dict[k]['initial_len'])\n",
    "\n",
    "df_test = pd.DataFrame(np.column_stack([x,y]),columns=['count','# words thread start'])"
   ]
  },
  {
   "cell_type": "code",
   "execution_count": 200,
   "metadata": {},
   "outputs": [
    {
     "data": {
      "image/png": "[encoded data removed]",
      "text/plain": [
       "<Figure size 792x576 with 1 Axes>"
      ]
     },
     "metadata": {},
     "output_type": "display_data"
    },
    {
     "data": {
      "text/plain": [
       "<ggplot: (-9223372036483300138)>"
      ]
     },
     "execution_count": 200,
     "metadata": {},
     "output_type": "execute_result"
    }
   ],
   "source": [
    "ggplot(df_test,aes(x='count',y='# words thread start')) + geom_jitter() + theme_bw() + ggtitle(\"Examining potential verbosity to quantity of responses\")"
   ]
  },
  {
   "cell_type": "code",
   "execution_count": 85,
   "metadata": {},
   "outputs": [
    {
     "name": "stdout",
     "output_type": "stream",
     "text": [
      "Mean num words for thread start: 170.70797785737545\n",
      "Mean num words for non-thread start: 47.11861245118309\n"
     ]
    }
   ],
   "source": [
    "thread_start_count = df[df['is_thread_start']==1]['body'].apply(lambda r: len(str(r).split()))\n",
    "print('Mean num words for thread start:',np.mean(thread_start_count))\n",
    "nonthread_start_count = df[df['is_thread_start']==0]['body'].apply(lambda r: len(str(r).split()))\n",
    "print('Mean num words for non-thread start:',np.mean(nonthread_start_count))"
   ]
  },
  {
   "cell_type": "code",
   "execution_count": 197,
   "metadata": {},
   "outputs": [
    {
     "data": {
      "image/png": "[encoded data removed]",
      "text/plain": [
       "<Figure size 792x576 with 1 Axes>"
      ]
     },
     "metadata": {},
     "output_type": "display_data"
    },
    {
     "data": {
      "text/plain": [
       "<ggplot: (368557874)>"
      ]
     },
     "execution_count": 197,
     "metadata": {},
     "output_type": "execute_result"
    }
   ],
   "source": [
    "df_start = pd.DataFrame(thread_start_count)\n",
    "breaks = [1,50,100,200,500,1000]\n",
    "ggplot(df_start, aes(x='body')) +\\\n",
    "    geom_bar() + \\\n",
    "    ggtitle('Distribution of Average Number of Words for Thread Start') +\\\n",
    "    theme_bw() + scale_x_discrete(breaks = breaks ,labels=breaks)"
   ]
  },
  {
   "cell_type": "code",
   "execution_count": 14,
   "metadata": {},
   "outputs": [
    {
     "name": "stdout",
     "output_type": "stream",
     "text": [
      "Number of users 26353\n",
      "Global mean number of posts per user 5.294843091868098\n"
     ]
    }
   ],
   "source": [
    "print('Number of users',len(set(df['author'])))\n",
    "print('Global mean number of posts per user',len(df)/len(set(df['author'])))"
   ]
  },
  {
   "cell_type": "code",
   "execution_count": null,
   "metadata": {},
   "outputs": [],
   "source": [
    "df"
   ]
  },
  {
   "cell_type": "code",
   "execution_count": 13,
   "metadata": {},
   "outputs": [
    {
     "data": {
      "text/plain": [
       "(139535, 28)"
      ]
     },
     "execution_count": 13,
     "metadata": {},
     "output_type": "execute_result"
    }
   ],
   "source": [
    "df.shape"
   ]
  },
  {
   "cell_type": "markdown",
   "metadata": {},
   "source": [
    "**Histogram of utterances lengths**"
   ]
  },
  {
   "cell_type": "code",
   "execution_count": null,
   "metadata": {},
   "outputs": [],
   "source": [
    "utterance_lengths = df['body'].apply(lambda c: len(str(c)))\n",
    "df_lengths = pd.DataFrame(utterance_lengths)"
   ]
  },
  {
   "cell_type": "code",
   "execution_count": null,
   "metadata": {},
   "outputs": [],
   "source": [
    "ggplot(df_lengths,aes(x='body')) + geom_histogram() +theme_bw()"
   ]
  },
  {
   "cell_type": "code",
   "execution_count": 15,
   "metadata": {},
   "outputs": [
    {
     "data": {
      "image/png": "[encoded data removed]",
      "text/plain": [
       "<Figure size 576x432 with 1 Axes>"
      ]
     },
     "metadata": {},
     "output_type": "display_data"
    }
   ],
   "source": [
    "from matplotlib import pyplot as plt\n",
    "%matplotlib inline\n",
    "\n",
    "# Document lengths.\n",
    "lens = utterance_lengths\n",
    "\n",
    "# Plot.\n",
    "plt.rc('figure', figsize=(8,6))\n",
    "plt.rc('font', size=14)\n",
    "plt.rc('lines', linewidth=2)\n",
    "plt.rc('axes')\n",
    "# Histogram.\n",
    "plt.hist(lens, bins=20)\n",
    "\n",
    "# Average length.\n",
    "avg_len = sum(lens) / float(len(lens))\n",
    "plt.axvline(avg_len, color='#e41a1c')\n",
    "plt.title('Histogram of document lengths.')\n",
    "plt.xlabel('Length')\n",
    "plt.text(1020, 100800, 'mean num words= %.2f' % avg_len)\n",
    "plt.show()\n"
   ]
  },
  {
   "cell_type": "markdown",
   "metadata": {},
   "source": [
    "## Data Dictionary:\n",
    "Original post can be seen with the link_id\n",
    "* **link_id** Link to the page where the original thread was started\n",
    "    * **id** A posts id. The only reason this may not be unique\n",
    "    * **parent_id** These ids are pointing back towards the original post and represent a new comment that is replying directly towards the original posting. Can be considered a general comment. I.e. All posts with the same parent_id (following the \"_\") as the link_id are. E.g. If the link_id is \"t3_827pgt\", all parent_id's with \"827pgt\" are pointing towards that original post.\n",
    "\n",
    "* **subreddit_id** and **subreddit** Irrelevant\n",
    "\n",
    "\n",
    "### Documentation:\n",
    "* Figuring out how to organize a reply and response is tricky:\n",
    "    * On one hand, the people asking the questions should be the non-clinician folks and the clinicians answering the questions. But it is a community forum so people can chime in with ''answers'' whenever. Ansd they might be correct.\n",
    "     *  Also, it is likely that clinicians will ask follow-up questions if it is more debate than answer so perhaps drilling down into a solution\n",
    "     * This latest point gets at how to utilize the id's and parent_ids\n",
    "     \n",
    "* <b>There are 2 reasonably straightforward ways of getting to the reply/response//question/answer pairs:</b>\n",
    "    * 1) Treat each main post as the 1 question (then randomly select 1 response or have each comment in that thread be a response to the same question repeated for each response\n",
    "    * 2) Treat each id (starting with the original thread) as the question and each subsequent post that has that id as its parent (**i.e. parent_id**)"
   ]
  },
  {
   "cell_type": "code",
   "execution_count": null,
   "metadata": {},
   "outputs": [],
   "source": [
    "print('Number of rows:',df.shape[0])\n",
    "print('Number of unique posters:',len(df.author.unique()))\n",
    "print()\n",
    "print('Number of link_ids:',len(df.link_id.unique()))\n",
    "print('Number of parent_ids:',len(df.parent_id.unique()))\n",
    "print('Number of ids:',len(df.id.unique()))"
   ]
  },
  {
   "cell_type": "code",
   "execution_count": null,
   "metadata": {},
   "outputs": [],
   "source": [
    "print('Proportion of unique links to num rows:',len(df['link_id'].unique())/df.shape[0])\n",
    "print('Proportion of unique ids to num rows:',len(df['id'].unique())/df.shape[0])\n",
    "print('Proportion of unique parent ids to num rows:',len(df['parent_id'].unique())/df.shape[0])"
   ]
  },
  {
   "cell_type": "markdown",
   "metadata": {},
   "source": [
    "## Medical Entity Extraction with UMLS"
   ]
  },
  {
   "cell_type": "code",
   "execution_count": 2,
   "metadata": {},
   "outputs": [],
   "source": [
    "import sys\n",
    "# UMLS\n",
    "# Set absolute path the QuickUMLS Server\n",
    "abs_path_umls = '/Users/austinpowell/Google_Drive/kp_datascience/doctor_notes/ontology/UMLS'\n",
    "abs_path_data_umls = '/Users/austinpowell/Google_Drive/kp_datascience/doctor_notes/ontology/UMLS/QuickUMLS_db'\n",
    "sys.path.append(abs_path_umls+'/QuickUMLS')\n",
    "from quickumls import QuickUMLS\n",
    "tagger = QuickUMLS(abs_path_data_umls)"
   ]
  },
  {
   "cell_type": "code",
   "execution_count": 3,
   "metadata": {},
   "outputs": [],
   "source": [
    "# Load semantic types\n",
    "sem_type_dict = load_sem_types('../data/SemGroups_2013.txt')"
   ]
  },
  {
   "cell_type": "code",
   "execution_count": 4,
   "metadata": {},
   "outputs": [
    {
     "data": {
      "text/plain": [
       "\"She's had it for 8 months, we've never had any issues with it before.\""
      ]
     },
     "execution_count": 4,
     "metadata": {},
     "output_type": "execute_result"
    }
   ],
   "source": [
    "t = tagger.nlp(df['body'].iloc[4])\n",
    "t.text"
   ]
  },
  {
   "cell_type": "code",
   "execution_count": 7,
   "metadata": {},
   "outputs": [
    {
     "name": "stdout",
     "output_type": "stream",
     "text": [
      "[{'start': 19, 'end': 25, 'ngram': 'months', 'term': 'month', 'cui': 'C1561542', 'similarity': 0.75, 'semtypes': {'T170'}, 'preferred': 1}] \n",
      "\n",
      "[{'start': 47, 'end': 53, 'ngram': 'issues', 'term': 'issue', 'cui': 'C0033213', 'similarity': 0.75, 'semtypes': {'T033'}, 'preferred': 1}, {'start': 47, 'end': 53, 'ngram': 'issues', 'term': 'issue', 'cui': 'C1706387', 'similarity': 0.75, 'semtypes': {'T170'}, 'preferred': 1}] \n",
      "\n",
      "{'start': 47, 'end': 53, 'ngram': 'issues', 'term': 'issue', 'cui': 'C0033213', 'similarity': 0.75, 'semtypes': {'T033'}, 'preferred': 1}\n",
      "{'start': 47, 'end': 53, 'ngram': 'issues', 'term': 'issue', 'cui': 'C1706387', 'similarity': 0.75, 'semtypes': {'T170'}, 'preferred': 1}\n"
     ]
    }
   ],
   "source": [
    "t = tagger.nlp(t.text)\n",
    "\n",
    "s = t\n",
    "matches= tagger.match(s, best_match=True, ignore_syntax=False)\n",
    "for match in matches:\n",
    "    dir(match)\n",
    "    print(match,'\\n')\n",
    "for m in match:\n",
    "    print(m)"
   ]
  },
  {
   "cell_type": "code",
   "execution_count": null,
   "metadata": {},
   "outputs": [],
   "source": [
    "sd = load_sem_types('../data/SemGroups_2013.txt')"
   ]
  },
  {
   "cell_type": "code",
   "execution_count": 11,
   "metadata": {},
   "outputs": [
    {
     "name": "stdout",
     "output_type": "stream",
     "text": [
      "{'T170'}\n"
     ]
    },
    {
     "data": {
      "text/plain": [
       "[[1, 19, 25, 'month', 'C1561542', 0.75, {'Intellectual Product'}]]"
      ]
     },
     "execution_count": 11,
     "metadata": {},
     "output_type": "execute_result"
    }
   ],
   "source": [
    "import importlib\n",
    "from processing import tag_utterances\n",
    "from processing import load_sem_types\n",
    "\n",
    "tag_utterances(1, t.text, tagger)"
   ]
  },
  {
   "cell_type": "code",
   "execution_count": 8,
   "metadata": {},
   "outputs": [
    {
     "data": {
      "text/plain": [
       "(557648, 21)"
      ]
     },
     "execution_count": 8,
     "metadata": {},
     "output_type": "execute_result"
    }
   ],
   "source": [
    "df.shape"
   ]
  },
  {
   "cell_type": "code",
   "execution_count": null,
   "metadata": {},
   "outputs": [],
   "source": [
    "%%time\n",
    "print('Iterating over every document')\n",
    "#Iterate over every document and extract the concepts\n",
    "i=-1        \n",
    "result = []\n",
    "for idx,doc in  enumerate(df['body']):\n",
    "\n",
    "    if idx % 10000 == 0:\n",
    "        print(\"Documents processed: {}\".format(idx))\n",
    "    try:\n",
    "        i+=1\n",
    "        annotations = tag_utterances(i,doc,tagger)\n",
    "        result.extend(annotations)\n",
    "    except Exception as e:\n",
    "        print(e)\n",
    "        \n",
    "df_matches = pd.DataFrame(data=result, columns =['document','start','end','term','cui','similarity','semtypes'])\n",
    "df_matches.sort_values(by=['document','start'],inplace=True)"
   ]
  },
  {
   "cell_type": "code",
   "execution_count": 6,
   "metadata": {},
   "outputs": [
    {
     "data": {
      "text/html": [
       "<div>\n",
       "<style scoped>\n",
       "    .dataframe tbody tr th:only-of-type {\n",
       "        vertical-align: middle;\n",
       "    }\n",
       "\n",
       "    .dataframe tbody tr th {\n",
       "        vertical-align: top;\n",
       "    }\n",
       "\n",
       "    .dataframe thead th {\n",
       "        text-align: right;\n",
       "    }\n",
       "</style>\n",
       "<table border=\"1\" class=\"dataframe\">\n",
       "  <thead>\n",
       "    <tr style=\"text-align: right;\">\n",
       "      <th></th>\n",
       "      <th>body</th>\n",
       "      <th>score_hidden</th>\n",
       "      <th>archived</th>\n",
       "      <th>name</th>\n",
       "      <th>author</th>\n",
       "      <th>author_flair_text</th>\n",
       "      <th>downs</th>\n",
       "      <th>created_utc</th>\n",
       "      <th>subreddit_id</th>\n",
       "      <th>link_id</th>\n",
       "      <th>...</th>\n",
       "      <th>score</th>\n",
       "      <th>retrieved_on</th>\n",
       "      <th>controversiality</th>\n",
       "      <th>gilded</th>\n",
       "      <th>id</th>\n",
       "      <th>subreddit</th>\n",
       "      <th>ups</th>\n",
       "      <th>distinguished</th>\n",
       "      <th>author_flair_css_class</th>\n",
       "      <th>removal_reason</th>\n",
       "    </tr>\n",
       "  </thead>\n",
       "  <tbody>\n",
       "    <tr>\n",
       "      <th>0</th>\n",
       "      <td>for a manlet such as yourself I'd recommend at...</td>\n",
       "      <td>NaN</td>\n",
       "      <td>NaN</td>\n",
       "      <td>NaN</td>\n",
       "      <td>-Ai</td>\n",
       "      <td>This user has not yet been verified.</td>\n",
       "      <td>NaN</td>\n",
       "      <td>1513411674</td>\n",
       "      <td>t5_2xtuc</td>\n",
       "      <td>t3_7k5x2h</td>\n",
       "      <td>...</td>\n",
       "      <td>0</td>\n",
       "      <td>1.514772e+09</td>\n",
       "      <td>0</td>\n",
       "      <td>0</td>\n",
       "      <td>drbt2db</td>\n",
       "      <td>AskDocs</td>\n",
       "      <td>NaN</td>\n",
       "      <td>NaN</td>\n",
       "      <td>default</td>\n",
       "      <td>NaN</td>\n",
       "    </tr>\n",
       "    <tr>\n",
       "      <th>1</th>\n",
       "      <td>Thank you very much for answering!</td>\n",
       "      <td>NaN</td>\n",
       "      <td>NaN</td>\n",
       "      <td>NaN</td>\n",
       "      <td>-SY</td>\n",
       "      <td>This user has not yet been verified.</td>\n",
       "      <td>NaN</td>\n",
       "      <td>1445798103</td>\n",
       "      <td>t5_2xtuc</td>\n",
       "      <td>t3_3q697b</td>\n",
       "      <td>...</td>\n",
       "      <td>2</td>\n",
       "      <td>1.447190e+09</td>\n",
       "      <td>0</td>\n",
       "      <td>0</td>\n",
       "      <td>cwcfjpr</td>\n",
       "      <td>AskDocs</td>\n",
       "      <td>2.0</td>\n",
       "      <td>NaN</td>\n",
       "      <td>default</td>\n",
       "      <td>NaN</td>\n",
       "    </tr>\n",
       "    <tr>\n",
       "      <th>2</th>\n",
       "      <td>Never been tested for that.  I was hoping the ...</td>\n",
       "      <td>NaN</td>\n",
       "      <td>NaN</td>\n",
       "      <td>NaN</td>\n",
       "      <td>-o2</td>\n",
       "      <td>This user has not yet been verified.</td>\n",
       "      <td>NaN</td>\n",
       "      <td>1461952470</td>\n",
       "      <td>t5_2xtuc</td>\n",
       "      <td>t3_4gz1fi</td>\n",
       "      <td>...</td>\n",
       "      <td>1</td>\n",
       "      <td>1.463777e+09</td>\n",
       "      <td>0</td>\n",
       "      <td>0</td>\n",
       "      <td>d2mce34</td>\n",
       "      <td>AskDocs</td>\n",
       "      <td>1.0</td>\n",
       "      <td>NaN</td>\n",
       "      <td>default</td>\n",
       "      <td>NaN</td>\n",
       "    </tr>\n",
       "    <tr>\n",
       "      <th>3</th>\n",
       "      <td>She said her constant abdominal pain is a 6, t...</td>\n",
       "      <td>NaN</td>\n",
       "      <td>NaN</td>\n",
       "      <td>NaN</td>\n",
       "      <td>05P</td>\n",
       "      <td>This user has not yet been verified.</td>\n",
       "      <td>NaN</td>\n",
       "      <td>1504214332</td>\n",
       "      <td>t5_2xtuc</td>\n",
       "      <td>t3_6x9jk0</td>\n",
       "      <td>...</td>\n",
       "      <td>1</td>\n",
       "      <td>1.504553e+09</td>\n",
       "      <td>0</td>\n",
       "      <td>0</td>\n",
       "      <td>dme9lzr</td>\n",
       "      <td>AskDocs</td>\n",
       "      <td>NaN</td>\n",
       "      <td>NaN</td>\n",
       "      <td>default</td>\n",
       "      <td>NaN</td>\n",
       "    </tr>\n",
       "    <tr>\n",
       "      <th>4</th>\n",
       "      <td>She's had it for 8 months, we've never had any...</td>\n",
       "      <td>NaN</td>\n",
       "      <td>NaN</td>\n",
       "      <td>NaN</td>\n",
       "      <td>05P</td>\n",
       "      <td>This user has not yet been verified.</td>\n",
       "      <td>NaN</td>\n",
       "      <td>1504217835</td>\n",
       "      <td>t5_2xtuc</td>\n",
       "      <td>t3_6x9jk0</td>\n",
       "      <td>...</td>\n",
       "      <td>1</td>\n",
       "      <td>1.504554e+09</td>\n",
       "      <td>0</td>\n",
       "      <td>0</td>\n",
       "      <td>dmecohs</td>\n",
       "      <td>AskDocs</td>\n",
       "      <td>NaN</td>\n",
       "      <td>NaN</td>\n",
       "      <td>default</td>\n",
       "      <td>NaN</td>\n",
       "    </tr>\n",
       "  </tbody>\n",
       "</table>\n",
       "<p>5 rows × 21 columns</p>\n",
       "</div>"
      ],
      "text/plain": [
       "                                                body score_hidden archived  \\\n",
       "0  for a manlet such as yourself I'd recommend at...          NaN      NaN   \n",
       "1                 Thank you very much for answering!          NaN      NaN   \n",
       "2  Never been tested for that.  I was hoping the ...          NaN      NaN   \n",
       "3  She said her constant abdominal pain is a 6, t...          NaN      NaN   \n",
       "4  She's had it for 8 months, we've never had any...          NaN      NaN   \n",
       "\n",
       "  name author                     author_flair_text  downs  created_utc  \\\n",
       "0  NaN    -Ai  This user has not yet been verified.    NaN   1513411674   \n",
       "1  NaN    -SY  This user has not yet been verified.    NaN   1445798103   \n",
       "2  NaN    -o2  This user has not yet been verified.    NaN   1461952470   \n",
       "3  NaN    05P  This user has not yet been verified.    NaN   1504214332   \n",
       "4  NaN    05P  This user has not yet been verified.    NaN   1504217835   \n",
       "\n",
       "  subreddit_id    link_id      ...       score  retrieved_on  \\\n",
       "0     t5_2xtuc  t3_7k5x2h      ...           0  1.514772e+09   \n",
       "1     t5_2xtuc  t3_3q697b      ...           2  1.447190e+09   \n",
       "2     t5_2xtuc  t3_4gz1fi      ...           1  1.463777e+09   \n",
       "3     t5_2xtuc  t3_6x9jk0      ...           1  1.504553e+09   \n",
       "4     t5_2xtuc  t3_6x9jk0      ...           1  1.504554e+09   \n",
       "\n",
       "   controversiality  gilded       id subreddit  ups  distinguished  \\\n",
       "0                 0       0  drbt2db   AskDocs  NaN            NaN   \n",
       "1                 0       0  cwcfjpr   AskDocs  2.0            NaN   \n",
       "2                 0       0  d2mce34   AskDocs  1.0            NaN   \n",
       "3                 0       0  dme9lzr   AskDocs  NaN            NaN   \n",
       "4                 0       0  dmecohs   AskDocs  NaN            NaN   \n",
       "\n",
       "  author_flair_css_class removal_reason  \n",
       "0                default            NaN  \n",
       "1                default            NaN  \n",
       "2                default            NaN  \n",
       "3                default            NaN  \n",
       "4                default            NaN  \n",
       "\n",
       "[5 rows x 21 columns]"
      ]
     },
     "execution_count": 6,
     "metadata": {},
     "output_type": "execute_result"
    }
   ],
   "source": [
    "df.head()"
   ]
  },
  {
   "cell_type": "markdown",
   "metadata": {},
   "source": [
    "### Data Journal\n",
    "\n",
    "* **Creating training data**\n",
    "    * A lot of decisions have to be made when creating the conversational data. We could just give line by line\n",
    "    * Even deciding what an utterance is can be difficult. Is it split by sentence? Do we assume that people are going to be generally giving one answer?\n",
    "    * Should the title or actual post be used as the query?"
   ]
  },
  {
   "cell_type": "code",
   "execution_count": null,
   "metadata": {},
   "outputs": [],
   "source": []
  }
 ],
 "metadata": {
  "kernelspec": {
   "display_name": "nlp-env",
   "language": "python",
   "name": "nlp-env"
  },
  "language_info": {
   "codemirror_mode": {
    "name": "ipython",
    "version": 3
   },
   "file_extension": ".py",
   "mimetype": "text/x-python",
   "name": "python",
   "nbconvert_exporter": "python",
   "pygments_lexer": "ipython3",
   "version": "3.6.5"
  }
 },
 "nbformat": 4,
 "nbformat_minor": 2
}
