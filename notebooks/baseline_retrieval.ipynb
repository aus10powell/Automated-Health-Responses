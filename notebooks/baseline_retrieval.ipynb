{
 "cells": [
  {
   "cell_type": "markdown",
   "metadata": {},
   "source": [
    "## Purpose:\n",
    "\n",
    "Replicate the TF-IDF Baseline Evaluation but on my data: https://github.com/dennybritz/chatbot-retrieval/blob/master/notebooks/TFIDF%20Baseline%20Evaluation.ipynb"
   ]
  },
  {
   "cell_type": "code",
   "execution_count": 68,
   "metadata": {},
   "outputs": [],
   "source": [
    "import pandas as pd\n",
    "import numpy as np\n",
    "import random\n",
    "import time\n",
    "import os\n",
    "from sklearn.feature_extraction.text import TfidfVectorizer\n",
    "from sklearn.feature_extraction.text import TfidfTransformer"
   ]
  },
  {
   "cell_type": "code",
   "execution_count": 184,
   "metadata": {},
   "outputs": [
    {
     "name": "stdout",
     "output_type": "stream",
     "text": [
      "CPU times: user 5.98 s, sys: 1 s, total: 6.98 s\n",
      "Wall time: 9.28 s\n"
     ]
    }
   ],
   "source": [
    "%%time\n",
    "# Load Data\n",
    "train_df = pd.read_csv(\"../../data/option3_data/train.csv\")\n",
    "test_df = pd.read_csv(\"../../data/option3_data/test.csv\")\n",
    "val_df = pd.read_csv(\"../../data/option3_data/valid.csv\")\n",
    "y_test = np.zeros(len(test_df))"
   ]
  },
  {
   "cell_type": "code",
   "execution_count": 189,
   "metadata": {},
   "outputs": [],
   "source": [
    "# Force any times to string that may be numpy objects\n",
    "def to_string(dataframe):\n",
    "    for c in dataframe.columns:\n",
    "        dataframe[c] = dataframe[c].apply(lambda r: str(r))\n",
    "    return dataframe\n",
    "\n",
    "test_df = to_string(test_df)\n",
    "val_df = to_string(val_df)"
   ]
  },
  {
   "cell_type": "code",
   "execution_count": 91,
   "metadata": {},
   "outputs": [
    {
     "data": {
      "text/html": [
       "<div>\n",
       "<style scoped>\n",
       "    .dataframe tbody tr th:only-of-type {\n",
       "        vertical-align: middle;\n",
       "    }\n",
       "\n",
       "    .dataframe tbody tr th {\n",
       "        vertical-align: top;\n",
       "    }\n",
       "\n",
       "    .dataframe thead th {\n",
       "        text-align: right;\n",
       "    }\n",
       "</style>\n",
       "<table border=\"1\" class=\"dataframe\">\n",
       "  <thead>\n",
       "    <tr style=\"text-align: right;\">\n",
       "      <th></th>\n",
       "      <th>Context</th>\n",
       "      <th>Ground Truth Utterance</th>\n",
       "      <th>Distractor_0</th>\n",
       "      <th>Distractor_1</th>\n",
       "      <th>Distractor_2</th>\n",
       "      <th>Distractor_3</th>\n",
       "      <th>Distractor_4</th>\n",
       "      <th>Distractor_5</th>\n",
       "      <th>Distractor_6</th>\n",
       "      <th>Distractor_7</th>\n",
       "      <th>Distractor_8</th>\n",
       "    </tr>\n",
       "  </thead>\n",
       "  <tbody>\n",
       "    <tr>\n",
       "      <th>0</th>\n",
       "      <td>&amp;gt; Cushing's syndrome Typically it is caused...</td>\n",
       "      <td>Thanks for the information, I'll be sure to sc...</td>\n",
       "      <td>It is facing the opposite direction of the oth...</td>\n",
       "      <td>&amp;gt;You can't say that trying to get pregnant ...</td>\n",
       "      <td>Call your pediatrician's office on your own an...</td>\n",
       "      <td>looks like either an allergic reaction to a de...</td>\n",
       "      <td>Any chance you are actually just really sore? ...</td>\n",
       "      <td>I am not a doctor or expert of any kind, but y...</td>\n",
       "      <td>Yep. Only alcohol I can touch now is one brand...</td>\n",
       "      <td>Most often its not painful. I've only ever see...</td>\n",
       "      <td>I get it. I've yet to meet someone who says \"Y...</td>\n",
       "    </tr>\n",
       "    <tr>\n",
       "      <th>1</th>\n",
       "      <td>is there any chance it will die down given time?</td>\n",
       "      <td>if its thrombosed (clotted)? no although warm ...</td>\n",
       "      <td>It sounds like when you hurt your finger, inst...</td>\n",
       "      <td>Thanks. That's good to know.</td>\n",
       "      <td>I don't growing pains that often anymore :/</td>\n",
       "      <td>I don't know if you have one near you, but Dol...</td>\n",
       "      <td>Have you had a pap to check for cervical infec...</td>\n",
       "      <td>So that stuff about toxins in my body and seri...</td>\n",
       "      <td>You can't just get TPN at the ER. Though it ma...</td>\n",
       "      <td>I understand both is not optimum, but of the t...</td>\n",
       "      <td>no. This is nit muscle pain</td>\n",
       "    </tr>\n",
       "    <tr>\n",
       "      <th>2</th>\n",
       "      <td>It feels rather unpleasant all the time, but l...</td>\n",
       "      <td>I'm not shocked that you don't have a tongue p...</td>\n",
       "      <td>See your GP.</td>\n",
       "      <td>The brain damage was suggested by a medical st...</td>\n",
       "      <td>Male or female is relevant. And height for tha...</td>\n",
       "      <td>This looks like petechiae/purpura. Does it bla...</td>\n",
       "      <td>Well, unless I contracted Aids from jacking of...</td>\n",
       "      <td>Nothing to be ashamed about, has nothing to do...</td>\n",
       "      <td>I don't think that's the issue. I also notice ...</td>\n",
       "      <td>&amp;gt;I was wondering what this meant for her. O...</td>\n",
       "      <td>I would definitely talk to your doctor about g...</td>\n",
       "    </tr>\n",
       "    <tr>\n",
       "      <th>3</th>\n",
       "      <td>I see, I apologize. Age 21 Sex Male Height 5'1...</td>\n",
       "      <td>[^(**Mouseover** to view the metric conversion...</td>\n",
       "      <td>I don't have an infection. a pharmacist said i...</td>\n",
       "      <td>The shellfish part seems like a case of food p...</td>\n",
       "      <td>The only idea I have is diet. I'm in Norway so...</td>\n",
       "      <td>Well, you mention that taking off your coat he...</td>\n",
       "      <td>This EXACT thing happened to my boyfriend (21 ...</td>\n",
       "      <td>Thanks, awesome explanation :)</td>\n",
       "      <td>I'm not a doctor but I did have my gallbladder...</td>\n",
       "      <td>thanks for the correction, will change my post...</td>\n",
       "      <td>Ahh ok. I'll go ahead and do that. Your answer...</td>\n",
       "    </tr>\n",
       "    <tr>\n",
       "      <th>4</th>\n",
       "      <td>28yo Male 6'1 175lbs Caucasian I'm a healthy g...</td>\n",
       "      <td>No. You cannot sweat it out. The vaccine is in...</td>\n",
       "      <td>Im 13, I get them all the time. Honestly, they...</td>\n",
       "      <td>Provigil is a huge wild card and likely respon...</td>\n",
       "      <td>TC is made up of LDL, HDL, and VLDL. I would a...</td>\n",
       "      <td>Hi, I think I may be of some help here. One of...</td>\n",
       "      <td>VARICOCELES. Ugh. Better than something wrong ...</td>\n",
       "      <td>OH one more thing. the clear nails pro stuff I...</td>\n",
       "      <td>&amp;gt;As my period is due in 3 days If your peri...</td>\n",
       "      <td>What about niacin it raises HDLs mainly and it...</td>\n",
       "      <td>kidney stone</td>\n",
       "    </tr>\n",
       "  </tbody>\n",
       "</table>\n",
       "</div>"
      ],
      "text/plain": [
       "                                             Context  \\\n",
       "0  &gt; Cushing's syndrome Typically it is caused...   \n",
       "1   is there any chance it will die down given time?   \n",
       "2  It feels rather unpleasant all the time, but l...   \n",
       "3  I see, I apologize. Age 21 Sex Male Height 5'1...   \n",
       "4  28yo Male 6'1 175lbs Caucasian I'm a healthy g...   \n",
       "\n",
       "                              Ground Truth Utterance  \\\n",
       "0  Thanks for the information, I'll be sure to sc...   \n",
       "1  if its thrombosed (clotted)? no although warm ...   \n",
       "2  I'm not shocked that you don't have a tongue p...   \n",
       "3  [^(**Mouseover** to view the metric conversion...   \n",
       "4  No. You cannot sweat it out. The vaccine is in...   \n",
       "\n",
       "                                        Distractor_0  \\\n",
       "0  It is facing the opposite direction of the oth...   \n",
       "1  It sounds like when you hurt your finger, inst...   \n",
       "2                                       See your GP.   \n",
       "3  I don't have an infection. a pharmacist said i...   \n",
       "4  Im 13, I get them all the time. Honestly, they...   \n",
       "\n",
       "                                        Distractor_1  \\\n",
       "0  &gt;You can't say that trying to get pregnant ...   \n",
       "1                       Thanks. That's good to know.   \n",
       "2  The brain damage was suggested by a medical st...   \n",
       "3  The shellfish part seems like a case of food p...   \n",
       "4  Provigil is a huge wild card and likely respon...   \n",
       "\n",
       "                                        Distractor_2  \\\n",
       "0  Call your pediatrician's office on your own an...   \n",
       "1        I don't growing pains that often anymore :/   \n",
       "2  Male or female is relevant. And height for tha...   \n",
       "3  The only idea I have is diet. I'm in Norway so...   \n",
       "4  TC is made up of LDL, HDL, and VLDL. I would a...   \n",
       "\n",
       "                                        Distractor_3  \\\n",
       "0  looks like either an allergic reaction to a de...   \n",
       "1  I don't know if you have one near you, but Dol...   \n",
       "2  This looks like petechiae/purpura. Does it bla...   \n",
       "3  Well, you mention that taking off your coat he...   \n",
       "4  Hi, I think I may be of some help here. One of...   \n",
       "\n",
       "                                        Distractor_4  \\\n",
       "0  Any chance you are actually just really sore? ...   \n",
       "1  Have you had a pap to check for cervical infec...   \n",
       "2  Well, unless I contracted Aids from jacking of...   \n",
       "3  This EXACT thing happened to my boyfriend (21 ...   \n",
       "4  VARICOCELES. Ugh. Better than something wrong ...   \n",
       "\n",
       "                                        Distractor_5  \\\n",
       "0  I am not a doctor or expert of any kind, but y...   \n",
       "1  So that stuff about toxins in my body and seri...   \n",
       "2  Nothing to be ashamed about, has nothing to do...   \n",
       "3                     Thanks, awesome explanation :)   \n",
       "4  OH one more thing. the clear nails pro stuff I...   \n",
       "\n",
       "                                        Distractor_6  \\\n",
       "0  Yep. Only alcohol I can touch now is one brand...   \n",
       "1  You can't just get TPN at the ER. Though it ma...   \n",
       "2  I don't think that's the issue. I also notice ...   \n",
       "3  I'm not a doctor but I did have my gallbladder...   \n",
       "4  &gt;As my period is due in 3 days If your peri...   \n",
       "\n",
       "                                        Distractor_7  \\\n",
       "0  Most often its not painful. I've only ever see...   \n",
       "1  I understand both is not optimum, but of the t...   \n",
       "2  &gt;I was wondering what this meant for her. O...   \n",
       "3  thanks for the correction, will change my post...   \n",
       "4  What about niacin it raises HDLs mainly and it...   \n",
       "\n",
       "                                        Distractor_8  \n",
       "0  I get it. I've yet to meet someone who says \"Y...  \n",
       "1                        no. This is nit muscle pain  \n",
       "2  I would definitely talk to your doctor about g...  \n",
       "3  Ahh ok. I'll go ahead and do that. Your answer...  \n",
       "4                                       kidney stone  "
      ]
     },
     "execution_count": 91,
     "metadata": {},
     "output_type": "execute_result"
    }
   ],
   "source": [
    "test_df.head()"
   ]
  },
  {
   "cell_type": "code",
   "execution_count": 112,
   "metadata": {},
   "outputs": [
    {
     "data": {
      "text/plain": [
       "Context                   &gt; Cushing's syndrome Typically it is caused...\n",
       "Ground Truth Utterance    Thanks for the information, I'll be sure to sc...\n",
       "Distractor_6              Yep. Only alcohol I can touch now is one brand...\n",
       "Distractor_2              Call your pediatrician's office on your own an...\n",
       "Name: 0, dtype: object"
      ]
     },
     "execution_count": 112,
     "metadata": {},
     "output_type": "execute_result"
    }
   ],
   "source": [
    "test_df.iloc[0,[0,1]+random.sample(range(2,11),k)]"
   ]
  },
  {
   "cell_type": "code",
   "execution_count": 163,
   "metadata": {},
   "outputs": [
    {
     "data": {
      "text/html": [
       "<div>\n",
       "<style scoped>\n",
       "    .dataframe tbody tr th:only-of-type {\n",
       "        vertical-align: middle;\n",
       "    }\n",
       "\n",
       "    .dataframe tbody tr th {\n",
       "        vertical-align: top;\n",
       "    }\n",
       "\n",
       "    .dataframe thead th {\n",
       "        text-align: right;\n",
       "    }\n",
       "</style>\n",
       "<table border=\"1\" class=\"dataframe\">\n",
       "  <thead>\n",
       "    <tr style=\"text-align: right;\">\n",
       "      <th></th>\n",
       "      <th>Context</th>\n",
       "      <th>Ground Truth Utterance</th>\n",
       "      <th>Distractor_0</th>\n",
       "      <th>Distractor_1</th>\n",
       "      <th>Distractor_2</th>\n",
       "      <th>Distractor_3</th>\n",
       "      <th>Distractor_4</th>\n",
       "    </tr>\n",
       "  </thead>\n",
       "  <tbody>\n",
       "    <tr>\n",
       "      <th>0</th>\n",
       "      <td>is there any chance it will die down given time?</td>\n",
       "      <td>if its thrombosed (clotted)? no although warm ...</td>\n",
       "      <td>I don't know if you have one near you, but Dol...</td>\n",
       "      <td>I don't growing pains that often anymore :/</td>\n",
       "      <td>I understand both is not optimum, but of the t...</td>\n",
       "      <td>It sounds like when you hurt your finger, inst...</td>\n",
       "      <td>So that stuff about toxins in my body and seri...</td>\n",
       "    </tr>\n",
       "    <tr>\n",
       "      <th>1</th>\n",
       "      <td>is there any chance it will die down given time?</td>\n",
       "      <td>if its thrombosed (clotted)? no although warm ...</td>\n",
       "      <td>I don't know if you have one near you, but Dol...</td>\n",
       "      <td>I don't growing pains that often anymore :/</td>\n",
       "      <td>I understand both is not optimum, but of the t...</td>\n",
       "      <td>It sounds like when you hurt your finger, inst...</td>\n",
       "      <td>So that stuff about toxins in my body and seri...</td>\n",
       "    </tr>\n",
       "  </tbody>\n",
       "</table>\n",
       "</div>"
      ],
      "text/plain": [
       "                                            Context  \\\n",
       "0  is there any chance it will die down given time?   \n",
       "1  is there any chance it will die down given time?   \n",
       "\n",
       "                              Ground Truth Utterance  \\\n",
       "0  if its thrombosed (clotted)? no although warm ...   \n",
       "1  if its thrombosed (clotted)? no although warm ...   \n",
       "\n",
       "                                        Distractor_0  \\\n",
       "0  I don't know if you have one near you, but Dol...   \n",
       "1  I don't know if you have one near you, but Dol...   \n",
       "\n",
       "                                  Distractor_1  \\\n",
       "0  I don't growing pains that often anymore :/   \n",
       "1  I don't growing pains that often anymore :/   \n",
       "\n",
       "                                        Distractor_2  \\\n",
       "0  I understand both is not optimum, but of the t...   \n",
       "1  I understand both is not optimum, but of the t...   \n",
       "\n",
       "                                        Distractor_3  \\\n",
       "0  It sounds like when you hurt your finger, inst...   \n",
       "1  It sounds like when you hurt your finger, inst...   \n",
       "\n",
       "                                        Distractor_4  \n",
       "0  So that stuff about toxins in my body and seri...  \n",
       "1  So that stuff about toxins in my body and seri...  "
      ]
     },
     "execution_count": 163,
     "metadata": {},
     "output_type": "execute_result"
    }
   ],
   "source": [
    "k = 5\n",
    "dataframe_new = pd.DataFrame(columns=['Context','Ground Truth Utterance']+['Distractor_'+str(i) for i in range(0,k)])\n",
    "distractor_row = test_df.iloc[1,[0,1]+random.sample(range(2,11),k)]\n",
    "distractor_row.columns = dataframe_new.columns\n",
    "distractor_row.index = dataframe_new.columns\n",
    "dataframe_new = dataframe_new.append(distractor_row,ignore_index=True)\n",
    "\n"
   ]
  },
  {
   "cell_type": "code",
   "execution_count": 179,
   "metadata": {},
   "outputs": [
    {
     "name": "stdout",
     "output_type": "stream",
     "text": [
      "CPU times: user 1min 4s, sys: 564 ms, total: 1min 5s\n",
      "Wall time: 1min 35s\n"
     ]
    }
   ],
   "source": [
    "%%time\n",
    "\n",
    "\n",
    "def sample_k_utterances(dataframe,k):\n",
    "    \"\"\"\n",
    "    Input: test_df or valid_df with Context\tGround Truth Utterance\tDistractor_0\tDistractor_1\tDistractor_2\tDistractor_3\tDistractor_4\tDistractor_5\tDistractor_6\tDistractor_7\tDistractor_8\n",
    "        columns.\n",
    "    Output:\n",
    "        A new dataframe with k randomly selected distractor columns\n",
    "    \"\"\"\n",
    "    \n",
    "    dataframe_new = pd.DataFrame(columns=['Context','Ground Truth Utterance']+['Distractor_'+str(i) for i in range(0,k)])\n",
    "    # Create a test_df with only 2, 5 possible answers\n",
    "    for row in range(0,len(dataframe)):\n",
    "        # random sample k columns from distractor utterances\n",
    "        distractors = random.sample(range(2,11),k)\n",
    "        new_row = dataframe.iloc[row,[0,1]+random.sample(range(2,11),k)]\n",
    "        new_row.columns = dataframe_new.columns\n",
    "        new_row.index = dataframe_new.columns\n",
    "\n",
    "        dataframe_new = dataframe_new.append(new_row,ignore_index=True)\n",
    "\n",
    "    return dataframe_new\n",
    "\n",
    "\n",
    "# 1 in 2 R@1\n",
    "df_2_test = sample_k_utterances(test_df,2)\n",
    "df_2_test  = to_string(df_2_test )\n",
    "# 1 in 5 R@1\n",
    "df_5_test = sample_k_utterances(test_df,5)\n",
    "df_5_test  = to_string(df_5_test )"
   ]
  },
  {
   "cell_type": "code",
   "execution_count": 12,
   "metadata": {},
   "outputs": [],
   "source": [
    "def evaluate_recall(y, y_test, k=1):\n",
    "    \"\"\"\n",
    "    Compute the Recall @k. That is given a set of n possible answers, compute the percent correct when selecting k values.\n",
    "    \n",
    "    Input:\n",
    "        y: Index set of answers.\n",
    "        y_test: The correct index.\n",
    "    Output:\n",
    "    \"\"\"\n",
    "    num_examples = float(len(y))\n",
    "    num_correct = 0\n",
    "    for predictions, label in zip(y, y_test):\n",
    "        if label in predictions[:k]:\n",
    "            num_correct += 1\n",
    "    return num_correct/num_examples"
   ]
  },
  {
   "cell_type": "code",
   "execution_count": 34,
   "metadata": {},
   "outputs": [],
   "source": [
    "def predict_random(context, utterances):\n",
    "    return np.random.choice(len(utterances), 10, replace=False)"
   ]
  },
  {
   "cell_type": "markdown",
   "metadata": {},
   "source": [
    "Expected values are of course $k*E(x)$. Below function demonstrates that."
   ]
  },
  {
   "cell_type": "code",
   "execution_count": 30,
   "metadata": {},
   "outputs": [
    {
     "name": "stdout",
     "output_type": "stream",
     "text": [
      "Recall @ (1, 10): 0.09752\n",
      "Recall @ (2, 10): 0.202606\n",
      "Recall @ (5, 10): 0.492959\n",
      "Recall @ (10, 10): 1\n",
      "CPU times: user 4.22 s, sys: 40.9 ms, total: 4.26 s\n",
      "Wall time: 6.04 s\n"
     ]
    }
   ],
   "source": [
    "%%time\n",
    "# Evaluate Random predictor\n",
    "# For every context in the test dataframe, \n",
    "y_random = [predict_random(test_df.Context[x], test_df.iloc[x,1:].values) for x in range(len(test_df))]\n",
    "for n in [1, 2, 5, 10]:\n",
    "    print(\"Recall @ ({}, 10): {:g}\".format(n, evaluate_recall(y_random, y_test, n)))"
   ]
  },
  {
   "cell_type": "code",
   "execution_count": 60,
   "metadata": {},
   "outputs": [],
   "source": [
    "class TFIDFPredictor:\n",
    "    \"\"\"\n",
    "    x\n",
    "    \"\"\"\n",
    "    def __init__(self):\n",
    "        self.vectorizer = TfidfVectorizer()\n",
    "\n",
    "    def train(self, data):\n",
    "        data = data.replace(np.nan, 'missing', regex=True)\n",
    "        self.vectorizer.fit(np.append(data.Context.values,data.Utterance.values))\n",
    "\n",
    "    def predict(self, context, utterances):\n",
    "        # Convert context and utterances into tfidf vector\n",
    "        vector_context = self.vectorizer.transform([context])\n",
    "        vector_doc = self.vectorizer.transform(utterances)\n",
    "        # The dot product measures the similarity of the resulting vectors\n",
    "        result = np.dot(vector_doc, vector_context.T).todense()\n",
    "        result = np.asarray(result).flatten()\n",
    "        # Sort by top results and return the indices in descending order\n",
    "        return np.argsort(result, axis=0)[::-1]"
   ]
  },
  {
   "cell_type": "code",
   "execution_count": 190,
   "metadata": {},
   "outputs": [
    {
     "name": "stdout",
     "output_type": "stream",
     "text": [
      "Batch size:  2\n",
      "Recall @ (1, 2): 0.640185\n",
      "Batch size:  5\n",
      "Recall @ (1, 5): 0.544872\n",
      "Recall @ (2, 5): 0.657629\n",
      "Batch size:  10\n",
      "Recall @ (1, 10): 0.48739\n",
      "Recall @ (2, 10): 0.584384\n",
      "Recall @ (5, 10): 0.728457\n",
      "CPU times: user 1min 23s, sys: 889 ms, total: 1min 24s\n",
      "Wall time: 2min 2s\n"
     ]
    }
   ],
   "source": [
    "%%time\n",
    "#pred = TFIDFPredictor()\n",
    "#print(\"Training...\")\n",
    "#pred.train(train_df)\n",
    "#print('Finished training.')\n",
    "batches = [2,5,10]\n",
    "for batch in batches:\n",
    "    print('Batch size: ',batch)\n",
    "    # Evaluate TFIDF predictor\n",
    "    if batch == 2:\n",
    "        dataframe = df_2_test\n",
    "    elif batch == 5:\n",
    "        dataframe = df_5_test\n",
    "    elif batch == 10:\n",
    "        dataframe = test_df\n",
    "    y_test = np.zeros(len(dataframe))\n",
    "    y = [pred.predict(dataframe.Context[x], dataframe.iloc[x,1:].values) for x in range(len(dataframe))]\n",
    "    for n in [1, 2, 5, 10]:\n",
    "        if n < batch:\n",
    "            print(\"Recall @ ({}, {}): {:g}\".format(n,batch, evaluate_recall(y, y_test, n)))"
   ]
  },
  {
   "cell_type": "markdown",
   "metadata": {},
   "source": [
    "**Very surprising, because these are very similar metrics to what was first reported in paper. Especially given the performance of random selection.**"
   ]
  }
 ],
 "metadata": {
  "kernelspec": {
   "display_name": "nlp-env",
   "language": "python",
   "name": "nlp-env"
  },
  "language_info": {
   "codemirror_mode": {
    "name": "ipython",
    "version": 3
   },
   "file_extension": ".py",
   "mimetype": "text/x-python",
   "name": "python",
   "nbconvert_exporter": "python",
   "pygments_lexer": "ipython3",
   "version": "3.6.5"
  }
 },
 "nbformat": 4,
 "nbformat_minor": 2
}
