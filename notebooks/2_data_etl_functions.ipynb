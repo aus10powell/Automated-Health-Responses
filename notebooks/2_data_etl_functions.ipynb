{
 "cells": [
  {
   "cell_type": "code",
   "execution_count": 13,
   "metadata": {},
   "outputs": [],
   "source": [
    "import pandas as pd\n",
    "import pickle\n",
    "\n",
    "# Custom\n",
    "from processing import tag_utterances\n",
    "from processing import load_sem_types\n",
    "from processing import DataPipeline\n",
    "pd.set_option('display.max_columns', 500) # more columns displayed at once"
   ]
  },
  {
   "cell_type": "markdown",
   "metadata": {},
   "source": [
    "There is a lot that could be done with formatting the data for training conversations:\n",
    "\n",
    "* Option 1: All responses are equal\n",
    "    * Treat every thread as a conversation\n",
    "    * Every comment in the thread as a response to the original AskDocs"
   ]
  },
  {
   "cell_type": "markdown",
   "metadata": {},
   "source": [
    "## Option 1: All responses are equal\n",
    "\n",
    "* Each title of the thread is listed as the question \n",
    "* Every comment in that thread is listed as the answer\n",
    "* The comment of the first query/post asked by the original author is ignored"
   ]
  },
  {
   "cell_type": "code",
   "execution_count": 2,
   "metadata": {},
   "outputs": [
    {
     "name": "stdout",
     "output_type": "stream",
     "text": [
      "Comments Table Shape: (557648, 24)\n",
      "Posts table shape: (43615, 35)\n",
      "30710\n",
      "Final combined table shape: (139535, 28)\n",
      "Count of threads\n"
     ]
    },
    {
     "data": {
      "text/plain": [
       "0.0    108825\n",
       "1.0     30710\n",
       "Name: is_thread_start, dtype: int64"
      ]
     },
     "execution_count": 2,
     "metadata": {},
     "output_type": "execute_result"
    }
   ],
   "source": [
    "data_instance = DataPipeline(comments_path = '../data/reddit_comments_askDocs_2014_to_2018_03.gz',\n",
    "                            posts_path = '../data/original_posts_under_askDocs_subreddit_id.gz')\n",
    "df = data_instance.load_full_thread()\n",
    "\n",
    "print('Count of threads')\n",
    "df['is_thread_start'].value_counts()"
   ]
  },
  {
   "cell_type": "code",
   "execution_count": 8,
   "metadata": {},
   "outputs": [
    {
     "name": "stdout",
     "output_type": "stream",
     "text": [
      "CPU times: user 6min 25s, sys: 2.38 s, total: 6min 27s\n",
      "Wall time: 6min 28s\n"
     ]
    }
   ],
   "source": [
    "%%time\n",
    "list_of_threads = df['link_id_short'].unique().tolist()\n",
    "\n",
    "query = []\n",
    "answer = []\n",
    "\n",
    "# loop through all threads\n",
    "for thread in list_of_threads:\n",
    "    try:\n",
    "        df_subset = df.loc[df['link_id_short']==thread]\n",
    "        # assert there is one poster\n",
    "        assert sum(df_subset['is_thread_start'].unique()) == 1\n",
    "\n",
    "        thread_author = str(df_subset.loc[df_subset['is_thread_start']==1]['author'].unique()[0]).strip()\n",
    "        thread_question = str(df_subset.loc[df_subset['is_thread_start']==1]['body'][0]).strip()\n",
    "\n",
    "\n",
    "        thread_title = df_subset.title[df_subset.title.notnull()][0]\n",
    "\n",
    "        try:\n",
    "            thread_title_short = df_subset.url.unique()[1].split('/')[-2]\n",
    "        except:\n",
    "            thread_title_short = df_subset.url.unique()[1]\n",
    "\n",
    "\n",
    "        thread_readers = df_subset.loc[df_subset['parent_id_short']==thread].author.tolist()\n",
    "\n",
    "        if False:\n",
    "            print('thread:',thread)\n",
    "            print('thread_author:',thread_author)\n",
    "            print('url:',df_subset.url.unique()[1])\n",
    "            print('thread_title short:',thread_title_short)\n",
    "            print('thread_title:',thread_title)\n",
    "            print('thread_readers:',thread_readers)\n",
    "\n",
    "        for index,row in df_subset.loc[df_subset['is_thread_start']!=1].iterrows():\n",
    "            query.append({'author':thread_author,'reader':row['author'],'utterance':thread_title})\n",
    "            answer.append({'author':row['author'], 'reader': thread_author,'utterance':row['body']})\n",
    "    except:\n",
    "        print(thread)\n",
    "        \n",
    "assert len(query)==len(answer)"
   ]
  },
  {
   "cell_type": "code",
   "execution_count": 17,
   "metadata": {},
   "outputs": [],
   "source": [
    "pickle.dump(zip(query,answer),open( '../data/all_responses_equal.p', \"wb\" ))"
   ]
  },
  {
   "cell_type": "code",
   "execution_count": 170,
   "metadata": {},
   "outputs": [
    {
     "name": "stdout",
     "output_type": "stream",
     "text": [
      "Out of hand tonsil infection. Help!\n",
      "\n",
      "Out of hand tonsil infection. Help!\n",
      "\n",
      "Out of hand tonsil infection. Help!\n",
      "\n",
      "Out of hand tonsil infection. Help!\n",
      "\n",
      "Out of hand tonsil infection. Help!\n",
      "\n",
      "Out of hand tonsil infection. Help!\n",
      "\n",
      "Out of hand tonsil infection. Help!\n",
      "\n"
     ]
    }
   ],
   "source": [
    "for idx, row in df_subset.iterrows():\n",
    "    print(df_subset.title[df_subset.title.notnull()][0])\n",
    "    #print(row['url'],row['body'])\n",
    "    print()"
   ]
  },
  {
   "cell_type": "code",
   "execution_count": 171,
   "metadata": {},
   "outputs": [
    {
     "name": "stdout",
     "output_type": "stream",
     "text": [
      "Q: {'author': 'dpeters14fuck', 'reader': 'ebast', 'utterance': 'Out of hand tonsil infection. Help!'}\n",
      "A: {'author': 'ebast', 'reader': 'dpeters14fuck', 'utterance': 'Well, then just be careful and try to avoid any kind of abdominal trauma. Best of luck! Get better soon so you can enjoy your vacations :)'}\n",
      "\n",
      "Q: {'author': 'dpeters14fuck', 'reader': 'dpeters14fuck', 'utterance': 'Out of hand tonsil infection. Help!'}\n",
      "A: {'author': 'dpeters14fuck', 'reader': 'dpeters14fuck', 'utterance': \"Thanks for the advice and well wishing! It's now wednesday and I've been all good at work so I guess as long as I'm not straining myself too much I'll be all good\"}\n",
      "\n",
      "Q: {'author': 'dpeters14fuck', 'reader': 'ebast', 'utterance': 'Out of hand tonsil infection. Help!'}\n",
      "A: {'author': 'ebast', 'reader': 'dpeters14fuck', 'utterance': \"You're welcome :) well, that's hard to say actually. Contact sports are like the classic thing you tell patients not to do because the spleen gets a little bigger during mono. I'd say you give it some time of rest, if possible. Didn't the doctors give you like a 'no working for x time' paper? I don't know the thing's name in english!\"}\n",
      "\n",
      "Q: {'author': 'dpeters14fuck', 'reader': 'ebast', 'utterance': 'Out of hand tonsil infection. Help!'}\n",
      "A: {'author': 'ebast', 'reader': 'dpeters14fuck', 'utterance': \"I'd say that's probably mononucleosis (i'm a last year medical student). Large tonsils. worse than any strep you've ever get, no effect with amoxicillin, trouble breathing and large painful lymph nodes. Yep, I'd say that. If so it doesn't really have a specific treatment except for acetaminophen and/or ibuprofen for fever and pain but you should get tested anyway. Also sometimes people with mono will get a skin rash when on amoxicillin. But not every one get's it. You should see a doc to confirm this and rule out other stuff like tonsil abcess or so.\"}\n",
      "\n",
      "Q: {'author': 'dpeters14fuck', 'reader': 'dpeters14fuck', 'utterance': 'Out of hand tonsil infection. Help!'}\n",
      "A: {'author': 'dpeters14fuck', 'reader': 'dpeters14fuck', 'utterance': \"I returned to urgent care when I couldn't breathe through my mouth at all the next day. The doctor suspected an abscess and said I should head to the ER to see if they would drain it. After being hooked up to an IV, given more antibiotics, and a steroid injection(which was all I asked for in the first place at urgent care for the swelling), and a CT scan, it turns out it is Mono after all(which is also surprising they didn't test for it at urgent care).  Anyway, I can at least eat soft foods now which is good. \\n\\n\\nAlso, I'm well aware I should avoid contact sports with mono due to risk of a ruptured spleen, but am I still able to lift heavy weights? At work I have to haul coffee sacks weighing anywhere from 150-200lbs so I want to be sure that wouldn't increase the risk\\n\\n\\nEdit: thanks for the reply btw you were spot on haha\"}\n",
      "\n",
      "Q: {'author': 'dpeters14fuck', 'reader': 'dpeters14fuck', 'utterance': 'Out of hand tonsil infection. Help!'}\n",
      "A: {'author': 'dpeters14fuck', 'reader': 'dpeters14fuck', 'utterance': \"I didn't get anything about taking days off work, however my employers are pretty flexible so if I do need time off I can just ask for it. On the other hand I don't feel all that terrible aside from a sore throat and I'd prefer not to take days off if I don't absolutely have to since I'll be out of the country in 2 weeks anyway \"}\n",
      "\n",
      "Number of Q/A: 6\n"
     ]
    }
   ],
   "source": [
    "for idx in range(len(query)):\n",
    "    print(\"Q:\", query[idx])\n",
    "    print(\"A:\", answer[idx])\n",
    "    print()\n",
    "print('Number of Q/A:',len(query))"
   ]
  },
  {
   "cell_type": "code",
   "execution_count": 91,
   "metadata": {},
   "outputs": [
    {
     "name": "stdout",
     "output_type": "stream",
     "text": [
      "I just got them today, and it was my first time wearing contacts in a few years. They weren't moving every time I blinked, but occasionally, maybe once every few minutes. Then after a while, I noticed it happening much less often, although it still happened occasionally. Maybe because I was distracted, I wasn't focusing on it as much. Maybe I was blinking less? I was playing a video game/watching TV for a while, and it was much better. \n",
      "\n",
      "\n",
      "Other than that, no reddness or discomfort from them. Tomorrow I'm going to take them for a spin during the day and wear them a little longer. (i'll bring my glasses just in case though).\n",
      "Does it happen every time you blink? How many days have you been wearing them? They do take a while to get used to although if they are moving every time you blink they may not be the best fit for you. Astigmatism is harder to fit then regular prescriptions as the lens or the cornea is irregularly shaped. \n",
      "\n",
      "If your eyes become slightly red or irritated from the lenses I would definitely tell your optometrist, and if this happens stop wearing the contacts ASAP. If not I would recommend just mentioning it them anyway so they can have a quick look for themselves using the slit lamp.   \n",
      "Not sure if the medical stuff is needed for eye related questions but:\n",
      "\n",
      "female\n",
      "\n",
      "20's\n",
      "\n",
      "No preexisting conditions (other than eye stuff)\n",
      "\n",
      "have worn glasses for almost 20 years\n",
      "\n",
      "**mild astigmatism**\n",
      "\n",
      "\n",
      "So today I went for my regular eye exam, and decided to forgo a new set of glasses and opt for contacts instead. Now, I've tried contacts before, but I never stuck with them due to general laziness and genuinely liking glasses, however, it's gotten to the point that glasses are a bit of a nuisance for me, as well.\n",
      "\n",
      "I have a mild astigmatism, but not bad enough to warrant corrective contact lenses, at least yet. I'm currently wearing a trial pair of Accuvue contacts that are meant to last 2 weeks. Anyway, I'm going about my business at home while getting used to the new contacts, and I'm noticing every so often, a lens may shift slightly in my eye causing slight discomfort or blurring. I can blink it back into place easily, but I'm not sure if that's a normal sensation or if I should bring it up with my eye doctor. I'm also wondering if this is just a normal thing that happens with astigmatism when you don't have corrective lenses. It's also possible I'm hyper aware of it because it's a fairly novel sensation. Other than the occasional blurring I can see clearly, and they aren't uncomfortable. \n",
      "\n",
      "So what do you think? Will I get used to it? Am I doing something wrong? Either way, I'll be back at the eye doctor in few days to pick up another sample of daily disposables.\n",
      "\n",
      "Thanks! \n",
      "\n",
      "\n",
      "\n"
     ]
    }
   ],
   "source": [
    "for index,row in df_subset.iterrows():\n",
    "    print(row['body'])"
   ]
  },
  {
   "cell_type": "markdown",
   "metadata": {},
   "source": [
    "## Option 2: Every comment is a question and answer"
   ]
  },
  {
   "cell_type": "code",
   "execution_count": null,
   "metadata": {},
   "outputs": [],
   "source": []
  }
 ],
 "metadata": {
  "kernelspec": {
   "display_name": "nlp-env",
   "language": "python",
   "name": "nlp-env"
  },
  "language_info": {
   "codemirror_mode": {
    "name": "ipython",
    "version": 3
   },
   "file_extension": ".py",
   "mimetype": "text/x-python",
   "name": "python",
   "nbconvert_exporter": "python",
   "pygments_lexer": "ipython3",
   "version": "3.6.5"
  }
 },
 "nbformat": 4,
 "nbformat_minor": 2
}
