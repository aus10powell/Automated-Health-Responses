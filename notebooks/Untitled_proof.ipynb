{
 "cells": [
  {
   "cell_type": "code",
   "execution_count": 5,
   "metadata": {},
   "outputs": [],
   "source": [
    "import pandas as pd\n",
    "import time"
   ]
  },
  {
   "cell_type": "code",
   "execution_count": 3,
   "metadata": {},
   "outputs": [],
   "source": [
    "path = '../data/option3_data/test.csv'\n",
    "#df_ntrain = pd.read_csv(path,dtype={'Context':str, 'Ground Truth Utterance':str, 'Distractor_0':str, 'Distractor_1':str,\n",
    "#       'Distractor_2':str, 'Distractor_3':str, 'Distractor_4':str, 'Distractor_5':str,\n",
    "#       'Distractor_6':str, 'Distractor_7':str, 'Distractor_8':str})\n",
    "df_test = pd.read_csv(path)"
   ]
  },
  {
   "cell_type": "code",
   "execution_count": 4,
   "metadata": {},
   "outputs": [
    {
     "data": {
      "text/html": [
       "<div>\n",
       "<style scoped>\n",
       "    .dataframe tbody tr th:only-of-type {\n",
       "        vertical-align: middle;\n",
       "    }\n",
       "\n",
       "    .dataframe tbody tr th {\n",
       "        vertical-align: top;\n",
       "    }\n",
       "\n",
       "    .dataframe thead th {\n",
       "        text-align: right;\n",
       "    }\n",
       "</style>\n",
       "<table border=\"1\" class=\"dataframe\">\n",
       "  <thead>\n",
       "    <tr style=\"text-align: right;\">\n",
       "      <th></th>\n",
       "      <th>Context</th>\n",
       "      <th>Ground Truth Utterance</th>\n",
       "      <th>Distractor_0</th>\n",
       "      <th>Distractor_1</th>\n",
       "      <th>Distractor_2</th>\n",
       "      <th>Distractor_3</th>\n",
       "      <th>Distractor_4</th>\n",
       "      <th>Distractor_5</th>\n",
       "      <th>Distractor_6</th>\n",
       "      <th>Distractor_7</th>\n",
       "      <th>Distractor_8</th>\n",
       "    </tr>\n",
       "  </thead>\n",
       "  <tbody>\n",
       "    <tr>\n",
       "      <th>0</th>\n",
       "      <td>&amp;gt; Cushing's syndrome Typically it is caused...</td>\n",
       "      <td>Thanks for the information, I'll be sure to sc...</td>\n",
       "      <td>It is facing the opposite direction of the oth...</td>\n",
       "      <td>&amp;gt;You can't say that trying to get pregnant ...</td>\n",
       "      <td>Call your pediatrician's office on your own an...</td>\n",
       "      <td>looks like either an allergic reaction to a de...</td>\n",
       "      <td>Any chance you are actually just really sore? ...</td>\n",
       "      <td>I am not a doctor or expert of any kind, but y...</td>\n",
       "      <td>Yep. Only alcohol I can touch now is one brand...</td>\n",
       "      <td>Most often its not painful. I've only ever see...</td>\n",
       "      <td>I get it. I've yet to meet someone who says \"Y...</td>\n",
       "    </tr>\n",
       "    <tr>\n",
       "      <th>1</th>\n",
       "      <td>is there any chance it will die down given time?</td>\n",
       "      <td>if its thrombosed (clotted)? no although warm ...</td>\n",
       "      <td>It sounds like when you hurt your finger, inst...</td>\n",
       "      <td>Thanks. That's good to know.</td>\n",
       "      <td>I don't growing pains that often anymore :/</td>\n",
       "      <td>I don't know if you have one near you, but Dol...</td>\n",
       "      <td>Have you had a pap to check for cervical infec...</td>\n",
       "      <td>So that stuff about toxins in my body and seri...</td>\n",
       "      <td>You can't just get TPN at the ER. Though it ma...</td>\n",
       "      <td>I understand both is not optimum, but of the t...</td>\n",
       "      <td>no. This is nit muscle pain</td>\n",
       "    </tr>\n",
       "    <tr>\n",
       "      <th>2</th>\n",
       "      <td>It feels rather unpleasant all the time, but l...</td>\n",
       "      <td>I'm not shocked that you don't have a tongue p...</td>\n",
       "      <td>See your GP.</td>\n",
       "      <td>The brain damage was suggested by a medical st...</td>\n",
       "      <td>Male or female is relevant. And height for tha...</td>\n",
       "      <td>This looks like petechiae/purpura. Does it bla...</td>\n",
       "      <td>Well, unless I contracted Aids from jacking of...</td>\n",
       "      <td>Nothing to be ashamed about, has nothing to do...</td>\n",
       "      <td>I don't think that's the issue. I also notice ...</td>\n",
       "      <td>&amp;gt;I was wondering what this meant for her. O...</td>\n",
       "      <td>I would definitely talk to your doctor about g...</td>\n",
       "    </tr>\n",
       "    <tr>\n",
       "      <th>3</th>\n",
       "      <td>I see, I apologize. Age 21 Sex Male Height 5'1...</td>\n",
       "      <td>[^(**Mouseover** to view the metric conversion...</td>\n",
       "      <td>I don't have an infection. a pharmacist said i...</td>\n",
       "      <td>The shellfish part seems like a case of food p...</td>\n",
       "      <td>The only idea I have is diet. I'm in Norway so...</td>\n",
       "      <td>Well, you mention that taking off your coat he...</td>\n",
       "      <td>This EXACT thing happened to my boyfriend (21 ...</td>\n",
       "      <td>Thanks, awesome explanation :)</td>\n",
       "      <td>I'm not a doctor but I did have my gallbladder...</td>\n",
       "      <td>thanks for the correction, will change my post...</td>\n",
       "      <td>Ahh ok. I'll go ahead and do that. Your answer...</td>\n",
       "    </tr>\n",
       "    <tr>\n",
       "      <th>4</th>\n",
       "      <td>28yo Male 6'1 175lbs Caucasian I'm a healthy g...</td>\n",
       "      <td>No. You cannot sweat it out. The vaccine is in...</td>\n",
       "      <td>Im 13, I get them all the time. Honestly, they...</td>\n",
       "      <td>Provigil is a huge wild card and likely respon...</td>\n",
       "      <td>TC is made up of LDL, HDL, and VLDL. I would a...</td>\n",
       "      <td>Hi, I think I may be of some help here. One of...</td>\n",
       "      <td>VARICOCELES. Ugh. Better than something wrong ...</td>\n",
       "      <td>OH one more thing. the clear nails pro stuff I...</td>\n",
       "      <td>&amp;gt;As my period is due in 3 days If your peri...</td>\n",
       "      <td>What about niacin it raises HDLs mainly and it...</td>\n",
       "      <td>kidney stone</td>\n",
       "    </tr>\n",
       "  </tbody>\n",
       "</table>\n",
       "</div>"
      ],
      "text/plain": [
       "                                             Context  \\\n",
       "0  &gt; Cushing's syndrome Typically it is caused...   \n",
       "1   is there any chance it will die down given time?   \n",
       "2  It feels rather unpleasant all the time, but l...   \n",
       "3  I see, I apologize. Age 21 Sex Male Height 5'1...   \n",
       "4  28yo Male 6'1 175lbs Caucasian I'm a healthy g...   \n",
       "\n",
       "                              Ground Truth Utterance  \\\n",
       "0  Thanks for the information, I'll be sure to sc...   \n",
       "1  if its thrombosed (clotted)? no although warm ...   \n",
       "2  I'm not shocked that you don't have a tongue p...   \n",
       "3  [^(**Mouseover** to view the metric conversion...   \n",
       "4  No. You cannot sweat it out. The vaccine is in...   \n",
       "\n",
       "                                        Distractor_0  \\\n",
       "0  It is facing the opposite direction of the oth...   \n",
       "1  It sounds like when you hurt your finger, inst...   \n",
       "2                                       See your GP.   \n",
       "3  I don't have an infection. a pharmacist said i...   \n",
       "4  Im 13, I get them all the time. Honestly, they...   \n",
       "\n",
       "                                        Distractor_1  \\\n",
       "0  &gt;You can't say that trying to get pregnant ...   \n",
       "1                       Thanks. That's good to know.   \n",
       "2  The brain damage was suggested by a medical st...   \n",
       "3  The shellfish part seems like a case of food p...   \n",
       "4  Provigil is a huge wild card and likely respon...   \n",
       "\n",
       "                                        Distractor_2  \\\n",
       "0  Call your pediatrician's office on your own an...   \n",
       "1        I don't growing pains that often anymore :/   \n",
       "2  Male or female is relevant. And height for tha...   \n",
       "3  The only idea I have is diet. I'm in Norway so...   \n",
       "4  TC is made up of LDL, HDL, and VLDL. I would a...   \n",
       "\n",
       "                                        Distractor_3  \\\n",
       "0  looks like either an allergic reaction to a de...   \n",
       "1  I don't know if you have one near you, but Dol...   \n",
       "2  This looks like petechiae/purpura. Does it bla...   \n",
       "3  Well, you mention that taking off your coat he...   \n",
       "4  Hi, I think I may be of some help here. One of...   \n",
       "\n",
       "                                        Distractor_4  \\\n",
       "0  Any chance you are actually just really sore? ...   \n",
       "1  Have you had a pap to check for cervical infec...   \n",
       "2  Well, unless I contracted Aids from jacking of...   \n",
       "3  This EXACT thing happened to my boyfriend (21 ...   \n",
       "4  VARICOCELES. Ugh. Better than something wrong ...   \n",
       "\n",
       "                                        Distractor_5  \\\n",
       "0  I am not a doctor or expert of any kind, but y...   \n",
       "1  So that stuff about toxins in my body and seri...   \n",
       "2  Nothing to be ashamed about, has nothing to do...   \n",
       "3                     Thanks, awesome explanation :)   \n",
       "4  OH one more thing. the clear nails pro stuff I...   \n",
       "\n",
       "                                        Distractor_6  \\\n",
       "0  Yep. Only alcohol I can touch now is one brand...   \n",
       "1  You can't just get TPN at the ER. Though it ma...   \n",
       "2  I don't think that's the issue. I also notice ...   \n",
       "3  I'm not a doctor but I did have my gallbladder...   \n",
       "4  &gt;As my period is due in 3 days If your peri...   \n",
       "\n",
       "                                        Distractor_7  \\\n",
       "0  Most often its not painful. I've only ever see...   \n",
       "1  I understand both is not optimum, but of the t...   \n",
       "2  &gt;I was wondering what this meant for her. O...   \n",
       "3  thanks for the correction, will change my post...   \n",
       "4  What about niacin it raises HDLs mainly and it...   \n",
       "\n",
       "                                        Distractor_8  \n",
       "0  I get it. I've yet to meet someone who says \"Y...  \n",
       "1                        no. This is nit muscle pain  \n",
       "2  I would definitely talk to your doctor about g...  \n",
       "3  Ahh ok. I'll go ahead and do that. Your answer...  \n",
       "4                                       kidney stone  "
      ]
     },
     "execution_count": 4,
     "metadata": {},
     "output_type": "execute_result"
    }
   ],
   "source": [
    "df_test.head()"
   ]
  },
  {
   "cell_type": "code",
   "execution_count": 25,
   "metadata": {},
   "outputs": [],
   "source": [
    "for c in df.columns:\n",
    "    df[c] = df.apply(lambda r: str(r))"
   ]
  },
  {
   "cell_type": "code",
   "execution_count": 19,
   "metadata": {},
   "outputs": [],
   "source": [
    "df.columns = ['Context', 'Ground Truth Utterance', 'Distractor_0', 'Distractor_1',\n",
    "       'Distractor_2', 'Distractor_3', 'Distractor_4', 'Distractor_5',\n",
    "       'Distractor_6', 'Distractor_7', 'Distractor_8']"
   ]
  },
  {
   "cell_type": "code",
   "execution_count": 20,
   "metadata": {},
   "outputs": [],
   "source": [
    "df.to_csv(path, index=False)"
   ]
  },
  {
   "cell_type": "markdown",
   "metadata": {},
   "source": [
    "## Load Trained dual encoder model"
   ]
  },
  {
   "cell_type": "code",
   "execution_count": 1,
   "metadata": {},
   "outputs": [
    {
     "data": {
      "text/plain": [
       "['4_create_training_set.ipynb',\n",
       " 'seq2seq_examples',\n",
       " 'brainstorming_notebooks',\n",
       " '.DS_Store',\n",
       " 'creating_reddit_word_embeddings.ipynb',\n",
       " 'presentation_notebook',\n",
       " 'Untitled.ipynb',\n",
       " '__pycache__',\n",
       " 'data_pipeline.ipynb',\n",
       " '3_data_etl_functions.ipynb',\n",
       " 'data_utils.py',\n",
       " '1_post_and_comment_join.ipynb',\n",
       " 'more_notebooks_to_work_with_dataset',\n",
       " 'scripts',\n",
       " 'baseline_retrieval.ipynb',\n",
       " '.ipynb_checkpoints',\n",
       " 'processing.py',\n",
       " '2_exploration.ipynb']"
      ]
     },
     "execution_count": 1,
     "metadata": {},
     "output_type": "execute_result"
    }
   ],
   "source": [
    "import os\n",
    "os.listdir('.')"
   ]
  },
  {
   "cell_type": "code",
   "execution_count": null,
   "metadata": {},
   "outputs": [],
   "source": [
    "import keras\n",
    "from keras.models import Sequential\n",
    "from keras.utils import np_utils\n",
    "from keras.layers import Dense, Input, Flatten, Dropout, LSTM, Activation, Add\n",
    "from keras.layers import Conv1D, MaxPooling1D, Embedding, merge, multiply, Concatenate\n",
    "from keras.models import Model\n",
    "\n",
    "import os\n",
    "from keras import models\n",
    "import pickle"
   ]
  },
  {
   "cell_type": "code",
   "execution_count": null,
   "metadata": {},
   "outputs": [],
   "source": [
    "%%time\n",
    "dual_encoder = models.load_model(os.path.join(path,file_model))"
   ]
  },
  {
   "cell_type": "code",
   "execution_count": null,
   "metadata": {},
   "outputs": [],
   "source": [
    "print(os.listdir('../../dual_encoder_udc/option3_dataset'))"
   ]
  },
  {
   "cell_type": "code",
   "execution_count": null,
   "metadata": {},
   "outputs": [],
   "source": [
    "dev_c, dev_r, dev_l = pickle.load(open('../../dual_encoder_udc/option3_dataset/' + 'dev.pkl', 'rb'))"
   ]
  },
  {
   "cell_type": "code",
   "execution_count": null,
   "metadata": {},
   "outputs": [],
   "source": [
    "%%time\n",
    "# Warning may take a bit\n",
    "y_pred = dual_encoder.predict([dev_c, dev_r])"
   ]
  }
 ],
 "metadata": {
  "kernelspec": {
   "display_name": "nlp-env",
   "language": "python",
   "name": "nlp-env"
  },
  "language_info": {
   "codemirror_mode": {
    "name": "ipython",
    "version": 3
   },
   "file_extension": ".py",
   "mimetype": "text/x-python",
   "name": "python",
   "nbconvert_exporter": "python",
   "pygments_lexer": "ipython3",
   "version": "3.6.5"
  }
 },
 "nbformat": 4,
 "nbformat_minor": 2
}
