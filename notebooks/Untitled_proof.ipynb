{
 "cells": [
  {
   "cell_type": "code",
   "execution_count": 89,
   "metadata": {},
   "outputs": [],
   "source": [
    "import pandas as pd\n",
    "import time"
   ]
  },
  {
   "cell_type": "code",
   "execution_count": 3,
   "metadata": {},
   "outputs": [],
   "source": [
    "path = '../data/option3_data/test.csv'\n",
    "#df_ntrain = pd.read_csv(path,dtype={'Context':str, 'Ground Truth Utterance':str, 'Distractor_0':str, 'Distractor_1':str,\n",
    "#       'Distractor_2':str, 'Distractor_3':str, 'Distractor_4':str, 'Distractor_5':str,\n",
    "#       'Distractor_6':str, 'Distractor_7':str, 'Distractor_8':str})\n",
    "df_test = pd.read_csv(path)"
   ]
  },
  {
   "cell_type": "code",
   "execution_count": 25,
   "metadata": {},
   "outputs": [],
   "source": [
    "for c in df.columns:\n",
    "    df[c] = df.apply(lambda r: str(r))"
   ]
  },
  {
   "cell_type": "code",
   "execution_count": 19,
   "metadata": {},
   "outputs": [],
   "source": [
    "df.columns = ['Context', 'Ground Truth Utterance', 'Distractor_0', 'Distractor_1',\n",
    "       'Distractor_2', 'Distractor_3', 'Distractor_4', 'Distractor_5',\n",
    "       'Distractor_6', 'Distractor_7', 'Distractor_8']"
   ]
  },
  {
   "cell_type": "code",
   "execution_count": 20,
   "metadata": {},
   "outputs": [],
   "source": [
    "df.to_csv(path, index=False)"
   ]
  },
  {
   "cell_type": "markdown",
   "metadata": {},
   "source": [
    "## Load Trained dual encoder model"
   ]
  },
  {
   "cell_type": "code",
   "execution_count": 1,
   "metadata": {},
   "outputs": [
    {
     "data": {
      "text/plain": [
       "['4_create_training_set.ipynb',\n",
       " 'seq2seq_examples',\n",
       " 'brainstorming_notebooks',\n",
       " '.DS_Store',\n",
       " 'creating_reddit_word_embeddings.ipynb',\n",
       " 'presentation_notebook',\n",
       " 'Untitled.ipynb',\n",
       " '__pycache__',\n",
       " 'data_pipeline.ipynb',\n",
       " '3_data_etl_functions.ipynb',\n",
       " 'data_utils.py',\n",
       " '1_post_and_comment_join.ipynb',\n",
       " 'more_notebooks_to_work_with_dataset',\n",
       " 'scripts',\n",
       " 'baseline_retrieval.ipynb',\n",
       " '.ipynb_checkpoints',\n",
       " 'processing.py',\n",
       " '2_exploration.ipynb']"
      ]
     },
     "execution_count": 1,
     "metadata": {},
     "output_type": "execute_result"
    }
   ],
   "source": [
    "import os\n",
    "os.listdir('.')"
   ]
  },
  {
   "cell_type": "code",
   "execution_count": null,
   "metadata": {},
   "outputs": [],
   "source": [
    "import keras\n",
    "from keras.models import Sequential\n",
    "from keras.utils import np_utils\n",
    "from keras.layers import Dense, Input, Flatten, Dropout, LSTM, Activation, Add\n",
    "from keras.layers import Conv1D, MaxPooling1D, Embedding, merge, multiply, Concatenate\n",
    "from keras.models import Model\n",
    "\n",
    "import os\n",
    "from keras import models\n",
    "import pickle"
   ]
  },
  {
   "cell_type": "code",
   "execution_count": null,
   "metadata": {},
   "outputs": [],
   "source": [
    "%%time\n",
    "dual_encoder = models.load_model(os.path.join(path,file_model))"
   ]
  },
  {
   "cell_type": "code",
   "execution_count": null,
   "metadata": {},
   "outputs": [],
   "source": [
    "print(os.listdir('../../dual_encoder_udc/option3_dataset'))"
   ]
  },
  {
   "cell_type": "code",
   "execution_count": null,
   "metadata": {},
   "outputs": [],
   "source": [
    "dev_c, dev_r, dev_l = pickle.load(open('../../dual_encoder_udc/option3_dataset/' + 'dev.pkl', 'rb'))"
   ]
  },
  {
   "cell_type": "code",
   "execution_count": null,
   "metadata": {},
   "outputs": [],
   "source": [
    "%%time\n",
    "# Warning may take a bit\n",
    "y_pred = dual_encoder.predict([dev_c, dev_r])"
   ]
  },
  {
   "cell_type": "markdown",
   "metadata": {},
   "source": [
    "### UMLS Tagger"
   ]
  },
  {
   "cell_type": "code",
   "execution_count": 1,
   "metadata": {},
   "outputs": [],
   "source": [
    "import sys\n",
    "import tqdm\n",
    "from processing import load_sem_types\n",
    "from processing import tag_utterances\n",
    "# UMLS\n",
    "# Set absolute path the QuickUMLS Server\n",
    "abs_path_umls = '/Users/austinpowell/Google_Drive/kp_datascience/doctor_notes/ontology/UMLS'\n",
    "abs_path_data_umls = '/Users/austinpowell/Google_Drive/kp_datascience/doctor_notes/ontology/UMLS/QuickUMLS_db'\n",
    "sys.path.append(abs_path_umls+'/QuickUMLS')\n",
    "from quickumls import QuickUMLS\n",
    "tagger = QuickUMLS(abs_path_data_umls)\n",
    "# Load semantic types\n",
    "sem_type_dict = load_sem_types('../data/SemGroups_2013.txt')"
   ]
  },
  {
   "cell_type": "code",
   "execution_count": 2,
   "metadata": {},
   "outputs": [],
   "source": [
    "def load_sem_types(data_path='../data/SemGroups_2013.txt'):\n",
    "    \"\"\"\n",
    "    Create a dictionary for to return the category and tag associated with a given semantic type tagged by QuickUMLS.\n",
    "    \"\"\"\n",
    "    sem_type_dict = {}\n",
    "    with open(data_path,'r') as f:\n",
    "        for line in f:\n",
    "            lines = line.replace('\\n','').split('|')\n",
    "            sem_type_dict[lines[2]] = {'Category':lines[1],'Tag':lines[3]}\n",
    "    return sem_type_dict\n",
    "\n",
    "sem_type_dict = load_sem_types('../data/SemGroups_2013.txt')"
   ]
  },
  {
   "cell_type": "code",
   "execution_count": 3,
   "metadata": {},
   "outputs": [],
   "source": [
    "# load direct responses\n",
    "import pickle\n",
    "from collections import Counter\n",
    "all_chats = pickle.load(open( '../data/query_response_direct.p', \"rb\" ))"
   ]
  },
  {
   "cell_type": "code",
   "execution_count": 66,
   "metadata": {},
   "outputs": [
    {
     "data": {
      "text/plain": [
       "'Hi OP- not sure if anyone has mentioned this to you, but it would really be worth it to travel to a big hospital like a University where all the doctors work together and use the same charts, labs, etc. For complicated cases, these types of medical facilities are always best.\\n\\nHouston Methodist is a really top notch hospital from what I hear. Not sure how far you all can drive, but it may be worth it.'"
      ]
     },
     "execution_count": 66,
     "metadata": {},
     "output_type": "execute_result"
    }
   ],
   "source": [
    "e = all_chats[2][1]\n",
    "e"
   ]
  },
  {
   "cell_type": "code",
   "execution_count": 68,
   "metadata": {},
   "outputs": [
    {
     "data": {
      "text/plain": [
       "[[1, 345, 353, 'not sure', 'C3844332', 1.0, {'Finding'}],\n",
       " [1,\n",
       "  241,\n",
       "  248,\n",
       "  'medical',\n",
       "  'C0199168',\n",
       "  1.0,\n",
       "  {'Health Care Activity', 'Intellectual Product'}],\n",
       " [1, 88, 94, 'travel', 'C1555670', 1.0, {'Health Care Activity'}],\n",
       " [1,\n",
       "  184,\n",
       "  190,\n",
       "  'charts',\n",
       "  'C0684240',\n",
       "  1.0,\n",
       "  {'Intellectual Product', 'Medical Device'}],\n",
       " [1, 374, 379, 'drive', 'C0013126', 1.0, {'Mental Process'}],\n",
       " [1, 192, 196, 'labs', 'C0587081', 1.0, {'Laboratory or Test Result'}],\n",
       " [1, 339, 343, 'hear', 'C0018767', 1.0, {'Physiologic Function'}]]"
      ]
     },
     "execution_count": 68,
     "metadata": {},
     "output_type": "execute_result"
    }
   ],
   "source": [
    "tags = tag_utterances(1, str(e), tagger)\n",
    "tags"
   ]
  },
  {
   "cell_type": "code",
   "execution_count": 181,
   "metadata": {},
   "outputs": [],
   "source": [
    "def common_concepts(txt):\n",
    "    \"\"\"\n",
    "    Return the concepts identified in a variety of words/phrases by UMLS along with the count found.\n",
    "    \"\"\"\n",
    "    try:\n",
    "        tags = tag_utterances(1, str(txt), tagger)\n",
    "\n",
    "        concepts = []\n",
    "        for t in tags:\n",
    "            if len(t) > 1:\n",
    "                c = str(t[-1])[1:-1].replace(\"'\", \"\").split(',')\n",
    "                concepts += [s.strip() for s in c]\n",
    "\n",
    "        return concepts, len(concepts) #Counter(concepts).most_common()\n",
    "    except:\n",
    "        return [],0"
   ]
  },
  {
   "cell_type": "markdown",
   "metadata": {},
   "source": [
    "#### UMLS tagging for querys from option3 data"
   ]
  },
  {
   "cell_type": "code",
   "execution_count": 72,
   "metadata": {},
   "outputs": [
    {
     "name": "stdout",
     "output_type": "stream",
     "text": [
      "CPU times: user 3h 59min 37s, sys: 16min 54s, total: 4h 16min 32s\n",
      "Wall time: 6h 45min 31s\n"
     ]
    }
   ],
   "source": [
    "%%time\n",
    "# get concepts in one long list\n",
    "q_concepts = []\n",
    "# keep track of the different concepts by utterance along with count\n",
    "concepts_counts = []\n",
    "for q,r in all_chats:\n",
    "    concept, num_concepts = common_concepts(q)\n",
    "    concepts_counts.append((concept,num_concepts))\n",
    "    q_concepts += concept"
   ]
  },
  {
   "cell_type": "code",
   "execution_count": null,
   "metadata": {},
   "outputs": [
    {
     "name": "stderr",
     "output_type": "stream",
     "text": [
      "\n",
      "  0%|          | 0/96112 [00:00<?, ?it/s]\u001b[A\n",
      "  3%|▎         | 2460/96112 [00:00<00:03, 24120.75it/s]\u001b[A\n",
      "  3%|▎         | 3198/96112 [00:00<00:06, 14373.37it/s]\u001b[A\n",
      "  4%|▍         | 3904/96112 [00:00<00:08, 11456.27it/s]\u001b[A\n",
      "  5%|▍         | 4572/96112 [00:00<00:08, 10271.30it/s]\u001b[A\n",
      "  5%|▌         | 5231/96112 [00:00<00:09, 9414.08it/s] \u001b[A\n",
      "  6%|▌         | 5871/96112 [00:00<00:10, 8663.47it/s]\u001b[A\n",
      "  7%|▋         | 6536/96112 [00:00<00:10, 8460.61it/s]\u001b[A\n",
      "  7%|▋         | 7166/96112 [00:00<00:11, 7928.68it/s]\u001b[A\n",
      "  8%|▊         | 7749/96112 [00:01<00:13, 6634.87it/s]\u001b[A\n",
      "  9%|▊         | 8224/96112 [00:01<00:14, 6042.97it/s]\u001b[A\n",
      " 52%|█████▏    | 50038/96112 [03:10<02:55, 262.11it/s] "
     ]
    }
   ],
   "source": [
    "# remove duplicats\n",
    "concepts_counts_new = []\n",
    "for concepts in tqdm.tqdm(concepts_counts):\n",
    "    if concepts not in concepts_counts_new:\n",
    "        concepts_counts_new.append(concepts)"
   ]
  },
  {
   "cell_type": "code",
   "execution_count": 106,
   "metadata": {},
   "outputs": [
    {
     "name": "stdout",
     "output_type": "stream",
     "text": [
      "Total number of concept entities identified: 61\n"
     ]
    }
   ],
   "source": [
    "print('Total number of concept entities identified: {}'.format(len(list(set(q_concepts)))))"
   ]
  },
  {
   "cell_type": "markdown",
   "metadata": {},
   "source": [
    "**Plot the distribution for concept counts per utterance**"
   ]
  },
  {
   "cell_type": "code",
   "execution_count": 148,
   "metadata": {},
   "outputs": [
    {
     "data": {
      "image/png": "[encoded data removed]",
      "text/plain": [
       "<Figure size 792x576 with 1 Axes>"
      ]
     },
     "metadata": {},
     "output_type": "display_data"
    },
    {
     "data": {
      "text/plain": [
       "<ggplot: (507096945)>"
      ]
     },
     "execution_count": 148,
     "metadata": {},
     "output_type": "execute_result"
    }
   ],
   "source": [
    "from ggplot import *\n",
    "concepts_counts_new_counts = [r[1] for r in concepts_counts_new]\n",
    "df_t = pd.DataFrame(concepts_counts_new_counts)\n",
    "df_t.columns = ['counts']\n",
    "\n",
    "ggplot(df_t,aes(x='counts')) + geom_histogram(bins=60) + theme_bw() + ggtitle('Distribution of number of health concepts per utterance')"
   ]
  },
  {
   "cell_type": "code",
   "execution_count": 184,
   "metadata": {},
   "outputs": [
    {
     "data": {
      "text/html": [
       "<div>\n",
       "<style scoped>\n",
       "    .dataframe tbody tr th:only-of-type {\n",
       "        vertical-align: middle;\n",
       "    }\n",
       "\n",
       "    .dataframe tbody tr th {\n",
       "        vertical-align: top;\n",
       "    }\n",
       "\n",
       "    .dataframe thead th {\n",
       "        text-align: right;\n",
       "    }\n",
       "</style>\n",
       "<table border=\"1\" class=\"dataframe\">\n",
       "  <thead>\n",
       "    <tr style=\"text-align: right;\">\n",
       "      <th></th>\n",
       "      <th>ACTI</th>\n",
       "      <th>Activities &amp; Behaviors</th>\n",
       "      <th>T052</th>\n",
       "      <th>Activity</th>\n",
       "    </tr>\n",
       "  </thead>\n",
       "  <tbody>\n",
       "    <tr>\n",
       "      <th>127</th>\n",
       "      <td>PROC</td>\n",
       "      <td>Procedures</td>\n",
       "      <td>T058</td>\n",
       "      <td>Health Care Activity</td>\n",
       "    </tr>\n",
       "    <tr>\n",
       "      <th>128</th>\n",
       "      <td>PROC</td>\n",
       "      <td>Procedures</td>\n",
       "      <td>T059</td>\n",
       "      <td>Laboratory Procedure</td>\n",
       "    </tr>\n",
       "    <tr>\n",
       "      <th>129</th>\n",
       "      <td>PROC</td>\n",
       "      <td>Procedures</td>\n",
       "      <td>T063</td>\n",
       "      <td>Molecular Biology Research Technique</td>\n",
       "    </tr>\n",
       "    <tr>\n",
       "      <th>130</th>\n",
       "      <td>PROC</td>\n",
       "      <td>Procedures</td>\n",
       "      <td>T062</td>\n",
       "      <td>Research Activity</td>\n",
       "    </tr>\n",
       "    <tr>\n",
       "      <th>131</th>\n",
       "      <td>PROC</td>\n",
       "      <td>Procedures</td>\n",
       "      <td>T061</td>\n",
       "      <td>Therapeutic or Preventive Procedure</td>\n",
       "    </tr>\n",
       "  </tbody>\n",
       "</table>\n",
       "</div>"
      ],
      "text/plain": [
       "     ACTI Activities & Behaviors  T052                              Activity\n",
       "127  PROC             Procedures  T058                  Health Care Activity\n",
       "128  PROC             Procedures  T059                  Laboratory Procedure\n",
       "129  PROC             Procedures  T063  Molecular Biology Research Technique\n",
       "130  PROC             Procedures  T062                     Research Activity\n",
       "131  PROC             Procedures  T061   Therapeutic or Preventive Procedure"
      ]
     },
     "execution_count": 184,
     "metadata": {},
     "output_type": "execute_result"
    }
   ],
   "source": [
    "# retrieve mappings for groups on semtypes\n",
    "df_semtypes = pd.read_csv('../data/semgroups.txt',sep='|')\n",
    "df_semtypes.tail()"
   ]
  },
  {
   "cell_type": "code",
   "execution_count": 124,
   "metadata": {},
   "outputs": [
    {
     "data": {
      "text/plain": [
       "{'Acquired Abnormality': 'Disorders',\n",
       " 'Age Group': 'Living Beings',\n",
       " 'Amino Acid Sequence': 'Genes & Molecular Sequences',\n",
       " 'Amino Acid, Peptide, or Protein': 'Chemicals & Drugs',\n",
       " 'Amphibian': 'Living Beings',\n",
       " 'Anatomical Abnormality': 'Disorders',\n",
       " 'Anatomical Structure': 'Anatomy',\n",
       " 'Animal': 'Living Beings',\n",
       " 'Antibiotic': 'Chemicals & Drugs',\n",
       " 'Archaeon': 'Living Beings',\n",
       " 'Bacterium': 'Living Beings',\n",
       " 'Behavior': 'Activities & Behaviors',\n",
       " 'Biologic Function': 'Phenomena',\n",
       " 'Biologically Active Substance': 'Chemicals & Drugs',\n",
       " 'Biomedical Occupation or Discipline': 'Occupations',\n",
       " 'Biomedical or Dental Material': 'Chemicals & Drugs',\n",
       " 'Bird': 'Living Beings',\n",
       " 'Body Location or Region': 'Anatomy',\n",
       " 'Body Part, Organ, or Organ Component': 'Anatomy',\n",
       " 'Body Space or Junction': 'Anatomy',\n",
       " 'Body Substance': 'Anatomy',\n",
       " 'Body System': 'Anatomy',\n",
       " 'Carbohydrate': 'Chemicals & Drugs',\n",
       " 'Carbohydrate Sequence': 'Genes & Molecular Sequences',\n",
       " 'Cell': 'Anatomy',\n",
       " 'Cell Component': 'Anatomy',\n",
       " 'Cell Function': 'Physiology',\n",
       " 'Cell or Molecular Dysfunction': 'Disorders',\n",
       " 'Chemical': 'Chemicals & Drugs',\n",
       " 'Chemical Viewed Functionally': 'Chemicals & Drugs',\n",
       " 'Chemical Viewed Structurally': 'Chemicals & Drugs',\n",
       " 'Classification': 'Concepts & Ideas',\n",
       " 'Clinical Attribute': 'Physiology',\n",
       " 'Clinical Drug': 'Chemicals & Drugs',\n",
       " 'Conceptual Entity': 'Concepts & Ideas',\n",
       " 'Congenital Abnormality': 'Disorders',\n",
       " 'Daily or Recreational Activity': 'Activities & Behaviors',\n",
       " 'Diagnostic Procedure': 'Procedures',\n",
       " 'Disease or Syndrome': 'Disorders',\n",
       " 'Drug Delivery Device': 'Devices',\n",
       " 'Educational Activity': 'Procedures',\n",
       " 'Eicosanoid': 'Chemicals & Drugs',\n",
       " 'Element, Ion, or Isotope': 'Chemicals & Drugs',\n",
       " 'Embryonic Structure': 'Anatomy',\n",
       " 'Entity': 'Objects',\n",
       " 'Environmental Effect of Humans': 'Phenomena',\n",
       " 'Enzyme': 'Chemicals & Drugs',\n",
       " 'Eukaryote': 'Living Beings',\n",
       " 'Event': 'Activities & Behaviors',\n",
       " 'Experimental Model of Disease': 'Disorders',\n",
       " 'Family Group': 'Living Beings',\n",
       " 'Finding': 'Disorders',\n",
       " 'Fish': 'Living Beings',\n",
       " 'Food': 'Objects',\n",
       " 'Fully Formed Anatomical Structure': 'Anatomy',\n",
       " 'Functional Concept': 'Concepts & Ideas',\n",
       " 'Fungus': 'Living Beings',\n",
       " 'Gene or Genome': 'Genes & Molecular Sequences',\n",
       " 'Genetic Function': 'Physiology',\n",
       " 'Geographic Area': 'Geographic Areas',\n",
       " 'Governmental or Regulatory Activity': 'Activities & Behaviors',\n",
       " 'Group': 'Living Beings',\n",
       " 'Group Attribute': 'Concepts & Ideas',\n",
       " 'Hazardous or Poisonous Substance': 'Chemicals & Drugs',\n",
       " 'Health Care Activity': 'Procedures',\n",
       " 'Health Care Related Organization': 'Organizations',\n",
       " 'Hormone': 'Chemicals & Drugs',\n",
       " 'Human': 'Living Beings',\n",
       " 'Human-caused Phenomenon or Process': 'Phenomena',\n",
       " 'Idea or Concept': 'Concepts & Ideas',\n",
       " 'Immunologic Factor': 'Chemicals & Drugs',\n",
       " 'Indicator, Reagent, or Diagnostic Aid': 'Chemicals & Drugs',\n",
       " 'Individual Behavior': 'Activities & Behaviors',\n",
       " 'Injury or Poisoning': 'Disorders',\n",
       " 'Inorganic Chemical': 'Chemicals & Drugs',\n",
       " 'Intellectual Product': 'Concepts & Ideas',\n",
       " 'Laboratory Procedure': 'Procedures',\n",
       " 'Laboratory or Test Result': 'Phenomena',\n",
       " 'Language': 'Concepts & Ideas',\n",
       " 'Lipid': 'Chemicals & Drugs',\n",
       " 'Machine Activity': 'Activities & Behaviors',\n",
       " 'Mammal': 'Living Beings',\n",
       " 'Manufactured Object': 'Objects',\n",
       " 'Medical Device': 'Devices',\n",
       " 'Mental Process': 'Physiology',\n",
       " 'Mental or Behavioral Dysfunction': 'Disorders',\n",
       " 'Molecular Biology Research Technique': 'Procedures',\n",
       " 'Molecular Function': 'Physiology',\n",
       " 'Molecular Sequence': 'Genes & Molecular Sequences',\n",
       " 'Natural Phenomenon or Process': 'Phenomena',\n",
       " 'Neoplastic Process': 'Disorders',\n",
       " 'Neuroreactive Substance or Biogenic Amine': 'Chemicals & Drugs',\n",
       " 'Nucleic Acid, Nucleoside, or Nucleotide': 'Chemicals & Drugs',\n",
       " 'Nucleotide Sequence': 'Genes & Molecular Sequences',\n",
       " 'Occupation or Discipline': 'Occupations',\n",
       " 'Occupational Activity': 'Activities & Behaviors',\n",
       " 'Organ or Tissue Function': 'Physiology',\n",
       " 'Organic Chemical': 'Chemicals & Drugs',\n",
       " 'Organism': 'Living Beings',\n",
       " 'Organism Attribute': 'Physiology',\n",
       " 'Organism Function': 'Physiology',\n",
       " 'Organization': 'Organizations',\n",
       " 'Organophosphorus Compound': 'Chemicals & Drugs',\n",
       " 'Pathologic Function': 'Disorders',\n",
       " 'Patient or Disabled Group': 'Living Beings',\n",
       " 'Pharmacologic Substance': 'Chemicals & Drugs',\n",
       " 'Phenomenon or Process': 'Phenomena',\n",
       " 'Physical Object': 'Objects',\n",
       " 'Physiologic Function': 'Physiology',\n",
       " 'Plant': 'Living Beings',\n",
       " 'Population Group': 'Living Beings',\n",
       " 'Professional Society': 'Organizations',\n",
       " 'Professional or Occupational Group': 'Living Beings',\n",
       " 'Qualitative Concept': 'Concepts & Ideas',\n",
       " 'Quantitative Concept': 'Concepts & Ideas',\n",
       " 'Receptor': 'Chemicals & Drugs',\n",
       " 'Regulation or Law': 'Concepts & Ideas',\n",
       " 'Reptile': 'Living Beings',\n",
       " 'Research Activity': 'Procedures',\n",
       " 'Research Device': 'Devices',\n",
       " 'Self-help or Relief Organization': 'Organizations',\n",
       " 'Sign or Symptom': 'Disorders',\n",
       " 'Social Behavior': 'Activities & Behaviors',\n",
       " 'Spatial Concept': 'Concepts & Ideas',\n",
       " 'Steroid': 'Chemicals & Drugs',\n",
       " 'Substance': 'Objects',\n",
       " 'Temporal Concept': 'Concepts & Ideas',\n",
       " 'Therapeutic or Preventive Procedure': 'Procedures',\n",
       " 'Tissue': 'Anatomy',\n",
       " 'Vertebrate': 'Living Beings',\n",
       " 'Virus': 'Living Beings',\n",
       " 'Vitamin': 'Chemicals & Drugs'}"
      ]
     },
     "execution_count": 124,
     "metadata": {},
     "output_type": "execute_result"
    }
   ],
   "source": [
    "# map activity to activites & behaviors \n",
    "#activity = df_semtypes.apply(lambda row: {row['Activity']: row['Activities & Behaviors']} ,axis=1)\n",
    "activity = dict(zip(df_semtypes['Activity'],df_semtypes['Activities & Behaviors']))\n",
    "activity"
   ]
  },
  {
   "cell_type": "markdown",
   "metadata": {},
   "source": [
    "### Example for presentation"
   ]
  },
  {
   "cell_type": "code",
   "execution_count": 183,
   "metadata": {},
   "outputs": [
    {
     "data": {
      "text/plain": [
       "[[1, 42, 62, 'persistent dry cough', 'C0857172', 1.0, {'Sign or Symptom'}],\n",
       " [1,\n",
       "  318,\n",
       "  334,\n",
       "  'dextromethorphan',\n",
       "  'C0011816',\n",
       "  1.0,\n",
       "  {'Clinical Drug', 'Organic Chemical', 'Pharmacologic Substance'}],\n",
       " [1,\n",
       "  364,\n",
       "  375,\n",
       "  'benzonatate',\n",
       "  'C0053229',\n",
       "  1.0,\n",
       "  {'Organic Chemical', 'Pharmacologic Substance'}],\n",
       " [1,\n",
       "  380,\n",
       "  391,\n",
       "  'hydrocodone',\n",
       "  'C0020264',\n",
       "  1.0,\n",
       "  {'Laboratory Procedure', 'Organic Chemical', 'Pharmacologic Substance'}],\n",
       " [1, 353, 363, 'prescribed', 'C0278329', 1.0, {'Health Care Activity'}],\n",
       " [1, 239, 248, 'sensitive', 'C0020517', 1.0, {'Pathologic Function'}],\n",
       " [1,\n",
       "  655,\n",
       "  664,\n",
       "  'temporary',\n",
       "  'C3245481',\n",
       "  1.0,\n",
       "  {'Body Location or Region', 'Intellectual Product'}],\n",
       " [1, 665, 673, 'inhalers', 'C0021461', 1.0, {'Medical Device'}],\n",
       " [1, 723, 731, 'possible', 'C0332149', 1.0, {'Finding'}],\n",
       " [1,\n",
       "  300,\n",
       "  307,\n",
       "  'counter',\n",
       "  'C1705206',\n",
       "  1.0,\n",
       "  {'Health Care Activity', 'Medical Device'}],\n",
       " [1,\n",
       "  761,\n",
       "  768,\n",
       "  'inhaler',\n",
       "  'C0021461',\n",
       "  1.0,\n",
       "  {'Medical Device', 'Organism Function'}],\n",
       " [1,\n",
       "  856,\n",
       "  863,\n",
       "  'counter',\n",
       "  'C1705206',\n",
       "  1.0,\n",
       "  {'Health Care Activity', 'Medical Device'}],\n",
       " [1, 104, 110, 'little', 'C3889124', 1.0, {'Finding'}],\n",
       " [1, 111, 117, 'tickle', 'C0234201', 1.0, {'Organism Function'}],\n",
       " [1,\n",
       "  125,\n",
       "  131,\n",
       "  'throat',\n",
       "  'C0031354',\n",
       "  1.0,\n",
       "  {'Body Part, Organ, or Organ Component',\n",
       "   'Body Substance',\n",
       "   'Intellectual Product',\n",
       "   'Pharmacologic Substance'}],\n",
       " [1, 193, 199, 'injury', 'C3263723', 1.0, {'Injury or Poisoning'}],\n",
       " [1,\n",
       "  227,\n",
       "  233,\n",
       "  'throat',\n",
       "  'C0031354',\n",
       "  1.0,\n",
       "  {'Body Part, Organ, or Organ Component',\n",
       "   'Body Substance',\n",
       "   'Intellectual Product',\n",
       "   'Pharmacologic Substance'}],\n",
       " [1,\n",
       "  528,\n",
       "  534,\n",
       "  'ginger',\n",
       "  'C0939895',\n",
       "  1.0,\n",
       "  {'Immunologic Factor',\n",
       "   'Inorganic Chemical',\n",
       "   'Organic Chemical',\n",
       "   'Pharmacologic Substance'}],\n",
       " [1,\n",
       "  153,\n",
       "  158,\n",
       "  'cough',\n",
       "  'C0010200',\n",
       "  1.0,\n",
       "  {'Finding', 'Intellectual Product', 'Sign or Symptom'}],\n",
       " [1, 162, 167, 'think', 'C0039869', 1.0, {'Mental Process'}],\n",
       " [1, 273, 278, 'colds', 'C0009443', 1.0, {'Disease or Syndrome'}],\n",
       " [1,\n",
       "  521,\n",
       "  526,\n",
       "  'honey',\n",
       "  'C0939937',\n",
       "  1.0,\n",
       "  {'Organic Chemical', 'Pharmacologic Substance'}],\n",
       " [1, 747, 752, 'class', 'C0456387', 1.0, {'Intellectual Product'}],\n",
       " [1,\n",
       "  800,\n",
       "  805,\n",
       "  'cough',\n",
       "  'C0010200',\n",
       "  1.0,\n",
       "  {'Finding', 'Intellectual Product', 'Sign or Symptom'}],\n",
       " [1,\n",
       "  21,\n",
       "  25,\n",
       "  'cold',\n",
       "  'C0009443',\n",
       "  1.0,\n",
       "  {'Disease or Syndrome', 'Physiologic Function'}],\n",
       " [1,\n",
       "  78,\n",
       "  82,\n",
       "  'cold',\n",
       "  'C0009443',\n",
       "  1.0,\n",
       "  {'Disease or Syndrome', 'Physiologic Function'}],\n",
       " [1,\n",
       "  308,\n",
       "  312,\n",
       "  'meds',\n",
       "  'C3280240',\n",
       "  1.0,\n",
       "  {'Disease or Syndrome', 'Intellectual Product'}],\n",
       " [1, 559, 563, 'help', 'C1552861', 1.0, {'Intellectual Product'}],\n",
       " [1, 753, 757, 'type', 'C1552651', 1.0, {'Intellectual Product'}],\n",
       " [1, 617, 620, 'ask', 'C2699765', 1.0, {'Intellectual Product'}]]"
      ]
     },
     "execution_count": 183,
     "metadata": {},
     "output_type": "execute_result"
    }
   ],
   "source": [
    "example = all_chats[98]\n",
    "#common_concepts(example[0])\n",
    "tags = tag_utterances(1, str(example[0]), tagger)\n",
    "tags[:5]"
   ]
  },
  {
   "cell_type": "code",
   "execution_count": 150,
   "metadata": {},
   "outputs": [],
   "source": [
    "behaviors = []\n",
    "for utterance, _ in concepts_counts_new:\n",
    "    behavior_utterance = []\n",
    "    for concept in utterance:\n",
    "        try:\n",
    "            behavior_utterance.append(activity[concept])\n",
    "        except:\n",
    "            continue\n",
    "    behaviors.append((behavior_utterance,len(behavior_utterance),len(list(set(behavior_utterance)))))"
   ]
  },
  {
   "cell_type": "code",
   "execution_count": 165,
   "metadata": {},
   "outputs": [],
   "source": [
    "concepts_counts_new_counts = []\n",
    "for rs in behaviors:\n",
    "    concepts_counts_new_counts.append(rs[2])"
   ]
  },
  {
   "cell_type": "code",
   "execution_count": 168,
   "metadata": {},
   "outputs": [
    {
     "data": {
      "image/png": "[encoded data removed]",
      "text/plain": [
       "<Figure size 792x576 with 1 Axes>"
      ]
     },
     "metadata": {},
     "output_type": "display_data"
    },
    {
     "data": {
      "text/plain": [
       "<ggplot: (563144091)>"
      ]
     },
     "execution_count": 168,
     "metadata": {},
     "output_type": "execute_result"
    }
   ],
   "source": [
    "df_t = pd.DataFrame(concepts_counts_new_counts)\n",
    "df_t.columns = ['counts']\n",
    "\n",
    "ggplot(df_t,aes(x='counts')) + geom_bar() + theme_bw() + ggtitle('Distribution of counts of Entity Behaviors')"
   ]
  },
  {
   "cell_type": "code",
   "execution_count": 197,
   "metadata": {},
   "outputs": [
    {
     "data": {
      "text/html": [
       "<div>\n",
       "<style scoped>\n",
       "    .dataframe tbody tr th:only-of-type {\n",
       "        vertical-align: middle;\n",
       "    }\n",
       "\n",
       "    .dataframe tbody tr th {\n",
       "        vertical-align: top;\n",
       "    }\n",
       "\n",
       "    .dataframe thead th {\n",
       "        text-align: right;\n",
       "    }\n",
       "</style>\n",
       "<table border=\"1\" class=\"dataframe\">\n",
       "  <thead>\n",
       "    <tr style=\"text-align: right;\">\n",
       "      <th></th>\n",
       "      <th>Anatomy</th>\n",
       "      <th>Chemicals &amp; Drugs</th>\n",
       "      <th>Concepts &amp; Ideas</th>\n",
       "      <th>Devices</th>\n",
       "      <th>Disorders</th>\n",
       "      <th>Physiology</th>\n",
       "      <th>Procedures</th>\n",
       "    </tr>\n",
       "  </thead>\n",
       "  <tbody>\n",
       "    <tr>\n",
       "      <th>0</th>\n",
       "      <td>10</td>\n",
       "      <td>77.0</td>\n",
       "      <td>84</td>\n",
       "      <td>19.0</td>\n",
       "      <td>133</td>\n",
       "      <td>50</td>\n",
       "      <td>66</td>\n",
       "    </tr>\n",
       "    <tr>\n",
       "      <th>1</th>\n",
       "      <td>2</td>\n",
       "      <td>NaN</td>\n",
       "      <td>5</td>\n",
       "      <td>NaN</td>\n",
       "      <td>12</td>\n",
       "      <td>2</td>\n",
       "      <td>4</td>\n",
       "    </tr>\n",
       "  </tbody>\n",
       "</table>\n",
       "</div>"
      ],
      "text/plain": [
       "   Anatomy  Chemicals & Drugs  Concepts & Ideas  Devices  Disorders  \\\n",
       "0       10               77.0                84     19.0        133   \n",
       "1        2                NaN                 5      NaN         12   \n",
       "\n",
       "   Physiology  Procedures  \n",
       "0          50          66  \n",
       "1           2           4  "
      ]
     },
     "execution_count": 197,
     "metadata": {},
     "output_type": "execute_result"
    }
   ],
   "source": [
    "# behaviors[0]\n",
    "t1 = dict(Counter(behaviors[0][0]))\n",
    "t2 = dict(Counter(behaviors[1][0]))\n",
    "\n",
    "pd.DataFrame([t1,t2])"
   ]
  },
  {
   "cell_type": "code",
   "execution_count": 198,
   "metadata": {},
   "outputs": [],
   "source": [
    "from collections import Counter\n",
    "# create a dataframe of counts of health behaviors by utterance\n",
    "behavior_list = []\n",
    "for b in behaviors:\n",
    "    behavior_list.append(Counter(b[0]))"
   ]
  },
  {
   "cell_type": "code",
   "execution_count": 202,
   "metadata": {},
   "outputs": [
    {
     "data": {
      "text/plain": [
       "['Disorders',\n",
       " 'Anatomy',\n",
       " 'Chemicals & Drugs',\n",
       " 'Concepts & Ideas',\n",
       " 'Chemicals & Drugs',\n",
       " 'Disorders',\n",
       " 'Chemicals & Drugs',\n",
       " 'Chemicals & Drugs',\n",
       " 'Chemicals & Drugs']"
      ]
     },
     "execution_count": 202,
     "metadata": {},
     "output_type": "execute_result"
    }
   ],
   "source": [
    "b[0]"
   ]
  },
  {
   "cell_type": "code",
   "execution_count": 203,
   "metadata": {},
   "outputs": [
    {
     "data": {
      "text/plain": [
       "64233"
      ]
     },
     "execution_count": 203,
     "metadata": {},
     "output_type": "execute_result"
    }
   ],
   "source": [
    "len(behaviors)"
   ]
  },
  {
   "cell_type": "code",
   "execution_count": 207,
   "metadata": {},
   "outputs": [],
   "source": [
    "df_behaviors = pd.DataFrame(behavior_list)\n",
    "df_behaviors.to_csv('../data/behavior_df.csv',index=False)"
   ]
  },
  {
   "cell_type": "code",
   "execution_count": 84,
   "metadata": {},
   "outputs": [],
   "source": [
    "pickle.dump(q_concepts,open('../data/q_concepts.pickle','wb'))\n",
    "pickle.dump(concepts_counts_new,open('../data/concepts_counts.pickle','wb'))"
   ]
  },
  {
   "cell_type": "code",
   "execution_count": 75,
   "metadata": {},
   "outputs": [
    {
     "data": {
      "text/plain": [
       "96112"
      ]
     },
     "execution_count": 75,
     "metadata": {},
     "output_type": "execute_result"
    }
   ],
   "source": [
    "len(concepts_counts)"
   ]
  },
  {
   "cell_type": "code",
   "execution_count": 14,
   "metadata": {},
   "outputs": [
    {
     "data": {
      "text/plain": [
       "19.246795405360412"
      ]
     },
     "execution_count": 14,
     "metadata": {},
     "output_type": "execute_result"
    }
   ],
   "source": [
    "# average number of concepts per utterance pair\n",
    "count / len(all_chats)"
   ]
  },
  {
   "cell_type": "markdown",
   "metadata": {},
   "source": [
    "#### UMLS tagging for original utterances"
   ]
  },
  {
   "cell_type": "code",
   "execution_count": 25,
   "metadata": {},
   "outputs": [
    {
     "name": "stdout",
     "output_type": "stream",
     "text": [
      "Comments Table Shape: (557648, 24)\n",
      "Posts table shape: (43615, 35)\n",
      "30710\n",
      "Final combined table shape: (139535, 28)\n"
     ]
    }
   ],
   "source": [
    "import pandas as pd\n",
    "pd.set_option('display.max_columns', 500)\n",
    "from processing import DataPipeline\n",
    "pd.set_option('display.max_columns', 500) # more columns displayed at once\n",
    "\n",
    "# Set path for importing data\n",
    "data_instance = DataPipeline(comments_path = '../data/reddit_comments_askDocs_2014_to_2018_03.gz',\n",
    "                            posts_path = '../data/original_posts_under_askDocs_subreddit_id.gz')\n",
    "df = data_instance.load_full_thread()"
   ]
  },
  {
   "cell_type": "code",
   "execution_count": null,
   "metadata": {},
   "outputs": [
    {
     "name": "stderr",
     "output_type": "stream",
     "text": [
      " 29%|██▉       | 8852/30710 [20:37<50:56,  7.15it/s]  "
     ]
    }
   ],
   "source": [
    "initial_q = df[df['is_thread_start'] == 1]['body'].apply(lambda r: str(r))\n",
    "thread_concepts = []\n",
    "for thread in tqdm.tqdm(initial_q):\n",
    "    thread_concepts += common_concepts(thread)"
   ]
  },
  {
   "cell_type": "code",
   "execution_count": 46,
   "metadata": {},
   "outputs": [
    {
     "name": "stdout",
     "output_type": "stream",
     "text": [
      "[nltk_data] Downloading package stopwords to\n",
      "[nltk_data]     /Users/austinpowell/nltk_data...\n",
      "[nltk_data]   Unzipping corpora/stopwords.zip.\n",
      "[nltk_data] Downloading package punkt to\n",
      "[nltk_data]     /Users/austinpowell/nltk_data...\n",
      "[nltk_data]   Package punkt is already up-to-date!\n"
     ]
    }
   ],
   "source": [
    "from nltk import word_tokenize\n",
    "import nltk\n",
    "# Import and download stopwords from NLTK.\n",
    "from nltk.corpus import stopwords\n",
    "from nltk import download\n",
    "nltk.download('stopwords')  # Download stopwords list.\n",
    "\n",
    "# Remove stopwords.\n",
    "stop_words = stopwords.words('english')\n",
    "nltk.download('punkt')  # Download data for tokenizer.\n",
    "\n",
    "def preprocess(doc):\n",
    "    doc = doc.lower()  # Lower the text.\n",
    "    doc = word_tokenize(doc)  # Split into words.\n",
    "    doc = [w for w in doc if not w in stop_words]  # Remove stopwords.\n",
    "    doc = [w for w in doc if w.isalpha()]  # Remove numbers and punctuation.\n",
    "    return doc"
   ]
  },
  {
   "cell_type": "code",
   "execution_count": 39,
   "metadata": {},
   "outputs": [],
   "source": [
    "import gensim\n",
    "model = gensim.models.Word2Vec(thread_concepts, workers=3, size=100)\n",
    "\n",
    "from gensim.similarities import WmdSimilarity\n",
    "num_best = 10\n",
    "instance = WmdSimilarity(thread_concepts, model, num_best=10)"
   ]
  },
  {
   "cell_type": "code",
   "execution_count": 61,
   "metadata": {},
   "outputs": [
    {
     "name": "stdout",
     "output_type": "stream",
     "text": [
      "CPU times: user 3 µs, sys: 1 µs, total: 4 µs\n",
      "Wall time: 7.15 µs\n"
     ]
    },
    {
     "data": {
      "text/plain": [
       "[(489770, 0.685390297758631),\n",
       " (143718, 0.685390297758631),\n",
       " (395058, 0.685390297758631),\n",
       " (677616, 0.685390297758631),\n",
       " (1062694, 0.685390297758631),\n",
       " (976900, 0.685390297758631),\n",
       " (634355, 0.685390297758631),\n",
       " (1031080, 0.685390297758631),\n",
       " (1017620, 0.685390297758631),\n",
       " (153039, 0.685390297758631)]"
      ]
     },
     "execution_count": 61,
     "metadata": {},
     "output_type": "execute_result"
    }
   ],
   "source": [
    "%time\n",
    "sentence = \"Hey, how's your husband doing now? Hope everything is okay\"\n",
    "query = preprocess(sentence)\n",
    "sims = instance[sentence]\n",
    "sims\n"
   ]
  },
  {
   "cell_type": "code",
   "execution_count": 47,
   "metadata": {},
   "outputs": [
    {
     "name": "stdout",
     "output_type": "stream",
     "text": [
      "Cell took 32.72 seconds to run.\n"
     ]
    }
   ],
   "source": [
    "import time\n",
    "start = time.time()\n",
    "\n",
    "sent = 'Very good, you should seat outdoor.'\n",
    "query = preprocess(sent)\n",
    "\n",
    "sims = instance[query]  # A query is simply a \"look-up\" in the similarity class.\n",
    "\n",
    "print ('Cell took %.2f seconds to run.' %(time.time() - start))"
   ]
  },
  {
   "cell_type": "code",
   "execution_count": 48,
   "metadata": {},
   "outputs": [
    {
     "name": "stdout",
     "output_type": "stream",
     "text": [
      "Query:\n",
      "Very good, you should seat outdoor.\n",
      "\n"
     ]
    },
    {
     "ename": "IndexError",
     "evalue": "list index out of range",
     "output_type": "error",
     "traceback": [
      "\u001b[0;31m---------------------------------------------------------------------------\u001b[0m",
      "\u001b[0;31mIndexError\u001b[0m                                Traceback (most recent call last)",
      "\u001b[0;32m<ipython-input-48-555598d2760b>\u001b[0m in \u001b[0;36m<module>\u001b[0;34m()\u001b[0m\n\u001b[1;32m      4\u001b[0m \u001b[0;32mfor\u001b[0m \u001b[0mi\u001b[0m \u001b[0;32min\u001b[0m \u001b[0mrange\u001b[0m\u001b[0;34m(\u001b[0m\u001b[0mnum_best\u001b[0m\u001b[0;34m)\u001b[0m\u001b[0;34m:\u001b[0m\u001b[0;34m\u001b[0m\u001b[0m\n\u001b[1;32m      5\u001b[0m     \u001b[0mprint\u001b[0m\u001b[0;34m(\u001b[0m\u001b[0;34m)\u001b[0m\u001b[0;34m\u001b[0m\u001b[0m\n\u001b[0;32m----> 6\u001b[0;31m     \u001b[0mprint\u001b[0m \u001b[0;34m(\u001b[0m\u001b[0;34m'sim = %.4f'\u001b[0m \u001b[0;34m%\u001b[0m \u001b[0msims\u001b[0m\u001b[0;34m[\u001b[0m\u001b[0mi\u001b[0m\u001b[0;34m]\u001b[0m\u001b[0;34m[\u001b[0m\u001b[0;36m1\u001b[0m\u001b[0;34m]\u001b[0m\u001b[0;34m)\u001b[0m\u001b[0;34m\u001b[0m\u001b[0m\n\u001b[0m\u001b[1;32m      7\u001b[0m     \u001b[0mprint\u001b[0m \u001b[0;34m(\u001b[0m\u001b[0mdocuments\u001b[0m\u001b[0;34m[\u001b[0m\u001b[0msims\u001b[0m\u001b[0;34m[\u001b[0m\u001b[0mi\u001b[0m\u001b[0;34m]\u001b[0m\u001b[0;34m[\u001b[0m\u001b[0;36m0\u001b[0m\u001b[0;34m]\u001b[0m\u001b[0;34m]\u001b[0m\u001b[0;34m)\u001b[0m\u001b[0;34m\u001b[0m\u001b[0m\n",
      "\u001b[0;31mIndexError\u001b[0m: list index out of range"
     ]
    }
   ],
   "source": [
    "# Print the query and the retrieved documents, together with their similarities.\n",
    "print ('Query:')\n",
    "print (sent)\n",
    "for i in range(num_best):\n",
    "    print()\n",
    "    print ('sim = %.4f' % sims[i][1])\n",
    "    print (documents[sims[i][0]])"
   ]
  }
 ],
 "metadata": {
  "kernelspec": {
   "display_name": "nlp-env",
   "language": "python",
   "name": "nlp-env"
  },
  "language_info": {
   "codemirror_mode": {
    "name": "ipython",
    "version": 3
   },
   "file_extension": ".py",
   "mimetype": "text/x-python",
   "name": "python",
   "nbconvert_exporter": "python",
   "pygments_lexer": "ipython3",
   "version": "3.6.5"
  }
 },
 "nbformat": 4,
 "nbformat_minor": 2
}
