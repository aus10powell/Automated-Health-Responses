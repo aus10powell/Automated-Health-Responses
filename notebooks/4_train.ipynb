{
 "cells": [
  {
   "cell_type": "code",
   "execution_count": 1,
   "metadata": {},
   "outputs": [
    {
     "ename": "SyntaxError",
     "evalue": "Missing parentheses in call to 'print'. Did you mean print(tf.__version__)? (<ipython-input-1-bdcca4f92e9c>, line 9)",
     "output_type": "error",
     "traceback": [
      "\u001b[0;36m  File \u001b[0;32m\"<ipython-input-1-bdcca4f92e9c>\"\u001b[0;36m, line \u001b[0;32m9\u001b[0m\n\u001b[0;31m    print tf.__version__\u001b[0m\n\u001b[0m           ^\u001b[0m\n\u001b[0;31mSyntaxError\u001b[0m\u001b[0;31m:\u001b[0m Missing parentheses in call to 'print'. Did you mean print(tf.__version__)?\n"
     ]
    }
   ],
   "source": [
    "import tensorflow as tf\n",
    "import numpy as np\n",
    "import math\n",
    "from model import Seq2Seq\n",
    "from batherize import batherize\n",
    "from data.data import load_data_as_array\n",
    "from data.data import VOCAB_SIZE\n",
    "from data.data import decode\n",
    "print tf.__version__\n",
    "\n",
    "\n",
    "metadata, idx_q, idx_a = load_data_as_array(PATH='data/')\n",
    "batch = batherize(train_x=idx_q, train_y=idx_a, batch_size=50)\n",
    "\n",
    "def decoder(seq):\n",
    "    return decode(seq, metadata['idx2w'])\n",
    "print (\"Total number of lines %d and batches %f\" % (batch.n, batch.b))\n",
    "with tf.Session() as session:\n",
    "    model = Seq2Seq(vocab_size=VOCAB_SIZE)\n",
    "    session.run(tf.global_variables_initializer())\n",
    "model.train(session, batch, decoder=decoder)"
   ]
  },
  {
   "cell_type": "code",
   "execution_count": null,
   "metadata": {},
   "outputs": [],
   "source": []
  }
 ],
 "metadata": {
  "kernelspec": {
   "display_name": "nlp-env",
   "language": "python",
   "name": "nlp-env"
  },
  "language_info": {
   "codemirror_mode": {
    "name": "ipython",
    "version": 3
   },
   "file_extension": ".py",
   "mimetype": "text/x-python",
   "name": "python",
   "nbconvert_exporter": "python",
   "pygments_lexer": "ipython3",
   "version": "3.6.5"
  }
 },
 "nbformat": 4,
 "nbformat_minor": 2
}
