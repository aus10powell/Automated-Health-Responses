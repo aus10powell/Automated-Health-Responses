{
 "cells": [
  {
   "cell_type": "code",
   "execution_count": 22,
   "metadata": {},
   "outputs": [],
   "source": [
    "import pandas as pd\n",
    "\n",
    "# Custom\n",
    "from processing import tag_utterances\n",
    "from processing import load_sem_types\n",
    "from processing import load_comments\n",
    "pd.set_option('display.max_columns', 500) # more columns displayed at once"
   ]
  },
  {
   "cell_type": "code",
   "execution_count": 23,
   "metadata": {},
   "outputs": [
    {
     "name": "stdout",
     "output_type": "stream",
     "text": [
      "Shape: (557648, 23)\n"
     ]
    }
   ],
   "source": [
    "# import comments\n",
    "path_to_data = '../data/reddit_comments_askDocs_2014_to_2018_03.gz'\n",
    "df = load_comments(path_to_data)"
   ]
  },
  {
   "cell_type": "markdown",
   "metadata": {},
   "source": [
    "There is a lot that could be done with formatting the data for training conversations:\n",
    "\n",
    "* Option 1: All responses are equal\n",
    "    * Treat every thread as a conversation\n",
    "    * Every comment in the thread as a response to the original AskDocs"
   ]
  },
  {
   "cell_type": "markdown",
   "metadata": {},
   "source": [
    "## Option 1: All responses are equal\n",
    "\n",
    "3 files to create:\n",
    "* Thread conversations: Contains dialogue structure\n",
    "* Thread lines: Contains actual text of each utterance\n",
    "* Utterance metadata: Contains information about each utterance such as if the author was a clinician,moderator, data, score etc."
   ]
  },
  {
   "cell_type": "code",
   "execution_count": 20,
   "metadata": {},
   "outputs": [],
   "source": [
    "list_of_threads = df['link_id_short'].unique().tolist()\n",
    "\n",
    "# loop through all threads\n",
    "for thread in list_of_threads[:3]:\n",
    "    df_thread = df.loc[df['link_id_short'] == thread\n",
    "    # get authors\n",
    "    "
   ]
  },
  {
   "cell_type": "code",
   "execution_count": 21,
   "metadata": {},
   "outputs": [
    {
     "data": {
      "text/html": [
       "<div>\n",
       "<style scoped>\n",
       "    .dataframe tbody tr th:only-of-type {\n",
       "        vertical-align: middle;\n",
       "    }\n",
       "\n",
       "    .dataframe tbody tr th {\n",
       "        vertical-align: top;\n",
       "    }\n",
       "\n",
       "    .dataframe thead th {\n",
       "        text-align: right;\n",
       "    }\n",
       "</style>\n",
       "<table border=\"1\" class=\"dataframe\">\n",
       "  <thead>\n",
       "    <tr style=\"text-align: right;\">\n",
       "      <th></th>\n",
       "      <th>body</th>\n",
       "      <th>score_hidden</th>\n",
       "      <th>archived</th>\n",
       "      <th>name</th>\n",
       "      <th>author</th>\n",
       "      <th>author_flair_text</th>\n",
       "      <th>downs</th>\n",
       "      <th>created_utc</th>\n",
       "      <th>subreddit_id</th>\n",
       "      <th>link_id</th>\n",
       "      <th>parent_id</th>\n",
       "      <th>score</th>\n",
       "      <th>retrieved_on</th>\n",
       "      <th>controversiality</th>\n",
       "      <th>gilded</th>\n",
       "      <th>id</th>\n",
       "      <th>subreddit</th>\n",
       "      <th>ups</th>\n",
       "      <th>distinguished</th>\n",
       "      <th>author_flair_css_class</th>\n",
       "      <th>removal_reason</th>\n",
       "      <th>link_id_short</th>\n",
       "      <th>parent_id_short</th>\n",
       "    </tr>\n",
       "  </thead>\n",
       "  <tbody>\n",
       "    <tr>\n",
       "      <th>2</th>\n",
       "      <td>Never been tested for that.  I was hoping the ...</td>\n",
       "      <td>1.0</td>\n",
       "      <td>NaN</td>\n",
       "      <td>NaN</td>\n",
       "      <td>-o2</td>\n",
       "      <td>This user has not yet been verified.</td>\n",
       "      <td>NaN</td>\n",
       "      <td>1461952470</td>\n",
       "      <td>t5_2xtuc</td>\n",
       "      <td>t3_4gz1fi</td>\n",
       "      <td>t1_d2mbnhi</td>\n",
       "      <td>1</td>\n",
       "      <td>1.463777e+09</td>\n",
       "      <td>0</td>\n",
       "      <td>0</td>\n",
       "      <td>d2mce34</td>\n",
       "      <td>AskDocs</td>\n",
       "      <td>1.0</td>\n",
       "      <td>NaN</td>\n",
       "      <td>default</td>\n",
       "      <td>NaN</td>\n",
       "      <td>4gz1fi</td>\n",
       "      <td>d2mbnhi</td>\n",
       "    </tr>\n",
       "    <tr>\n",
       "      <th>50215</th>\n",
       "      <td>Have you ever been diagnosed or treated for GE...</td>\n",
       "      <td>1.0</td>\n",
       "      <td>NaN</td>\n",
       "      <td>NaN</td>\n",
       "      <td>cuteman</td>\n",
       "      <td>This user has not yet been verified.</td>\n",
       "      <td>NaN</td>\n",
       "      <td>1461951490</td>\n",
       "      <td>t5_2xtuc</td>\n",
       "      <td>t3_4gz1fi</td>\n",
       "      <td>t3_4gz1fi</td>\n",
       "      <td>2</td>\n",
       "      <td>1.463777e+09</td>\n",
       "      <td>0</td>\n",
       "      <td>0</td>\n",
       "      <td>d2mbnhi</td>\n",
       "      <td>AskDocs</td>\n",
       "      <td>2.0</td>\n",
       "      <td>NaN</td>\n",
       "      <td>default</td>\n",
       "      <td>NaN</td>\n",
       "      <td>4gz1fi</td>\n",
       "      <td>4gz1fi</td>\n",
       "    </tr>\n",
       "    <tr>\n",
       "      <th>50338</th>\n",
       "      <td>Chest pain (angina) can often be a manifestati...</td>\n",
       "      <td>1.0</td>\n",
       "      <td>NaN</td>\n",
       "      <td>NaN</td>\n",
       "      <td>cuteman</td>\n",
       "      <td>This user has not yet been verified.</td>\n",
       "      <td>NaN</td>\n",
       "      <td>1461955247</td>\n",
       "      <td>t5_2xtuc</td>\n",
       "      <td>t3_4gz1fi</td>\n",
       "      <td>t1_d2mce34</td>\n",
       "      <td>2</td>\n",
       "      <td>1.463778e+09</td>\n",
       "      <td>0</td>\n",
       "      <td>0</td>\n",
       "      <td>d2meh7d</td>\n",
       "      <td>AskDocs</td>\n",
       "      <td>2.0</td>\n",
       "      <td>NaN</td>\n",
       "      <td>default</td>\n",
       "      <td>NaN</td>\n",
       "      <td>4gz1fi</td>\n",
       "      <td>d2mce34</td>\n",
       "    </tr>\n",
       "  </tbody>\n",
       "</table>\n",
       "</div>"
      ],
      "text/plain": [
       "                                                    body  score_hidden  \\\n",
       "2      Never been tested for that.  I was hoping the ...           1.0   \n",
       "50215  Have you ever been diagnosed or treated for GE...           1.0   \n",
       "50338  Chest pain (angina) can often be a manifestati...           1.0   \n",
       "\n",
       "      archived name   author                     author_flair_text  downs  \\\n",
       "2          NaN  NaN      -o2  This user has not yet been verified.    NaN   \n",
       "50215      NaN  NaN  cuteman  This user has not yet been verified.    NaN   \n",
       "50338      NaN  NaN  cuteman  This user has not yet been verified.    NaN   \n",
       "\n",
       "       created_utc subreddit_id    link_id   parent_id  score  retrieved_on  \\\n",
       "2       1461952470     t5_2xtuc  t3_4gz1fi  t1_d2mbnhi      1  1.463777e+09   \n",
       "50215   1461951490     t5_2xtuc  t3_4gz1fi   t3_4gz1fi      2  1.463777e+09   \n",
       "50338   1461955247     t5_2xtuc  t3_4gz1fi  t1_d2mce34      2  1.463778e+09   \n",
       "\n",
       "       controversiality  gilded       id subreddit  ups distinguished  \\\n",
       "2                     0       0  d2mce34   AskDocs  1.0           NaN   \n",
       "50215                 0       0  d2mbnhi   AskDocs  2.0           NaN   \n",
       "50338                 0       0  d2meh7d   AskDocs  2.0           NaN   \n",
       "\n",
       "      author_flair_css_class  removal_reason link_id_short parent_id_short  \n",
       "2                    default             NaN        4gz1fi         d2mbnhi  \n",
       "50215                default             NaN        4gz1fi          4gz1fi  \n",
       "50338                default             NaN        4gz1fi         d2mce34  "
      ]
     },
     "execution_count": 21,
     "metadata": {},
     "output_type": "execute_result"
    }
   ],
   "source": [
    "df_thread.head()"
   ]
  },
  {
   "cell_type": "code",
   "execution_count": 15,
   "metadata": {},
   "outputs": [
    {
     "data": {
      "text/plain": [
       "moderator    16938\n",
       "Name: distinguished, dtype: int64"
      ]
     },
     "execution_count": 15,
     "metadata": {},
     "output_type": "execute_result"
    }
   ],
   "source": [
    "df.distinguished.value_counts()"
   ]
  },
  {
   "cell_type": "code",
   "execution_count": null,
   "metadata": {},
   "outputs": [],
   "source": []
  }
 ],
 "metadata": {
  "kernelspec": {
   "display_name": "nlp-env",
   "language": "python",
   "name": "nlp-env"
  },
  "language_info": {
   "codemirror_mode": {
    "name": "ipython",
    "version": 3
   },
   "file_extension": ".py",
   "mimetype": "text/x-python",
   "name": "python",
   "nbconvert_exporter": "python",
   "pygments_lexer": "ipython3",
   "version": "3.6.5"
  }
 },
 "nbformat": 4,
 "nbformat_minor": 2
}
