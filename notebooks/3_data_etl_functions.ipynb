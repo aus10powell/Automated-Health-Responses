{
 "cells": [
  {
   "cell_type": "markdown",
   "metadata": {},
   "source": [
    "## Purpose:\n",
    "\n",
    "Load data and create query/response pairs in different ways"
   ]
  },
  {
   "cell_type": "markdown",
   "metadata": {},
   "source": [
    "## Initialize"
   ]
  },
  {
   "cell_type": "code",
   "execution_count": 6,
   "metadata": {},
   "outputs": [],
   "source": [
    "import pandas as pd\n",
    "import pickle\n",
    "\n",
    "# Custom\n",
    "from processing import tag_utterances\n",
    "from processing import load_sem_types\n",
    "from processing import DataPipeline\n",
    "pd.set_option('display.max_columns', 500) # more columns displayed at once\n",
    "\n",
    "# Set path for importing data\n",
    "data_instance = DataPipeline(comments_path = '../data/reddit_comments_askDocs_2014_to_2018_03.gz',\n",
    "                            posts_path = '../data/original_posts_under_askDocs_subreddit_id.gz')"
   ]
  },
  {
   "cell_type": "markdown",
   "metadata": {},
   "source": [
    "There is a lot that could be done with formatting the data for training conversations:\n",
    "\n",
    "* Option 1: All responses are equal: This is probably not going to work. \n",
    "    * Treat every thread as a conversation\n",
    "    * Every comment in the thread as a response to the original AskDocs\n",
    "* Option 2 **Models a back-and-forth** interaction between bot and human: \n",
    " * There might be a sub-option here: We get more data if we don't join with posts (i.e. the post that started the thread). Each post that had the original post as its parent_id would become the top level but be eliminated if it did not have post response.\n",
    "* Option 3 **Response Retrieval**:\n",
    "    * The initial post is the question first response by the certified clinition is the response"
   ]
  },
  {
   "cell_type": "markdown",
   "metadata": {},
   "source": [
    "## Option 1: All responses are equal\n",
    "\n",
    "* Each title of the thread is listed as the question \n",
    "* Every comment in that thread is listed as the answer\n",
    "* The comment of the first query/post asked by the original author is ignored"
   ]
  },
  {
   "cell_type": "code",
   "execution_count": 2,
   "metadata": {},
   "outputs": [
    {
     "name": "stdout",
     "output_type": "stream",
     "text": [
      "Comments Table Shape: (557648, 24)\n",
      "Posts table shape: (43615, 35)\n",
      "30710\n",
      "Final combined table shape: (139535, 28)\n",
      "Count of threads\n"
     ]
    },
    {
     "data": {
      "text/plain": [
       "0.0    108825\n",
       "1.0     30710\n",
       "Name: is_thread_start, dtype: int64"
      ]
     },
     "execution_count": 2,
     "metadata": {},
     "output_type": "execute_result"
    }
   ],
   "source": [
    "\n",
    "df = data_instance.load_full_thread()\n",
    "\n",
    "print('\\nCount of threads:')\n",
    "df['is_thread_start'].value_counts()"
   ]
  },
  {
   "cell_type": "code",
   "execution_count": 8,
   "metadata": {},
   "outputs": [
    {
     "name": "stdout",
     "output_type": "stream",
     "text": [
      "CPU times: user 6min 25s, sys: 2.38 s, total: 6min 27s\n",
      "Wall time: 6min 28s\n"
     ]
    }
   ],
   "source": [
    "%%time\n",
    "list_of_threads = df['link_id_short'].unique().tolist()\n",
    "\n",
    "query = []\n",
    "answer = []\n",
    "\n",
    "# loop through all threads\n",
    "for thread in list_of_threads:\n",
    "    try:\n",
    "        df_subset = df.loc[df['link_id_short']==thread]\n",
    "        # assert there is one poster\n",
    "        assert sum(df_subset['is_thread_start'].unique()) == 1\n",
    "\n",
    "        thread_author = str(df_subset.loc[df_subset['is_thread_start']==1]['author'].unique()[0]).strip()\n",
    "        thread_question = str(df_subset.loc[df_subset['is_thread_start']==1]['body'][0]).strip()\n",
    "\n",
    "\n",
    "        thread_title = df_subset.title[df_subset.title.notnull()][0]\n",
    "\n",
    "        try:\n",
    "            thread_title_short = df_subset.url.unique()[1].split('/')[-2]\n",
    "        except:\n",
    "            thread_title_short = df_subset.url.unique()[1]\n",
    "\n",
    "\n",
    "        thread_readers = df_subset.loc[df_subset['parent_id_short']==thread].author.tolist()\n",
    "\n",
    "        if False:\n",
    "            print('thread:',thread)\n",
    "            print('thread_author:',thread_author)\n",
    "            print('url:',df_subset.url.unique()[1])\n",
    "            print('thread_title short:',thread_title_short)\n",
    "            print('thread_title:',thread_title)\n",
    "            print('thread_readers:',thread_readers)\n",
    "\n",
    "        for index,row in df_subset.loc[df_subset['is_thread_start']!=1].iterrows():\n",
    "            query.append({'author':thread_author,'reader':row['author'],'utterance':thread_title})\n",
    "            answer.append({'author':row['author'], 'reader': thread_author,'utterance':row['body']})\n",
    "    except:\n",
    "        print(thread)\n",
    "        \n",
    "assert len(query)==len(answer)"
   ]
  },
  {
   "cell_type": "code",
   "execution_count": 17,
   "metadata": {},
   "outputs": [],
   "source": [
    "pickle.dump(zip(query,answer),open( '../data/all_responses_equal.p', \"wb\" ))"
   ]
  },
  {
   "cell_type": "code",
   "execution_count": 170,
   "metadata": {},
   "outputs": [
    {
     "name": "stdout",
     "output_type": "stream",
     "text": [
      "Out of hand tonsil infection. Help!\n",
      "\n",
      "Out of hand tonsil infection. Help!\n",
      "\n",
      "Out of hand tonsil infection. Help!\n",
      "\n",
      "Out of hand tonsil infection. Help!\n",
      "\n",
      "Out of hand tonsil infection. Help!\n",
      "\n",
      "Out of hand tonsil infection. Help!\n",
      "\n",
      "Out of hand tonsil infection. Help!\n",
      "\n"
     ]
    }
   ],
   "source": [
    "for idx, row in df_subset.iterrows():\n",
    "    print(df_subset.title[df_subset.title.notnull()][0])\n",
    "    #print(row['url'],row['body'])\n",
    "    print()"
   ]
  },
  {
   "cell_type": "code",
   "execution_count": 171,
   "metadata": {},
   "outputs": [
    {
     "name": "stdout",
     "output_type": "stream",
     "text": [
      "Q: {'author': 'dpeters14fuck', 'reader': 'ebast', 'utterance': 'Out of hand tonsil infection. Help!'}\n",
      "A: {'author': 'ebast', 'reader': 'dpeters14fuck', 'utterance': 'Well, then just be careful and try to avoid any kind of abdominal trauma. Best of luck! Get better soon so you can enjoy your vacations :)'}\n",
      "\n",
      "Q: {'author': 'dpeters14fuck', 'reader': 'dpeters14fuck', 'utterance': 'Out of hand tonsil infection. Help!'}\n",
      "A: {'author': 'dpeters14fuck', 'reader': 'dpeters14fuck', 'utterance': \"Thanks for the advice and well wishing! It's now wednesday and I've been all good at work so I guess as long as I'm not straining myself too much I'll be all good\"}\n",
      "\n",
      "Q: {'author': 'dpeters14fuck', 'reader': 'ebast', 'utterance': 'Out of hand tonsil infection. Help!'}\n",
      "A: {'author': 'ebast', 'reader': 'dpeters14fuck', 'utterance': \"You're welcome :) well, that's hard to say actually. Contact sports are like the classic thing you tell patients not to do because the spleen gets a little bigger during mono. I'd say you give it some time of rest, if possible. Didn't the doctors give you like a 'no working for x time' paper? I don't know the thing's name in english!\"}\n",
      "\n",
      "Q: {'author': 'dpeters14fuck', 'reader': 'ebast', 'utterance': 'Out of hand tonsil infection. Help!'}\n",
      "A: {'author': 'ebast', 'reader': 'dpeters14fuck', 'utterance': \"I'd say that's probably mononucleosis (i'm a last year medical student). Large tonsils. worse than any strep you've ever get, no effect with amoxicillin, trouble breathing and large painful lymph nodes. Yep, I'd say that. If so it doesn't really have a specific treatment except for acetaminophen and/or ibuprofen for fever and pain but you should get tested anyway. Also sometimes people with mono will get a skin rash when on amoxicillin. But not every one get's it. You should see a doc to confirm this and rule out other stuff like tonsil abcess or so.\"}\n",
      "\n",
      "Q: {'author': 'dpeters14fuck', 'reader': 'dpeters14fuck', 'utterance': 'Out of hand tonsil infection. Help!'}\n",
      "A: {'author': 'dpeters14fuck', 'reader': 'dpeters14fuck', 'utterance': \"I returned to urgent care when I couldn't breathe through my mouth at all the next day. The doctor suspected an abscess and said I should head to the ER to see if they would drain it. After being hooked up to an IV, given more antibiotics, and a steroid injection(which was all I asked for in the first place at urgent care for the swelling), and a CT scan, it turns out it is Mono after all(which is also surprising they didn't test for it at urgent care).  Anyway, I can at least eat soft foods now which is good. \\n\\n\\nAlso, I'm well aware I should avoid contact sports with mono due to risk of a ruptured spleen, but am I still able to lift heavy weights? At work I have to haul coffee sacks weighing anywhere from 150-200lbs so I want to be sure that wouldn't increase the risk\\n\\n\\nEdit: thanks for the reply btw you were spot on haha\"}\n",
      "\n",
      "Q: {'author': 'dpeters14fuck', 'reader': 'dpeters14fuck', 'utterance': 'Out of hand tonsil infection. Help!'}\n",
      "A: {'author': 'dpeters14fuck', 'reader': 'dpeters14fuck', 'utterance': \"I didn't get anything about taking days off work, however my employers are pretty flexible so if I do need time off I can just ask for it. On the other hand I don't feel all that terrible aside from a sore throat and I'd prefer not to take days off if I don't absolutely have to since I'll be out of the country in 2 weeks anyway \"}\n",
      "\n",
      "Number of Q/A: 6\n"
     ]
    }
   ],
   "source": [
    "for idx in range(len(query)):\n",
    "    print(\"Q:\", query[idx])\n",
    "    print(\"A:\", answer[idx])\n",
    "    print()\n",
    "print('Number of Q/A:',len(query))"
   ]
  },
  {
   "cell_type": "markdown",
   "metadata": {},
   "source": [
    "## Option 2: Every comment is a question and answer\n",
    "\n",
    "There might be a sub-option here: We get more data if we don't join with posts (i.e. the post that started the thread). Each post that had the original post as its parent_id would become the top level but be eliminated if it did not have post response."
   ]
  },
  {
   "cell_type": "code",
   "execution_count": 7,
   "metadata": {},
   "outputs": [
    {
     "name": "stdout",
     "output_type": "stream",
     "text": [
      "Comments Table Shape: (557648, 24)\n",
      "Posts table shape: (43615, 35)\n",
      "30710\n",
      "Final combined table shape: (139535, 28)\n",
      "CPU times: user 7.94 s, sys: 1.02 s, total: 8.96 s\n",
      "Wall time: 9.3 s\n"
     ]
    }
   ],
   "source": [
    "%%time\n",
    "df = data_instance.load_full_thread()"
   ]
  },
  {
   "cell_type": "code",
   "execution_count": 8,
   "metadata": {},
   "outputs": [
    {
     "data": {
      "text/html": [
       "<div>\n",
       "<style scoped>\n",
       "    .dataframe tbody tr th:only-of-type {\n",
       "        vertical-align: middle;\n",
       "    }\n",
       "\n",
       "    .dataframe tbody tr th {\n",
       "        vertical-align: top;\n",
       "    }\n",
       "\n",
       "    .dataframe thead th {\n",
       "        text-align: right;\n",
       "    }\n",
       "</style>\n",
       "<table border=\"1\" class=\"dataframe\">\n",
       "  <thead>\n",
       "    <tr style=\"text-align: right;\">\n",
       "      <th></th>\n",
       "      <th>link_id_short</th>\n",
       "      <th>parent_id</th>\n",
       "      <th>parent_id_short</th>\n",
       "      <th>post_id</th>\n",
       "      <th>id</th>\n",
       "    </tr>\n",
       "  </thead>\n",
       "  <tbody>\n",
       "    <tr>\n",
       "      <th>1662</th>\n",
       "      <td>37o1az</td>\n",
       "      <td>t3_37o1az</td>\n",
       "      <td>37o1az</td>\n",
       "      <td>cvkbr58</td>\n",
       "      <td>cvkbr58</td>\n",
       "    </tr>\n",
       "    <tr>\n",
       "      <th>1663</th>\n",
       "      <td>37o1az</td>\n",
       "      <td>t1_cvnw8ly</td>\n",
       "      <td>cvnw8ly</td>\n",
       "      <td>cvnwkg4</td>\n",
       "      <td>cvnwkg4</td>\n",
       "    </tr>\n",
       "    <tr>\n",
       "      <th>2156</th>\n",
       "      <td>3exs68</td>\n",
       "      <td>t3_3exs68</td>\n",
       "      <td>3exs68</td>\n",
       "      <td>cwphyrq</td>\n",
       "      <td>cwphyrq</td>\n",
       "    </tr>\n",
       "    <tr>\n",
       "      <th>2549</th>\n",
       "      <td>399nb8</td>\n",
       "      <td>t1_cw2sr75</td>\n",
       "      <td>cw2sr75</td>\n",
       "      <td>cw2svpt</td>\n",
       "      <td>cw2svpt</td>\n",
       "    </tr>\n",
       "    <tr>\n",
       "      <th>2550</th>\n",
       "      <td>399nb8</td>\n",
       "      <td>t1_cw1xikq</td>\n",
       "      <td>cw1xikq</td>\n",
       "      <td>cw2fe2o</td>\n",
       "      <td>cw2fe2o</td>\n",
       "    </tr>\n",
       "  </tbody>\n",
       "</table>\n",
       "</div>"
      ],
      "text/plain": [
       "     link_id_short   parent_id parent_id_short  post_id       id\n",
       "1662        37o1az   t3_37o1az          37o1az  cvkbr58  cvkbr58\n",
       "1663        37o1az  t1_cvnw8ly         cvnw8ly  cvnwkg4  cvnwkg4\n",
       "2156        3exs68   t3_3exs68          3exs68  cwphyrq  cwphyrq\n",
       "2549        399nb8  t1_cw2sr75         cw2sr75  cw2svpt  cw2svpt\n",
       "2550        399nb8  t1_cw1xikq         cw1xikq  cw2fe2o  cw2fe2o"
      ]
     },
     "execution_count": 8,
     "metadata": {},
     "output_type": "execute_result"
    }
   ],
   "source": [
    "# heres the situation we're dealing with in terms of looking at which post belongs to which\n",
    "df[['link_id_short','parent_id','parent_id_short','post_id','id']].head()"
   ]
  },
  {
   "cell_type": "code",
   "execution_count": 9,
   "metadata": {},
   "outputs": [
    {
     "name": "stdout",
     "output_type": "stream",
     "text": [
      "30710\n"
     ]
    }
   ],
   "source": [
    "# all original posts\n",
    "all_threads = df['link_id_short'].unique().tolist()\n",
    "print(len(all_threads))"
   ]
  },
  {
   "cell_type": "code",
   "execution_count": 10,
   "metadata": {},
   "outputs": [
    {
     "name": "stdout",
     "output_type": "stream",
     "text": [
      "Num total posts: (84, 28)\n",
      "Num first responses: 21\n"
     ]
    },
    {
     "data": {
      "text/plain": [
       "18"
      ]
     },
     "execution_count": 10,
     "metadata": {},
     "output_type": "execute_result"
    }
   ],
   "source": [
    "imp_columns = ['link_id_short','parent_id','parent_id_short','post_id','id']\n",
    "# example link_id 37o1az\n",
    "df_example = df[df['link_id_short'] == '37o1az']\n",
    "\n",
    "print('Num total posts:',df_example.shape)\n",
    "print('Num first responses:',sum(df_example['parent_id_short'] == df_example['link_id_short']))\n",
    "\n",
    "# original post\n",
    "df_example[df_example['body'].str.contains(\"Pertinent facts\")][imp_columns]\n",
    "\n",
    "query = []\n",
    "response = []\n",
    "\n",
    "qr_pair = []\n",
    "# Append top query\n",
    "query_id = df_example[df_example['parent_id'].isnull()]['link_id_short'].iloc[0]\n",
    "query_original = df_example[df_example['parent_id'].isnull()]['body'].iloc[0]\n",
    "# Append responses to top query \n",
    "df_example2 = df_example[(~df_example['parent_id'].isnull()) &\n",
    "                         (df_example['body'] != '[deleted]') & \n",
    "                         (df_example['parent_id_short'].str.contains(query_id))] # get the children\n",
    "\n",
    "for resp in df_example2['body'].tolist():\n",
    "    qr_pair.append((query_original,resp))\n",
    "# Create list of ids to find children\n",
    "len(df_example2['post_id'].unique())"
   ]
  },
  {
   "cell_type": "code",
   "execution_count": 11,
   "metadata": {},
   "outputs": [
    {
     "data": {
      "text/plain": [
       "['cvkbr58']"
      ]
     },
     "execution_count": 11,
     "metadata": {},
     "output_type": "execute_result"
    }
   ],
   "source": [
    "#\n",
    "df[(df['parent_id_short'].isin(['37o1az'])) &\n",
    "   (df['body'] != '[deleted]') # some entries have been removed for some reason\n",
    "  & (df['id'] == 'cvkbr58')]['id'].tolist()"
   ]
  },
  {
   "cell_type": "code",
   "execution_count": 12,
   "metadata": {},
   "outputs": [],
   "source": [
    "class QueryResponse:\n",
    "    \"\"\"\n",
    "    Recursive search to create query response-pairs.\n",
    "    \"\"\"\n",
    "    def __init__(self,parent_id_lst):\n",
    "        self.parent_id_lst = parent_id_lst\n",
    "\n",
    "        if type(self.parent_id_lst) == list:\n",
    "            self.children_id_lst = pd_data_frame[(pd_data_frame['parent_id_short'].isin(self.parent_id_lst)) &\n",
    "                                                 # some entries have been removed for some reason\n",
    "                                                 (pd_data_frame['body'] != '[deleted]') \n",
    "                                                ]['id'].tolist()\n",
    "        else:\n",
    "            self.children_id_lst = pd_data_frame[(pd_data_frame['parent_id_short'] == self.parent_id_lst) &\n",
    "                                                 # some entries have been removed for some reason\n",
    "                                                 (pd_data_frame['body'] != '[deleted]') \n",
    "                                                ]['id'].tolist()\n",
    "            \n",
    "        # Given a list of parent ids, turn the cooresponding text for those into queries\n",
    "        # and the entries whose are responses to the parent_ids given...turn those into responses.\n",
    "        if type(parent_id_lst) == str:\n",
    "            parent_id_lst = [parent_id_lst]\n",
    "        query_response = []\n",
    "        count = 0\n",
    "        # for parent_id in parent_id_lst:\n",
    "        while count < len(parent_id_lst):\n",
    "            query = pd_data_frame[pd_data_frame['id'] == parent_id_lst[count]]['body'].iloc[0]\n",
    "            children_ids = pd_data_frame[(pd_data_frame['parent_id_short']==parent_id_lst[count]) &\n",
    "                                              # some entries have been removed for some reason\n",
    "                                              (pd_data_frame['body'] != '[deleted]') \n",
    "                                             ]['id'].tolist()\n",
    "            for child_id in children_ids:\n",
    "                response = pd_data_frame[pd_data_frame['id'] == child_id]['body'].iloc[0]\n",
    "                query_response.append((query,response))\n",
    "            \n",
    "            count += 1\n",
    "            \n",
    "        self.query_response = query_response     \n",
    "    \n",
    "    @property\n",
    "    def child_elements(self):\n",
    "        return [QueryResponse(a) for a in self.children_id_lst]\n",
    "    \n",
    "    # Return the list of (query,response) tuples\n",
    "    @property\n",
    "    def get_value(self):\n",
    "        return self.query_response\n",
    "    \n",
    "def node_recurse_generator(node):\n",
    "    \"\"\"\n",
    "    Iterates through all response/query pairs. \"node\" is a QueryResponse object.\n",
    "    \"\"\"\n",
    "    yield node.query_response\n",
    "    for n in node.child_elements:\n",
    "        yield from node_recurse_generator(n)"
   ]
  },
  {
   "cell_type": "code",
   "execution_count": 6,
   "metadata": {},
   "outputs": [
    {
     "name": "stdout",
     "output_type": "stream",
     "text": [
      "Total num threads: 30710\n"
     ]
    }
   ],
   "source": [
    "print('Total num threads:',len(set(all_threads)))\n",
    "# example threads\n",
    "sample_threads = all_threads"
   ]
  },
  {
   "cell_type": "code",
   "execution_count": 7,
   "metadata": {},
   "outputs": [
    {
     "name": "stdout",
     "output_type": "stream",
     "text": [
      "Num conversations between a poster and 1 or more responses: 96113\n",
      "CPU times: user 2h 24min 36s, sys: 47.3 s, total: 2h 25min 24s\n",
      "Wall time: 2h 26min 19s\n"
     ]
    }
   ],
   "source": [
    "%%time\n",
    "\n",
    "# Global dataframe: can be set to test or for the full dataset\n",
    "pd_data_frame = df\n",
    "# Initialize\n",
    "recursive_object = QueryResponse(sample_threads)\n",
    "# Crawl through tree\n",
    "layered_chats = list(node_recurse_generator(recursive_object))\n",
    "print('Num conversations between a poster and 1 or more responses:',len(layered_chats))"
   ]
  },
  {
   "cell_type": "code",
   "execution_count": 8,
   "metadata": {},
   "outputs": [],
   "source": [
    "def unroll_chats(rolled_chats):\n",
    "    \"\"\"\n",
    "    Since each level of discourse is returned as a singled list, to get one long set of discourse\n",
    "    (and ignore any potential context) we need to join the individual lists together.\n",
    "    \"\"\"\n",
    "    chats = []\n",
    "    for layer in rolled_chats:\n",
    "        if type(layer) == list:\n",
    "            for chat in layer:\n",
    "                chats.append(chat)\n",
    "        elif type(layer) == tuple:\n",
    "            print('only 1 conversation here')\n",
    "            chats.append(chat)\n",
    "    return chats\n",
    "\n",
    "chats = unroll_chats(rolled_chats = layered_chats)"
   ]
  },
  {
   "cell_type": "code",
   "execution_count": 9,
   "metadata": {},
   "outputs": [
    {
     "name": "stdout",
     "output_type": "stream",
     "text": [
      "96113\n",
      "96112\n",
      "95546\n"
     ]
    }
   ],
   "source": [
    "print(len(layered_chats))\n",
    "print(len(chats))\n",
    "print(len(set(chats)))"
   ]
  },
  {
   "cell_type": "code",
   "execution_count": 10,
   "metadata": {},
   "outputs": [
    {
     "data": {
      "text/plain": [
       "[(\"Recently after every cold I seem to get a persistent dry cough long after the cold is gone. It's just a little tickle in the throat that keeps making me cough. I think it started after a vocal injury (overuse) that has made my throat more sensitive and prone to this after colds. I've tried over the counter meds with dextromethorphan and my doctor has prescribed benzonatate and hydrocodone saying the latter is the strongest stuff they've got, and it did absolutely nothing. I've also tried all the old wives remedies (honey, ginger tea, steam, etc) and no help either. \\n\\nWhat other Rx options are there that I can ask about? I've heard some people get temporary inhalers, would that be an option for me and what are the possible options? Which class/type of inhaler would be the best for treating cough? Steroid? Bronchodialator? Are there any over the counter options? \",\n",
       "  'Have you tried an a antihistamine?  Zyrtec, Allegra, and/or Claritin?'),\n",
       " (\"34, F, 5'7, 130-ish pounds, white, a couple weeks, FL, IST (sort of controlled sometimes with 50mg metoprolol twice a day) and hypothyroidism (controlled, 125mcg levothyroxine). I am in generally good health, blood work is always good, I feel physically healthy, exercise sometimes every day, but at least 5 days a week for about an hour a day. No drinking, smoking, drugs, etc. \\n\\nI have started waking up throughout the night. We have a young daughter going through a difficult diagnosis from this summer and I thought I was handling it as well as could be expected but am thinking I am not doing as good as once thought. I wake very panicked and unable to fall back asleep much of the time, instead pacing the house, cleaning, whatever I can do to keep my mind busy. I have noticed that I started also feeling an urge to hold my breath at times and will do it until my chest burns and aches because it strangely makes me feel a little better in the moment. I also feel like something is off, like something bad will happen to us in our home. I look out the blinds a lot at night, feel very skittish about noises. And I know I am being paranoid, but knowing that doesn't help me stop feeling that way. \\n\\nI am starting to dread night time though. \\n\\nI have never been a depressed or anxious person but does this sound like it could be related to those things, especially given that it has come up as we were dealt a difficult hand? What are the best ways to get through this myself, without taking time away from family/kids? I need to snap out of this, how can I regain control?\\n\\nThank you.\",\n",
       "  \"Sometimes you need to take some time for yourself so that you can carry on caring for others. Carer fatigue is a recognised thing, and it might be the case that you need some respite. Do you have any other symptoms? How's your appetite? Do you still find pleasure in doing the things that you enjoy?\"),\n",
       " (\"28\\nFemale\\n5'4''\\n125lbs\\nCaucasian\\n2 days\\n\\nI am a 28yr old female who had a miscarriage about a month ago. 2 weeks ago I started hemorrhaging and rushed to the ER. My hematocrit went from 43 to 27 while in the ER, so they did a D&amp;C. Stayed for a day and came home. Very little bleeding for the next few days, then none since. Yesterday I started having abdominal tenderness and some pain in my back and abdomen. No fever, no bleeding. Wondering if this could possibly be an infection, and if so, am I ok to wait until Monday to go to the Dr or is it more Urgent and I should head to instacare? Thanks for the advice in advance.\",\n",
       "  \"Probably something to be seen sooner rather than later. It's possible there are some retained products of conception or some endometritis/infection though two weeks is a lengthy delay. Any other symptoms?\")]"
      ]
     },
     "execution_count": 10,
     "metadata": {},
     "output_type": "execute_result"
    }
   ],
   "source": [
    "chats[100:103]"
   ]
  },
  {
   "cell_type": "code",
   "execution_count": 11,
   "metadata": {},
   "outputs": [],
   "source": [
    "# save data from data creation option 2: Every comment is a question and answer\n",
    "pickle.dump(chats,open( '../data/query_response_direct.p', \"wb\" ))"
   ]
  },
  {
   "cell_type": "markdown",
   "metadata": {},
   "source": [
    "### Option 3 **Response Retrieval**:\n",
    "\n",
    "* Disclaimer: According to original paper (https://arxiv.org/pdf/1506.08909.pdf) reddit data hypothesized to not suited very well for actual human-like conversation"
   ]
  },
  {
   "cell_type": "code",
   "execution_count": 2,
   "metadata": {},
   "outputs": [
    {
     "name": "stdout",
     "output_type": "stream",
     "text": [
      "Comments Table Shape: (557648, 24)\n",
      "Posts table shape: (43615, 35)\n",
      "30710\n",
      "Final combined table shape: (139535, 28)\n",
      "Comments Table Shape: (557648, 24)\n",
      "CPU times: user 14.9 s, sys: 1.66 s, total: 16.6 s\n",
      "Wall time: 16.8 s\n"
     ]
    }
   ],
   "source": [
    "%%time\n",
    "df = data_instance.load_full_thread()\n",
    "df_comments = data_instance.load_comments()"
   ]
  },
  {
   "cell_type": "code",
   "execution_count": 3,
   "metadata": {},
   "outputs": [
    {
     "data": {
      "image/png": "[encoded data removed]",
      "text/plain": [
       "<Figure size 432x288 with 1 Axes>"
      ]
     },
     "metadata": {},
     "output_type": "display_data"
    }
   ],
   "source": [
    "# distribution of turns\n",
    "import matplotlib.pyplot as plt\n",
    "%matplotlib inline\n",
    "df['link_id_short'].value_counts().hist(bins=40);"
   ]
  },
  {
   "cell_type": "code",
   "execution_count": 4,
   "metadata": {},
   "outputs": [
    {
     "name": "stdout",
     "output_type": "stream",
     "text": [
      "Turns in conversation for combined posts\n",
      "mean: 4.543633995441224\n",
      "median: 4.0\n",
      "min: 2\n",
      "max: 106\n",
      "Count of where turns equals 2: 7843\n"
     ]
    }
   ],
   "source": [
    "import numpy as np\n",
    "print('Turns in conversation for combined posts')\n",
    "v = df['link_id_short'].value_counts().values\n",
    "print('mean:', np.mean(v))\n",
    "print('median:', np.median(v) )\n",
    "print('min:',min(v))\n",
    "print('max:',max(v))\n",
    "print('Count of where turns equals 2:',sum(v==2))"
   ]
  },
  {
   "cell_type": "code",
   "execution_count": 5,
   "metadata": {},
   "outputs": [
    {
     "data": {
      "text/plain": [
       "139535"
      ]
     },
     "execution_count": 5,
     "metadata": {},
     "output_type": "execute_result"
    }
   ],
   "source": [
    "len(df)"
   ]
  },
  {
   "cell_type": "markdown",
   "metadata": {},
   "source": [
    "Note: although paper filtered by a minimum of 3 turns per conversation, I'm sticking with 2 since the goal is not a long-term conversation, but a inter-active response."
   ]
  },
  {
   "cell_type": "code",
   "execution_count": 6,
   "metadata": {},
   "outputs": [
    {
     "data": {
      "text/plain": [
       "170.70797785737545"
      ]
     },
     "execution_count": 6,
     "metadata": {},
     "output_type": "execute_result"
    }
   ],
   "source": [
    "count = df[df['is_thread_start']==1]['body'].apply(lambda r: len(str(r).split()))\n",
    "np.mean(count)"
   ]
  },
  {
   "cell_type": "code",
   "execution_count": 7,
   "metadata": {},
   "outputs": [
    {
     "data": {
      "text/plain": [
       "47.11861245118309"
      ]
     },
     "execution_count": 7,
     "metadata": {},
     "output_type": "execute_result"
    }
   ],
   "source": [
    "count = df[df['is_thread_start']==0]['body'].apply(lambda r: len(str(r).split()))\n",
    "np.mean(count)"
   ]
  },
  {
   "cell_type": "code",
   "execution_count": 14,
   "metadata": {},
   "outputs": [
    {
     "name": "stdout",
     "output_type": "stream",
     "text": [
      "95561\n"
     ]
    }
   ],
   "source": [
    "# Load chats from option 2\n",
    "all_chats = pickle.load(open( '../data/query_response_direct.p', \"rb\" ))\n",
    "all_chats = list(set(all_chats))\n",
    "print(len(all_chats))"
   ]
  },
  {
   "cell_type": "code",
   "execution_count": 16,
   "metadata": {},
   "outputs": [
    {
     "data": {
      "text/plain": [
       "\"Greetings, first time here so forgive any mistakes.\\n\\nMy brother around 5 moths ago started making these weird noises every 15-30 seconds or so. Regardless of if he's talking, being silent, or even just ideally watching tv.\\n\\nHe can seem to slow down the frequency if he tries hard enough, but they come through so it's obviously involuntary at this point.\\n\\nI've made an [audio recording](http://vocaroo.com/i/s1ksr9Cs431T) to help better understand the noise, since the only description i could give is it sounds like a reverse hiccup or something. Also note that I removed some empty space from the recording so it sounds more frequent then it actually is.\\n\\n\\nGeneral info:\\n\\nAge: 16\\n\\nSex: Male\\n\\nHeight: 5'5''\\n\\nWeight: 132 lbs\\n\\nRace: caucasianCausation \\n\\nLocation: Not relevant\\n\\nExisting relevant issues: none\\n\\nAudio link: http://vocaroo.com/i/s1ksr9Cs431T\""
      ]
     },
     "execution_count": 16,
     "metadata": {},
     "output_type": "execute_result"
    }
   ],
   "source": [
    "all_chats[0][0]"
   ]
  },
  {
   "cell_type": "markdown",
   "metadata": {},
   "source": [
    "#### Perform any cleaning steps"
   ]
  },
  {
   "cell_type": "code",
   "execution_count": 31,
   "metadata": {},
   "outputs": [
    {
     "name": "stdout",
     "output_type": "stream",
     "text": [
      "CPU times: user 47.3 s, sys: 64.1 ms, total: 47.4 s\n",
      "Wall time: 47.4 s\n"
     ]
    }
   ],
   "source": [
    "%%time\n",
    "from nltk.tokenize import TweetTokenizer\n",
    "tknzr = TweetTokenizer(strip_handles=True)\n",
    "\n",
    "all_chats_new = []\n",
    "for q,r in all_chats:\n",
    "    q_cleaned = ' '.join(tknzr.tokenize(str(q)))\n",
    "    r_cleaned = ' '.join(tknzr.tokenize(str(r)))\n",
    "    all_chats_new.append((q_cleaned,r_cleaned))"
   ]
  },
  {
   "cell_type": "code",
   "execution_count": 32,
   "metadata": {},
   "outputs": [
    {
     "data": {
      "text/plain": [
       "(\"Greetings , first time here so forgive any mistakes . My brother around 5 moths ago started making these weird noises every 15-30 seconds or so . Regardless of if he's talking , being silent , or even just ideally watching tv . He can seem to slow down the frequency if he tries hard enough , but they come through so it's obviously involuntary at this point . I've made an [ audio recording ] ( http://vocaroo.com/i/s1ksr9Cs431T ) to help better understand the noise , since the only description i could give is it sounds like a reverse hiccup or something . Also note that I removed some empty space from the recording so it sounds more frequent then it actually is . General info : Age : 16 Sex : Male Height : 5 ' 5 ' ' Weight : 132 lbs Race : caucasianCausation Location : Not relevant Existing relevant issues : none Audio link : http://vocaroo.com/i/s1ksr9Cs431T\",\n",
       " 'Does he feel built up tension release if he makes this sound ? Any new repetitive movements ?')"
      ]
     },
     "execution_count": 32,
     "metadata": {},
     "output_type": "execute_result"
    }
   ],
   "source": [
    "all_chats_new[0]"
   ]
  },
  {
   "cell_type": "code",
   "execution_count": 9,
   "metadata": {},
   "outputs": [
    {
     "name": "stdout",
     "output_type": "stream",
     "text": [
      "CPU times: user 2.86 s, sys: 93.9 ms, total: 2.96 s\n",
      "Wall time: 2.98 s\n"
     ]
    }
   ],
   "source": [
    "%%time\n",
    "import random\n",
    "def sample_negative_examples(positive_idx,N,num_examples=3):\n",
    "    \"\"\"\n",
    "    Creates a list of random integesr not in the postive examples.\n",
    "    \n",
    "        positive_idx: the idx we don't want a random number for\n",
    "        N: range from which a positive example can be generated\n",
    "        num_examples: number of negative example indexes to generate\n",
    "    \"\"\"\n",
    "    def generate_rand_int(positive_idx,N):\n",
    "        neg_sample = random.randint(0,N-1)\n",
    "        if positive_idx != neg_sample and neg_sample != None:\n",
    "            return neg_sample\n",
    "        else:\n",
    "            generate_rand_int(positive_idx,N)\n",
    "    \n",
    "    random_int_list = []\n",
    "    for num in range(num_examples):\n",
    "        random_int_list.append(generate_rand_int(positive_idx,N))\n",
    "    \n",
    "    return random_int_list\n",
    "\n",
    "\n",
    "# number of negative samples to use in training\n",
    "num_negative_samples = 9\n",
    "\n",
    "# Loop through all exchanges creating a set of size  n*(n + num_negative_examples)\n",
    "all_chats_train = []\n",
    "for i,v in enumerate(all_chats):\n",
    "\n",
    "    \n",
    "    neg_idx_lst = sample_negative_examples(positive_idx=i,N=len(all_chats),num_examples=num_negative_samples)\n",
    "    for k in neg_idx_lst:\n",
    "        if k == None:\n",
    "            neg_idx_lst = sample_negative_examples(positive_idx=i,N=len(all_chats),num_examples=num_negative_samples)\n",
    "\n",
    "    chat_set = []\n",
    "    j = 0\n",
    "    k= 0\n",
    "    for sample in range(num_negative_samples + 1):\n",
    "        if sample == 0:\n",
    "            chat_set.append({'context':v[0],'utterance': v[1], 'label': 1, 'group':i ,'pivot_label': k})\n",
    "        else:\n",
    "            \n",
    "            chat_set.append({'context':v[0],'utterance': all_chats[neg_idx_lst[j]][1], 'label': 0, 'group': i,'pivot_label': k })\n",
    "            j+=1\n",
    "        k+=1\n",
    "\n",
    "    all_chats_train += chat_set"
   ]
  },
  {
   "cell_type": "code",
   "execution_count": 10,
   "metadata": {},
   "outputs": [
    {
     "data": {
      "text/plain": [
       "10.0"
      ]
     },
     "execution_count": 10,
     "metadata": {},
     "output_type": "execute_result"
    }
   ],
   "source": [
    "# should  n*(n + num_negative_examples) samples\n",
    "len(all_chats_train) / len(all_chats)"
   ]
  },
  {
   "cell_type": "code",
   "execution_count": 12,
   "metadata": {},
   "outputs": [
    {
     "name": "stdout",
     "output_type": "stream",
     "text": [
      "CPU times: user 17.4 s, sys: 752 ms, total: 18.1 s\n",
      "Wall time: 18.2 s\n"
     ]
    }
   ],
   "source": [
    "%%time\n",
    "import re\n",
    "import numpy as np\n",
    "all_chats_train_clean = []\n",
    "# minimal cleaning\n",
    "for row in all_chats_train:\n",
    "    all_chats_train_clean.append(\n",
    "    {\n",
    "        'Context':  ' '.join(re.sub(r\"\\n\", \" \", str(row['context'])) .split()).strip() ,\n",
    "        'Utterance': ' '.join(re.sub(r\"\\n\", \" \", str(row['utterance'])) .split()).strip(),\n",
    "        'Label': row['label'],\n",
    "        'group': row['group'],\n",
    "        'pivot_label': row['pivot_label']\n",
    "    })"
   ]
  },
  {
   "cell_type": "code",
   "execution_count": 13,
   "metadata": {},
   "outputs": [
    {
     "data": {
      "text/html": [
       "<div>\n",
       "<style scoped>\n",
       "    .dataframe tbody tr th:only-of-type {\n",
       "        vertical-align: middle;\n",
       "    }\n",
       "\n",
       "    .dataframe tbody tr th {\n",
       "        vertical-align: top;\n",
       "    }\n",
       "\n",
       "    .dataframe thead th {\n",
       "        text-align: right;\n",
       "    }\n",
       "</style>\n",
       "<table border=\"1\" class=\"dataframe\">\n",
       "  <thead>\n",
       "    <tr style=\"text-align: right;\">\n",
       "      <th></th>\n",
       "      <th>Context</th>\n",
       "      <th>Label</th>\n",
       "      <th>Utterance</th>\n",
       "      <th>group</th>\n",
       "      <th>pivot_label</th>\n",
       "    </tr>\n",
       "  </thead>\n",
       "  <tbody>\n",
       "    <tr>\n",
       "      <th>0</th>\n",
       "      <td>Because TMAU and many other metabolic diseases...</td>\n",
       "      <td>1</td>\n",
       "      <td>Is it rare because people don't have the disea...</td>\n",
       "      <td>0</td>\n",
       "      <td>0</td>\n",
       "    </tr>\n",
       "    <tr>\n",
       "      <th>1</th>\n",
       "      <td>Because TMAU and many other metabolic diseases...</td>\n",
       "      <td>0</td>\n",
       "      <td>Im 19 and never did any sexual stuff before. S...</td>\n",
       "      <td>0</td>\n",
       "      <td>1</td>\n",
       "    </tr>\n",
       "    <tr>\n",
       "      <th>2</th>\n",
       "      <td>Because TMAU and many other metabolic diseases...</td>\n",
       "      <td>0</td>\n",
       "      <td>Could it be tonsil stones perhaps? I have both...</td>\n",
       "      <td>0</td>\n",
       "      <td>2</td>\n",
       "    </tr>\n",
       "    <tr>\n",
       "      <th>3</th>\n",
       "      <td>Because TMAU and many other metabolic diseases...</td>\n",
       "      <td>0</td>\n",
       "      <td>\"Bent arm and straight arm standing rows\" soun...</td>\n",
       "      <td>0</td>\n",
       "      <td>3</td>\n",
       "    </tr>\n",
       "    <tr>\n",
       "      <th>4</th>\n",
       "      <td>Because TMAU and many other metabolic diseases...</td>\n",
       "      <td>0</td>\n",
       "      <td>hmm, doesn't your immune system generally get ...</td>\n",
       "      <td>0</td>\n",
       "      <td>4</td>\n",
       "    </tr>\n",
       "  </tbody>\n",
       "</table>\n",
       "</div>"
      ],
      "text/plain": [
       "                                             Context  Label  \\\n",
       "0  Because TMAU and many other metabolic diseases...      1   \n",
       "1  Because TMAU and many other metabolic diseases...      0   \n",
       "2  Because TMAU and many other metabolic diseases...      0   \n",
       "3  Because TMAU and many other metabolic diseases...      0   \n",
       "4  Because TMAU and many other metabolic diseases...      0   \n",
       "\n",
       "                                           Utterance  group  pivot_label  \n",
       "0  Is it rare because people don't have the disea...      0            0  \n",
       "1  Im 19 and never did any sexual stuff before. S...      0            1  \n",
       "2  Could it be tonsil stones perhaps? I have both...      0            2  \n",
       "3  \"Bent arm and straight arm standing rows\" soun...      0            3  \n",
       "4  hmm, doesn't your immune system generally get ...      0            4  "
      ]
     },
     "execution_count": 13,
     "metadata": {},
     "output_type": "execute_result"
    }
   ],
   "source": [
    "all_chats_df = pd.DataFrame(all_chats_train_clean)\n",
    "all_chats_df.head()"
   ]
  },
  {
   "cell_type": "code",
   "execution_count": 14,
   "metadata": {},
   "outputs": [],
   "source": [
    "import random\n",
    "\n",
    "def non_shuffling_train_test_split(X, test_size=0.2):\n",
    "    \"\"\"\n",
    "    Create random partitions of pandas dataframe by group.\n",
    "    \"\"\"\n",
    "    i = int((1 - test_size) * X.shape[0]) + 1\n",
    "    sample_groups = random.sample(range(1, X.shape[0]), i)\n",
    "    \n",
    "    X_train = X[X['group'].isin(sample_groups)]\n",
    "    X_test = X[~X['group'].isin(sample_groups)]\n",
    "    return X_train, X_test"
   ]
  },
  {
   "cell_type": "code",
   "execution_count": 15,
   "metadata": {},
   "outputs": [
    {
     "name": "stdout",
     "output_type": "stream",
     "text": [
      "full: (955610, 5)\n",
      "X_train: (766070, 5)\n",
      "X_test: (95160, 5)\n",
      "X_val: (94380, 5)\n"
     ]
    }
   ],
   "source": [
    "X_train,X_test = non_shuffling_train_test_split(all_chats_df, test_size=0.2)\n",
    "X_test,X_val = non_shuffling_train_test_split(X_test, test_size=0.5) \n",
    "print('full:',all_chats_df.shape)\n",
    "print('X_train:',X_train.shape)\n",
    "print('X_test:',X_test.shape)\n",
    "print('X_val:',X_val.shape)"
   ]
  },
  {
   "cell_type": "code",
   "execution_count": 26,
   "metadata": {},
   "outputs": [],
   "source": [
    "def create_testing_dataframe(X):\n",
    "    \"\"\"\n",
    "    Take pandas dataframe and return a dataframe that is ready for testing accoring to format in retrieval_1 notebook\n",
    "    \"\"\"\n",
    "\n",
    "    X_new = X.pivot(index='group',columns='pivot_label',values='Utterance').add_prefix('Utterance_')\n",
    "    X_new['left_group'] = X_new.index\n",
    "    \n",
    "    X_new['Ground Truth Utterance'] = X_new['Utterance_0']\n",
    "    X_new.drop(['left_group','Utterance_0'],1,inplace=True)\n",
    "    X_new['Context'] = X.groupby('group').first()['Context']\n",
    "\n",
    "    X_new.reset_index(inplace=True)\n",
    "    X_new.drop('group',1,inplace=True)\n",
    "    \n",
    "    # Re-order\n",
    "    X_new = X_new[['Context', 'Ground Truth Utterance','Utterance_1', 'Utterance_2', 'Utterance_3', 'Utterance_4',\n",
    "       'Utterance_5', 'Utterance_6', 'Utterance_7', 'Utterance_8',\n",
    "       'Utterance_9']]\n",
    "    X_new.columns = ['Context', 'Ground Truth Utterance','Distractor_0','Distractor_1', 'Distractor_2', 'Distractor_3', \n",
    "                   'Distractor_4','Distractor_5', 'Distractor_6', 'Distractor_7', 'Distractor_8']\n",
    "\n",
    "    return X_new"
   ]
  },
  {
   "cell_type": "code",
   "execution_count": 27,
   "metadata": {},
   "outputs": [],
   "source": [
    "test = create_testing_dataframe(X_test)\n",
    "valid = create_testing_dataframe(X_val)\n",
    "\n",
    "# replace nans\n",
    "X_train = X_train.astype(object).replace(np.nan, 'None')\n",
    "test = test.astype(object).replace(np.nan, 'None')\n",
    "valid = valid.astype(object).replace(np.nan, 'None')\n",
    "\n",
    "# re-order\n",
    "X_train = X_train[['Context','Utterance','Label']]"
   ]
  },
  {
   "cell_type": "code",
   "execution_count": 28,
   "metadata": {},
   "outputs": [],
   "source": [
    "test.to_csv('../data/option3_data/test.csv',index = False)\n",
    "valid.to_csv('../data/option3_data/valid.csv',index = False)\n",
    "X_train.to_csv('../data/option3_data/train.csv',index = False)"
   ]
  },
  {
   "cell_type": "code",
   "execution_count": 29,
   "metadata": {},
   "outputs": [
    {
     "data": {
      "text/html": [
       "<div>\n",
       "<style scoped>\n",
       "    .dataframe tbody tr th:only-of-type {\n",
       "        vertical-align: middle;\n",
       "    }\n",
       "\n",
       "    .dataframe tbody tr th {\n",
       "        vertical-align: top;\n",
       "    }\n",
       "\n",
       "    .dataframe thead th {\n",
       "        text-align: right;\n",
       "    }\n",
       "</style>\n",
       "<table border=\"1\" class=\"dataframe\">\n",
       "  <thead>\n",
       "    <tr style=\"text-align: right;\">\n",
       "      <th></th>\n",
       "      <th>Context</th>\n",
       "      <th>Ground Truth Utterance</th>\n",
       "      <th>Distractor_0</th>\n",
       "      <th>Distractor_1</th>\n",
       "      <th>Distractor_2</th>\n",
       "      <th>Distractor_3</th>\n",
       "      <th>Distractor_4</th>\n",
       "      <th>Distractor_5</th>\n",
       "      <th>Distractor_6</th>\n",
       "      <th>Distractor_7</th>\n",
       "      <th>Distractor_8</th>\n",
       "    </tr>\n",
       "  </thead>\n",
       "  <tbody>\n",
       "    <tr>\n",
       "      <th>0</th>\n",
       "      <td>&amp;gt; Cushing's syndrome Typically it is caused...</td>\n",
       "      <td>Thanks for the information, I'll be sure to sc...</td>\n",
       "      <td>It is facing the opposite direction of the oth...</td>\n",
       "      <td>&amp;gt;You can't say that trying to get pregnant ...</td>\n",
       "      <td>Call your pediatrician's office on your own an...</td>\n",
       "      <td>looks like either an allergic reaction to a de...</td>\n",
       "      <td>Any chance you are actually just really sore? ...</td>\n",
       "      <td>I am not a doctor or expert of any kind, but y...</td>\n",
       "      <td>Yep. Only alcohol I can touch now is one brand...</td>\n",
       "      <td>Most often its not painful. I've only ever see...</td>\n",
       "      <td>I get it. I've yet to meet someone who says \"Y...</td>\n",
       "    </tr>\n",
       "    <tr>\n",
       "      <th>1</th>\n",
       "      <td>is there any chance it will die down given time?</td>\n",
       "      <td>if its thrombosed (clotted)? no although warm ...</td>\n",
       "      <td>It sounds like when you hurt your finger, inst...</td>\n",
       "      <td>Thanks. That's good to know.</td>\n",
       "      <td>I don't growing pains that often anymore :/</td>\n",
       "      <td>I don't know if you have one near you, but Dol...</td>\n",
       "      <td>Have you had a pap to check for cervical infec...</td>\n",
       "      <td>So that stuff about toxins in my body and seri...</td>\n",
       "      <td>You can't just get TPN at the ER. Though it ma...</td>\n",
       "      <td>I understand both is not optimum, but of the t...</td>\n",
       "      <td>no. This is nit muscle pain</td>\n",
       "    </tr>\n",
       "    <tr>\n",
       "      <th>2</th>\n",
       "      <td>It feels rather unpleasant all the time, but l...</td>\n",
       "      <td>I'm not shocked that you don't have a tongue p...</td>\n",
       "      <td>See your GP.</td>\n",
       "      <td>The brain damage was suggested by a medical st...</td>\n",
       "      <td>Male or female is relevant. And height for tha...</td>\n",
       "      <td>This looks like petechiae/purpura. Does it bla...</td>\n",
       "      <td>Well, unless I contracted Aids from jacking of...</td>\n",
       "      <td>Nothing to be ashamed about, has nothing to do...</td>\n",
       "      <td>I don't think that's the issue. I also notice ...</td>\n",
       "      <td>&amp;gt;I was wondering what this meant for her. O...</td>\n",
       "      <td>I would definitely talk to your doctor about g...</td>\n",
       "    </tr>\n",
       "    <tr>\n",
       "      <th>3</th>\n",
       "      <td>I see, I apologize. Age 21 Sex Male Height 5'1...</td>\n",
       "      <td>[^(**Mouseover** to view the metric conversion...</td>\n",
       "      <td>I don't have an infection. a pharmacist said i...</td>\n",
       "      <td>The shellfish part seems like a case of food p...</td>\n",
       "      <td>The only idea I have is diet. I'm in Norway so...</td>\n",
       "      <td>Well, you mention that taking off your coat he...</td>\n",
       "      <td>This EXACT thing happened to my boyfriend (21 ...</td>\n",
       "      <td>Thanks, awesome explanation :)</td>\n",
       "      <td>I'm not a doctor but I did have my gallbladder...</td>\n",
       "      <td>thanks for the correction, will change my post...</td>\n",
       "      <td>Ahh ok. I'll go ahead and do that. Your answer...</td>\n",
       "    </tr>\n",
       "    <tr>\n",
       "      <th>4</th>\n",
       "      <td>28yo Male 6'1 175lbs Caucasian I'm a healthy g...</td>\n",
       "      <td>No. You cannot sweat it out. The vaccine is in...</td>\n",
       "      <td>Im 13, I get them all the time. Honestly, they...</td>\n",
       "      <td>Provigil is a huge wild card and likely respon...</td>\n",
       "      <td>TC is made up of LDL, HDL, and VLDL. I would a...</td>\n",
       "      <td>Hi, I think I may be of some help here. One of...</td>\n",
       "      <td>VARICOCELES. Ugh. Better than something wrong ...</td>\n",
       "      <td>OH one more thing. the clear nails pro stuff I...</td>\n",
       "      <td>&amp;gt;As my period is due in 3 days If your peri...</td>\n",
       "      <td>What about niacin it raises HDLs mainly and it...</td>\n",
       "      <td>kidney stone</td>\n",
       "    </tr>\n",
       "  </tbody>\n",
       "</table>\n",
       "</div>"
      ],
      "text/plain": [
       "                                             Context  \\\n",
       "0  &gt; Cushing's syndrome Typically it is caused...   \n",
       "1   is there any chance it will die down given time?   \n",
       "2  It feels rather unpleasant all the time, but l...   \n",
       "3  I see, I apologize. Age 21 Sex Male Height 5'1...   \n",
       "4  28yo Male 6'1 175lbs Caucasian I'm a healthy g...   \n",
       "\n",
       "                              Ground Truth Utterance  \\\n",
       "0  Thanks for the information, I'll be sure to sc...   \n",
       "1  if its thrombosed (clotted)? no although warm ...   \n",
       "2  I'm not shocked that you don't have a tongue p...   \n",
       "3  [^(**Mouseover** to view the metric conversion...   \n",
       "4  No. You cannot sweat it out. The vaccine is in...   \n",
       "\n",
       "                                        Distractor_0  \\\n",
       "0  It is facing the opposite direction of the oth...   \n",
       "1  It sounds like when you hurt your finger, inst...   \n",
       "2                                       See your GP.   \n",
       "3  I don't have an infection. a pharmacist said i...   \n",
       "4  Im 13, I get them all the time. Honestly, they...   \n",
       "\n",
       "                                        Distractor_1  \\\n",
       "0  &gt;You can't say that trying to get pregnant ...   \n",
       "1                       Thanks. That's good to know.   \n",
       "2  The brain damage was suggested by a medical st...   \n",
       "3  The shellfish part seems like a case of food p...   \n",
       "4  Provigil is a huge wild card and likely respon...   \n",
       "\n",
       "                                        Distractor_2  \\\n",
       "0  Call your pediatrician's office on your own an...   \n",
       "1        I don't growing pains that often anymore :/   \n",
       "2  Male or female is relevant. And height for tha...   \n",
       "3  The only idea I have is diet. I'm in Norway so...   \n",
       "4  TC is made up of LDL, HDL, and VLDL. I would a...   \n",
       "\n",
       "                                        Distractor_3  \\\n",
       "0  looks like either an allergic reaction to a de...   \n",
       "1  I don't know if you have one near you, but Dol...   \n",
       "2  This looks like petechiae/purpura. Does it bla...   \n",
       "3  Well, you mention that taking off your coat he...   \n",
       "4  Hi, I think I may be of some help here. One of...   \n",
       "\n",
       "                                        Distractor_4  \\\n",
       "0  Any chance you are actually just really sore? ...   \n",
       "1  Have you had a pap to check for cervical infec...   \n",
       "2  Well, unless I contracted Aids from jacking of...   \n",
       "3  This EXACT thing happened to my boyfriend (21 ...   \n",
       "4  VARICOCELES. Ugh. Better than something wrong ...   \n",
       "\n",
       "                                        Distractor_5  \\\n",
       "0  I am not a doctor or expert of any kind, but y...   \n",
       "1  So that stuff about toxins in my body and seri...   \n",
       "2  Nothing to be ashamed about, has nothing to do...   \n",
       "3                     Thanks, awesome explanation :)   \n",
       "4  OH one more thing. the clear nails pro stuff I...   \n",
       "\n",
       "                                        Distractor_6  \\\n",
       "0  Yep. Only alcohol I can touch now is one brand...   \n",
       "1  You can't just get TPN at the ER. Though it ma...   \n",
       "2  I don't think that's the issue. I also notice ...   \n",
       "3  I'm not a doctor but I did have my gallbladder...   \n",
       "4  &gt;As my period is due in 3 days If your peri...   \n",
       "\n",
       "                                        Distractor_7  \\\n",
       "0  Most often its not painful. I've only ever see...   \n",
       "1  I understand both is not optimum, but of the t...   \n",
       "2  &gt;I was wondering what this meant for her. O...   \n",
       "3  thanks for the correction, will change my post...   \n",
       "4  What about niacin it raises HDLs mainly and it...   \n",
       "\n",
       "                                        Distractor_8  \n",
       "0  I get it. I've yet to meet someone who says \"Y...  \n",
       "1                        no. This is nit muscle pain  \n",
       "2  I would definitely talk to your doctor about g...  \n",
       "3  Ahh ok. I'll go ahead and do that. Your answer...  \n",
       "4                                       kidney stone  "
      ]
     },
     "execution_count": 29,
     "metadata": {},
     "output_type": "execute_result"
    }
   ],
   "source": [
    "test.head()"
   ]
  },
  {
   "cell_type": "code",
   "execution_count": 31,
   "metadata": {},
   "outputs": [
    {
     "data": {
      "text/html": [
       "<div>\n",
       "<style scoped>\n",
       "    .dataframe tbody tr th:only-of-type {\n",
       "        vertical-align: middle;\n",
       "    }\n",
       "\n",
       "    .dataframe tbody tr th {\n",
       "        vertical-align: top;\n",
       "    }\n",
       "\n",
       "    .dataframe thead th {\n",
       "        text-align: right;\n",
       "    }\n",
       "</style>\n",
       "<table border=\"1\" class=\"dataframe\">\n",
       "  <thead>\n",
       "    <tr style=\"text-align: right;\">\n",
       "      <th></th>\n",
       "      <th>Context</th>\n",
       "      <th>Ground Truth Utterance</th>\n",
       "      <th>Distractor_0</th>\n",
       "      <th>Distractor_1</th>\n",
       "      <th>Distractor_2</th>\n",
       "      <th>Distractor_3</th>\n",
       "      <th>Distractor_4</th>\n",
       "      <th>Distractor_5</th>\n",
       "      <th>Distractor_6</th>\n",
       "      <th>Distractor_7</th>\n",
       "      <th>Distractor_8</th>\n",
       "    </tr>\n",
       "  </thead>\n",
       "  <tbody>\n",
       "    <tr>\n",
       "      <th>0</th>\n",
       "      <td>Because TMAU and many other metabolic diseases...</td>\n",
       "      <td>Is it rare because people don't have the disea...</td>\n",
       "      <td>Im 19 and never did any sexual stuff before. S...</td>\n",
       "      <td>Could it be tonsil stones perhaps? I have both...</td>\n",
       "      <td>\"Bent arm and straight arm standing rows\" soun...</td>\n",
       "      <td>hmm, doesn't your immune system generally get ...</td>\n",
       "      <td>You're fine. Besides any stis</td>\n",
       "      <td>Thanks a lot! :) You've given me peace of mind.</td>\n",
       "      <td>hmm it looks just like that, but herpes in STD...</td>\n",
       "      <td>Just don't take anymore, you aren't withdrawin...</td>\n",
       "      <td>Curiosity... closure... a few other reasons. I...</td>\n",
       "    </tr>\n",
       "    <tr>\n",
       "      <th>1</th>\n",
       "      <td>My girlfriend and I are both teenagers, twice ...</td>\n",
       "      <td>To clarify : She's not on any birth control (c...</td>\n",
       "      <td>From the [Mayo Clinic] (http://www.mayoclinic....</td>\n",
       "      <td>There are some truths and some facts in here, ...</td>\n",
       "      <td>Vaseline is the way to go. Other moisturising ...</td>\n",
       "      <td>No one should have to go through that, I'm so ...</td>\n",
       "      <td>The pars interarticularis is the part of the v...</td>\n",
       "      <td>Not a doctor, but sounds like eisotrophobia, o...</td>\n",
       "      <td>Yes - both recently, for the leg, as well as p...</td>\n",
       "      <td>If I knew you can't order a test, I honestly w...</td>\n",
       "      <td>Wow I've been so busy. Thanks for answering, i...</td>\n",
       "    </tr>\n",
       "    <tr>\n",
       "      <th>2</th>\n",
       "      <td>* Age: 22 years old * Sex: female * Height: 5'...</td>\n",
       "      <td>Not a Dr., and anecdotal, but this happened to...</td>\n",
       "      <td>Definitely take doxycycline with food. Everyon...</td>\n",
       "      <td>If it bothers you enough to post here, might b...</td>\n",
       "      <td>I have tried sitting, usually when I am having...</td>\n",
       "      <td>Yes, it's visible to others than me. I origina...</td>\n",
       "      <td>Did you wind up getting checked out? Do you ha...</td>\n",
       "      <td>SARS? That is a respiratory virus. It is proba...</td>\n",
       "      <td>Normal (adjective): Conforming with, adhering ...</td>\n",
       "      <td>Thank you for the response. I had been using i...</td>\n",
       "      <td>Watching as I have the same pain. I had wonder...</td>\n",
       "    </tr>\n",
       "    <tr>\n",
       "      <th>3</th>\n",
       "      <td>Alright. Give me a bit. Any food you can't eat...</td>\n",
       "      <td>I can eat pretty much anything</td>\n",
       "      <td>I agree with stephaniecaseys that it is a skin...</td>\n",
       "      <td>Thanks It's an evolving situation. It seems th...</td>\n",
       "      <td>Hey man, I'm totally not a doctor at all but I...</td>\n",
       "      <td>You're not the first person to have that happe...</td>\n",
       "      <td>Waiting for radiological confirmation is not t...</td>\n",
       "      <td>Did you notice a trend regarding your eating h...</td>\n",
       "      <td>It's a non-issue. Don't worry about it.</td>\n",
       "      <td>Xray looks like scoliosis but I'm not a doctor</td>\n",
       "      <td>Thanks for the reply. I asked this morning CT ...</td>\n",
       "    </tr>\n",
       "    <tr>\n",
       "      <th>4</th>\n",
       "      <td>22 Male 6ft 235 White Showed up 4-5 days ago G...</td>\n",
       "      <td>It's just a singular incident of minor follicu...</td>\n",
       "      <td>If it's just impacted cerulean, you could try ...</td>\n",
       "      <td>Yes I believe it's basically Sertraline. I liv...</td>\n",
       "      <td>One easy way to get an answer is to stop weari...</td>\n",
       "      <td>Could be a glucose/insulin issue. You need to ...</td>\n",
       "      <td>Sounds a little like a vasovagal response. It ...</td>\n",
       "      <td>Thanks, I will ask the doc for an MRI.</td>\n",
       "      <td>Sounds ok to me. If it hasn't changed in a cou...</td>\n",
       "      <td>These sound very similar to my symptoms. I'd b...</td>\n",
       "      <td>Cutting it off won't do any good, because you'...</td>\n",
       "    </tr>\n",
       "  </tbody>\n",
       "</table>\n",
       "</div>"
      ],
      "text/plain": [
       "                                             Context  \\\n",
       "0  Because TMAU and many other metabolic diseases...   \n",
       "1  My girlfriend and I are both teenagers, twice ...   \n",
       "2  * Age: 22 years old * Sex: female * Height: 5'...   \n",
       "3  Alright. Give me a bit. Any food you can't eat...   \n",
       "4  22 Male 6ft 235 White Showed up 4-5 days ago G...   \n",
       "\n",
       "                              Ground Truth Utterance  \\\n",
       "0  Is it rare because people don't have the disea...   \n",
       "1  To clarify : She's not on any birth control (c...   \n",
       "2  Not a Dr., and anecdotal, but this happened to...   \n",
       "3                     I can eat pretty much anything   \n",
       "4  It's just a singular incident of minor follicu...   \n",
       "\n",
       "                                        Distractor_0  \\\n",
       "0  Im 19 and never did any sexual stuff before. S...   \n",
       "1  From the [Mayo Clinic] (http://www.mayoclinic....   \n",
       "2  Definitely take doxycycline with food. Everyon...   \n",
       "3  I agree with stephaniecaseys that it is a skin...   \n",
       "4  If it's just impacted cerulean, you could try ...   \n",
       "\n",
       "                                        Distractor_1  \\\n",
       "0  Could it be tonsil stones perhaps? I have both...   \n",
       "1  There are some truths and some facts in here, ...   \n",
       "2  If it bothers you enough to post here, might b...   \n",
       "3  Thanks It's an evolving situation. It seems th...   \n",
       "4  Yes I believe it's basically Sertraline. I liv...   \n",
       "\n",
       "                                        Distractor_2  \\\n",
       "0  \"Bent arm and straight arm standing rows\" soun...   \n",
       "1  Vaseline is the way to go. Other moisturising ...   \n",
       "2  I have tried sitting, usually when I am having...   \n",
       "3  Hey man, I'm totally not a doctor at all but I...   \n",
       "4  One easy way to get an answer is to stop weari...   \n",
       "\n",
       "                                        Distractor_3  \\\n",
       "0  hmm, doesn't your immune system generally get ...   \n",
       "1  No one should have to go through that, I'm so ...   \n",
       "2  Yes, it's visible to others than me. I origina...   \n",
       "3  You're not the first person to have that happe...   \n",
       "4  Could be a glucose/insulin issue. You need to ...   \n",
       "\n",
       "                                        Distractor_4  \\\n",
       "0                      You're fine. Besides any stis   \n",
       "1  The pars interarticularis is the part of the v...   \n",
       "2  Did you wind up getting checked out? Do you ha...   \n",
       "3  Waiting for radiological confirmation is not t...   \n",
       "4  Sounds a little like a vasovagal response. It ...   \n",
       "\n",
       "                                        Distractor_5  \\\n",
       "0    Thanks a lot! :) You've given me peace of mind.   \n",
       "1  Not a doctor, but sounds like eisotrophobia, o...   \n",
       "2  SARS? That is a respiratory virus. It is proba...   \n",
       "3  Did you notice a trend regarding your eating h...   \n",
       "4             Thanks, I will ask the doc for an MRI.   \n",
       "\n",
       "                                        Distractor_6  \\\n",
       "0  hmm it looks just like that, but herpes in STD...   \n",
       "1  Yes - both recently, for the leg, as well as p...   \n",
       "2  Normal (adjective): Conforming with, adhering ...   \n",
       "3            It's a non-issue. Don't worry about it.   \n",
       "4  Sounds ok to me. If it hasn't changed in a cou...   \n",
       "\n",
       "                                        Distractor_7  \\\n",
       "0  Just don't take anymore, you aren't withdrawin...   \n",
       "1  If I knew you can't order a test, I honestly w...   \n",
       "2  Thank you for the response. I had been using i...   \n",
       "3     Xray looks like scoliosis but I'm not a doctor   \n",
       "4  These sound very similar to my symptoms. I'd b...   \n",
       "\n",
       "                                        Distractor_8  \n",
       "0  Curiosity... closure... a few other reasons. I...  \n",
       "1  Wow I've been so busy. Thanks for answering, i...  \n",
       "2  Watching as I have the same pain. I had wonder...  \n",
       "3  Thanks for the reply. I asked this morning CT ...  \n",
       "4  Cutting it off won't do any good, because you'...  "
      ]
     },
     "execution_count": 31,
     "metadata": {},
     "output_type": "execute_result"
    }
   ],
   "source": [
    "valid.head()"
   ]
  },
  {
   "cell_type": "code",
   "execution_count": 52,
   "metadata": {},
   "outputs": [
    {
     "data": {
      "text/plain": [
       "(766070, 3)"
      ]
     },
     "execution_count": 52,
     "metadata": {},
     "output_type": "execute_result"
    }
   ],
   "source": [
    "X_train.shape"
   ]
  },
  {
   "cell_type": "code",
   "execution_count": 46,
   "metadata": {},
   "outputs": [
    {
     "data": {
      "text/plain": [
       "array([\"Thank you :) I'm gonna make an appointment as soon as I can.\",\n",
       "       \"Anorexia Nervosa is a psychological disorder that is characterized by a refusal of the person to maintain a body weight within normal standards, an intense phobia of gaining weight, and an inability to see one's self as underweight. None of these things sound like you. :)That doc was insensitive, and I'm sorry.\"],\n",
       "      dtype=object)"
      ]
     },
     "execution_count": 46,
     "metadata": {},
     "output_type": "execute_result"
    }
   ],
   "source": [
    "df.loc[mask.any(axis=1)].iloc[0].values"
   ]
  },
  {
   "cell_type": "code",
   "execution_count": 16,
   "metadata": {},
   "outputs": [],
   "source": [
    "all_chats_df.to_pickle('../data/option3.pickle')"
   ]
  }
 ],
 "metadata": {
  "kernelspec": {
   "display_name": "nlp-env",
   "language": "python",
   "name": "nlp-env"
  },
  "language_info": {
   "codemirror_mode": {
    "name": "ipython",
    "version": 3
   },
   "file_extension": ".py",
   "mimetype": "text/x-python",
   "name": "python",
   "nbconvert_exporter": "python",
   "pygments_lexer": "ipython3",
   "version": "3.6.5"
  }
 },
 "nbformat": 4,
 "nbformat_minor": 2
}
