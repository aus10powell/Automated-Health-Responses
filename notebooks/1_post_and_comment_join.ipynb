{
 "cells": [
  {
   "cell_type": "markdown",
   "metadata": {},
   "source": [
    "## Purpose:\n",
    "Analyze how to join the Reddit comments table with the posts table. The comments table does not contain the original post that started a particular thread.\n"
   ]
  },
  {
   "cell_type": "markdown",
   "metadata": {},
   "source": [
    "## Initialize"
   ]
  },
  {
   "cell_type": "code",
   "execution_count": 2,
   "metadata": {},
   "outputs": [],
   "source": [
    "# Utility\n",
    "import sys,os\n",
    "import time\n",
    "\n",
    "import pandas as pd\n",
    "pd.set_option('display.max_columns', 500) # more columns displayed at once\n",
    "pd.options.display.max_colwidth = 200 # more of the text displayed at once\n",
    "\n",
    "# Custom\n",
    "import processing"
   ]
  },
  {
   "cell_type": "markdown",
   "metadata": {},
   "source": [
    "## Import Data\n",
    "\n",
    "**Data imported from Google's BigQuery:** https://bigquery.cloud.google.com/\n",
    "\n",
    "For the data that we are interested in, i.e. posts under the subReddit 'AskDocs' along with comments on those posts. Reddit has seperated the data for the posts from the comments on those posts so we need to join the two."
   ]
  },
  {
   "cell_type": "code",
   "execution_count": 2,
   "metadata": {},
   "outputs": [
    {
     "name": "stdout",
     "output_type": "stream",
     "text": [
      "Shape: (557648, 24)\n"
     ]
    },
    {
     "data": {
      "text/html": [
       "<div>\n",
       "<style scoped>\n",
       "    .dataframe tbody tr th:only-of-type {\n",
       "        vertical-align: middle;\n",
       "    }\n",
       "\n",
       "    .dataframe tbody tr th {\n",
       "        vertical-align: top;\n",
       "    }\n",
       "\n",
       "    .dataframe thead th {\n",
       "        text-align: right;\n",
       "    }\n",
       "</style>\n",
       "<table border=\"1\" class=\"dataframe\">\n",
       "  <thead>\n",
       "    <tr style=\"text-align: right;\">\n",
       "      <th></th>\n",
       "      <th>body</th>\n",
       "      <th>score_hidden</th>\n",
       "      <th>archived</th>\n",
       "      <th>name</th>\n",
       "      <th>author</th>\n",
       "      <th>author_flair_text</th>\n",
       "      <th>downs</th>\n",
       "      <th>created_utc</th>\n",
       "      <th>subreddit_id</th>\n",
       "      <th>link_id</th>\n",
       "      <th>parent_id</th>\n",
       "      <th>score</th>\n",
       "      <th>retrieved_on</th>\n",
       "      <th>controversiality</th>\n",
       "      <th>gilded</th>\n",
       "      <th>id</th>\n",
       "      <th>subreddit</th>\n",
       "      <th>ups</th>\n",
       "      <th>distinguished</th>\n",
       "      <th>author_flair_css_class</th>\n",
       "      <th>removal_reason</th>\n",
       "      <th>link_id_short</th>\n",
       "      <th>parent_id_short</th>\n",
       "      <th>post_id</th>\n",
       "    </tr>\n",
       "  </thead>\n",
       "  <tbody>\n",
       "    <tr>\n",
       "      <th>0</th>\n",
       "      <td>for a manlet such as yourself I'd recommend at least 70 oz of water daily and at least 7 hours of sleep. Cut down on red meat, smoking, and sodium intake and check back in a few days.</td>\n",
       "      <td>1.0</td>\n",
       "      <td>NaN</td>\n",
       "      <td>NaN</td>\n",
       "      <td>-Ai</td>\n",
       "      <td>This user has not yet been verified.</td>\n",
       "      <td>NaN</td>\n",
       "      <td>1513411674</td>\n",
       "      <td>t5_2xtuc</td>\n",
       "      <td>t3_7k5x2h</td>\n",
       "      <td>t3_7k5x2h</td>\n",
       "      <td>0</td>\n",
       "      <td>1.514772e+09</td>\n",
       "      <td>0</td>\n",
       "      <td>0</td>\n",
       "      <td>drbt2db</td>\n",
       "      <td>AskDocs</td>\n",
       "      <td>NaN</td>\n",
       "      <td>NaN</td>\n",
       "      <td>default</td>\n",
       "      <td>NaN</td>\n",
       "      <td>7k5x2h</td>\n",
       "      <td>7k5x2h</td>\n",
       "      <td>drbt2db</td>\n",
       "    </tr>\n",
       "    <tr>\n",
       "      <th>1</th>\n",
       "      <td>Thank you very much for answering!</td>\n",
       "      <td>1.0</td>\n",
       "      <td>NaN</td>\n",
       "      <td>NaN</td>\n",
       "      <td>-SY</td>\n",
       "      <td>This user has not yet been verified.</td>\n",
       "      <td>NaN</td>\n",
       "      <td>1445798103</td>\n",
       "      <td>t5_2xtuc</td>\n",
       "      <td>t3_3q697b</td>\n",
       "      <td>t1_cwcf958</td>\n",
       "      <td>2</td>\n",
       "      <td>1.447190e+09</td>\n",
       "      <td>0</td>\n",
       "      <td>0</td>\n",
       "      <td>cwcfjpr</td>\n",
       "      <td>AskDocs</td>\n",
       "      <td>2.0</td>\n",
       "      <td>NaN</td>\n",
       "      <td>default</td>\n",
       "      <td>NaN</td>\n",
       "      <td>3q697b</td>\n",
       "      <td>cwcf958</td>\n",
       "      <td>cwcfjpr</td>\n",
       "    </tr>\n",
       "  </tbody>\n",
       "</table>\n",
       "</div>"
      ],
      "text/plain": [
       "                                                                                                                                                                                       body  \\\n",
       "0  for a manlet such as yourself I'd recommend at least 70 oz of water daily and at least 7 hours of sleep. Cut down on red meat, smoking, and sodium intake and check back in a few days.    \n",
       "1                                                                                                                                                        Thank you very much for answering!   \n",
       "\n",
       "   score_hidden archived name author                     author_flair_text  \\\n",
       "0           1.0      NaN  NaN    -Ai  This user has not yet been verified.   \n",
       "1           1.0      NaN  NaN    -SY  This user has not yet been verified.   \n",
       "\n",
       "   downs  created_utc subreddit_id    link_id   parent_id  score  \\\n",
       "0    NaN   1513411674     t5_2xtuc  t3_7k5x2h   t3_7k5x2h      0   \n",
       "1    NaN   1445798103     t5_2xtuc  t3_3q697b  t1_cwcf958      2   \n",
       "\n",
       "   retrieved_on  controversiality  gilded       id subreddit  ups  \\\n",
       "0  1.514772e+09                 0       0  drbt2db   AskDocs  NaN   \n",
       "1  1.447190e+09                 0       0  cwcfjpr   AskDocs  2.0   \n",
       "\n",
       "  distinguished author_flair_css_class  removal_reason link_id_short  \\\n",
       "0           NaN                default             NaN        7k5x2h   \n",
       "1           NaN                default             NaN        3q697b   \n",
       "\n",
       "  parent_id_short  post_id  \n",
       "0          7k5x2h  drbt2db  \n",
       "1         cwcf958  cwcfjpr  "
      ]
     },
     "execution_count": 2,
     "metadata": {},
     "output_type": "execute_result"
    }
   ],
   "source": [
    "# import comments\n",
    "path_to_data = '../data/reddit_comments_askDocs_2014_to_2018_03.gz'\n",
    "df_comments = load_comments(path_to_data)\n",
    "df_comments.head(2)"
   ]
  },
  {
   "cell_type": "code",
   "execution_count": 3,
   "metadata": {},
   "outputs": [
    {
     "name": "stdout",
     "output_type": "stream",
     "text": [
      "Shape (43615, 34)\n"
     ]
    },
    {
     "data": {
      "text/html": [
       "<div>\n",
       "<style scoped>\n",
       "    .dataframe tbody tr th:only-of-type {\n",
       "        vertical-align: middle;\n",
       "    }\n",
       "\n",
       "    .dataframe tbody tr th {\n",
       "        vertical-align: top;\n",
       "    }\n",
       "\n",
       "    .dataframe thead th {\n",
       "        text-align: right;\n",
       "    }\n",
       "</style>\n",
       "<table border=\"1\" class=\"dataframe\">\n",
       "  <thead>\n",
       "    <tr style=\"text-align: right;\">\n",
       "      <th></th>\n",
       "      <th>domain</th>\n",
       "      <th>subreddit</th>\n",
       "      <th>selftext</th>\n",
       "      <th>saved</th>\n",
       "      <th>id</th>\n",
       "      <th>from_kind</th>\n",
       "      <th>gilded</th>\n",
       "      <th>from</th>\n",
       "      <th>stickied</th>\n",
       "      <th>title</th>\n",
       "      <th>num_comments</th>\n",
       "      <th>score</th>\n",
       "      <th>retrieved_on</th>\n",
       "      <th>over_18</th>\n",
       "      <th>thumbnail</th>\n",
       "      <th>subreddit_id</th>\n",
       "      <th>hide_score</th>\n",
       "      <th>link_flair_css_class</th>\n",
       "      <th>author_flair_css_class</th>\n",
       "      <th>downs</th>\n",
       "      <th>archived</th>\n",
       "      <th>is_self</th>\n",
       "      <th>from_id</th>\n",
       "      <th>permalink</th>\n",
       "      <th>name</th>\n",
       "      <th>created</th>\n",
       "      <th>url</th>\n",
       "      <th>author_flair_text</th>\n",
       "      <th>quarantine</th>\n",
       "      <th>author</th>\n",
       "      <th>created_utc</th>\n",
       "      <th>link_flair_text</th>\n",
       "      <th>ups</th>\n",
       "      <th>distinguished</th>\n",
       "    </tr>\n",
       "  </thead>\n",
       "  <tbody>\n",
       "    <tr>\n",
       "      <th>0</th>\n",
       "      <td>self.AskDocs</td>\n",
       "      <td>AskDocs</td>\n",
       "      <td>\\n    Age: 28-32\\n    Sex: M\\n    Height: 6'\\n    Weight: 175\\n    Race: Cauc\\n    Duration of complaint: 1 year\\n    Location (Geographic and on body): pelvis / urethra\\n    Any existing relevant...</td>\n",
       "      <td>False</td>\n",
       "      <td>3e50jf</td>\n",
       "      <td>NaN</td>\n",
       "      <td>0</td>\n",
       "      <td>NaN</td>\n",
       "      <td>False</td>\n",
       "      <td>Pain in pelvic floor / during arousal / urinating / ejaculating (with cloudy pee pics)</td>\n",
       "      <td>0</td>\n",
       "      <td>1</td>\n",
       "      <td>1440597166</td>\n",
       "      <td>False</td>\n",
       "      <td>self</td>\n",
       "      <td>t5_2xtuc</td>\n",
       "      <td>False</td>\n",
       "      <td>NaN</td>\n",
       "      <td>default</td>\n",
       "      <td>0</td>\n",
       "      <td>False</td>\n",
       "      <td>True</td>\n",
       "      <td>NaN</td>\n",
       "      <td>/r/AskDocs/comments/3e50jf/pain_in_pelvic_floor_during_arousal_urinating/</td>\n",
       "      <td>t3_3e50jf</td>\n",
       "      <td>1437528445</td>\n",
       "      <td>http://www.reddit.com/r/AskDocs/comments/3e50jf/pain_in_pelvic_floor_during_arousal_urinating/</td>\n",
       "      <td>This user has not yet been verified.</td>\n",
       "      <td>False</td>\n",
       "      <td>doctorplsrespond</td>\n",
       "      <td>1437524845</td>\n",
       "      <td>NaN</td>\n",
       "      <td>1</td>\n",
       "      <td>NaN</td>\n",
       "    </tr>\n",
       "    <tr>\n",
       "      <th>1</th>\n",
       "      <td>self.AskDocs</td>\n",
       "      <td>AskDocs</td>\n",
       "      <td>27\\nM\\n6'0\"\\n170 lbs.\\nWhite\\n2+ weeks\\nNorthern California\\nno prior medical conditions\\nno medications\\n\\nI feel like my armpits are a bit swollen but there is no pain. Even when pressure is app...</td>\n",
       "      <td>False</td>\n",
       "      <td>37x41u</td>\n",
       "      <td>NaN</td>\n",
       "      <td>0</td>\n",
       "      <td>NaN</td>\n",
       "      <td>False</td>\n",
       "      <td>What's wrong with me?</td>\n",
       "      <td>3</td>\n",
       "      <td>3</td>\n",
       "      <td>1440702925</td>\n",
       "      <td>False</td>\n",
       "      <td>self</td>\n",
       "      <td>t5_2xtuc</td>\n",
       "      <td>False</td>\n",
       "      <td>NaN</td>\n",
       "      <td>default</td>\n",
       "      <td>0</td>\n",
       "      <td>False</td>\n",
       "      <td>True</td>\n",
       "      <td>NaN</td>\n",
       "      <td>/r/AskDocs/comments/37x41u/whats_wrong_with_me/</td>\n",
       "      <td>t3_37x41u</td>\n",
       "      <td>1433045646</td>\n",
       "      <td>http://www.reddit.com/r/AskDocs/comments/37x41u/whats_wrong_with_me/</td>\n",
       "      <td>This user has not yet been verified.</td>\n",
       "      <td>False</td>\n",
       "      <td>dudeotd</td>\n",
       "      <td>1433042046</td>\n",
       "      <td>NaN</td>\n",
       "      <td>3</td>\n",
       "      <td>NaN</td>\n",
       "    </tr>\n",
       "  </tbody>\n",
       "</table>\n",
       "</div>"
      ],
      "text/plain": [
       "         domain subreddit  \\\n",
       "0  self.AskDocs   AskDocs   \n",
       "1  self.AskDocs   AskDocs   \n",
       "\n",
       "                                                                                                                                                                                                  selftext  \\\n",
       "0  \\n    Age: 28-32\\n    Sex: M\\n    Height: 6'\\n    Weight: 175\\n    Race: Cauc\\n    Duration of complaint: 1 year\\n    Location (Geographic and on body): pelvis / urethra\\n    Any existing relevant...   \n",
       "1  27\\nM\\n6'0\"\\n170 lbs.\\nWhite\\n2+ weeks\\nNorthern California\\nno prior medical conditions\\nno medications\\n\\nI feel like my armpits are a bit swollen but there is no pain. Even when pressure is app...   \n",
       "\n",
       "   saved      id  from_kind  gilded  from  stickied  \\\n",
       "0  False  3e50jf        NaN       0   NaN     False   \n",
       "1  False  37x41u        NaN       0   NaN     False   \n",
       "\n",
       "                                                                                    title  \\\n",
       "0  Pain in pelvic floor / during arousal / urinating / ejaculating (with cloudy pee pics)   \n",
       "1                                                                   What's wrong with me?   \n",
       "\n",
       "   num_comments  score  retrieved_on  over_18 thumbnail subreddit_id  \\\n",
       "0             0      1    1440597166    False      self     t5_2xtuc   \n",
       "1             3      3    1440702925    False      self     t5_2xtuc   \n",
       "\n",
       "   hide_score  link_flair_css_class author_flair_css_class  downs  archived  \\\n",
       "0       False                   NaN                default      0     False   \n",
       "1       False                   NaN                default      0     False   \n",
       "\n",
       "   is_self  from_id  \\\n",
       "0     True      NaN   \n",
       "1     True      NaN   \n",
       "\n",
       "                                                                   permalink  \\\n",
       "0  /r/AskDocs/comments/3e50jf/pain_in_pelvic_floor_during_arousal_urinating/   \n",
       "1                            /r/AskDocs/comments/37x41u/whats_wrong_with_me/   \n",
       "\n",
       "        name     created  \\\n",
       "0  t3_3e50jf  1437528445   \n",
       "1  t3_37x41u  1433045646   \n",
       "\n",
       "                                                                                              url  \\\n",
       "0  http://www.reddit.com/r/AskDocs/comments/3e50jf/pain_in_pelvic_floor_during_arousal_urinating/   \n",
       "1                            http://www.reddit.com/r/AskDocs/comments/37x41u/whats_wrong_with_me/   \n",
       "\n",
       "                      author_flair_text  quarantine            author  \\\n",
       "0  This user has not yet been verified.       False  doctorplsrespond   \n",
       "1  This user has not yet been verified.       False           dudeotd   \n",
       "\n",
       "   created_utc  link_flair_text  ups distinguished  \n",
       "0   1437524845              NaN    1           NaN  \n",
       "1   1433042046              NaN    3           NaN  "
      ]
     },
     "execution_count": 3,
     "metadata": {},
     "output_type": "execute_result"
    }
   ],
   "source": [
    "path_to_posts = '../data/original_posts_under_askDocs_subreddit_id.gz'\n",
    "df_posts = pd.read_csv(path_to_posts,low_memory=False)\n",
    "print('Shape',df_posts.shape)\n",
    "df_posts.head(2)"
   ]
  },
  {
   "cell_type": "markdown",
   "metadata": {},
   "source": [
    "### Showing processing for joining comments to posts tables \n",
    "(This is implemented as a class in processing.py)"
   ]
  },
  {
   "cell_type": "code",
   "execution_count": 4,
   "metadata": {},
   "outputs": [
    {
     "name": "stdout",
     "output_type": "stream",
     "text": [
      "Unique posts in post table: 43615\n",
      "Unique posts in comment table: 148406\n",
      "Unique posts also in comment table: 30710\n"
     ]
    }
   ],
   "source": [
    "comment_post_ids = df_comments['link_id_short'].tolist()\n",
    "post_ids = df_posts['id'].tolist()\n",
    "\n",
    "print('Unique posts in post table:',len(set(post_ids)))\n",
    "print('Unique posts in comment table:',len(set(comment_post_ids)))\n",
    "\n",
    "# Get set of ids that are in both tables:\n",
    "id_intersect = (set(post_ids) & set(comment_post_ids))\n",
    "print('Unique posts also in comment table:', len(id_intersect) )\n",
    "\n",
    "# Create table with only those intersect ids\n",
    "df_intersect = df_posts.loc[df_posts['id'].isin(id_intersect)]\n",
    "\n",
    "df_intersect = df_intersect.rename(index=str, columns={\"selftext\": \"body\"}).copy()\n",
    "\n",
    "print('number of comments that had ids in posts also')\n",
    "print(df_comments.loc[df_comments['link_id_short'].isin(id_intersect)].shape[0])"
   ]
  },
  {
   "cell_type": "code",
   "execution_count": 5,
   "metadata": {},
   "outputs": [
    {
     "name": "stdout",
     "output_type": "stream",
     "text": [
      "In posts table but not in comments table: \n",
      " {'saved', 'title', 'over_18', 'url', 'link_flair_text', 'stickied', 'from', 'num_comments', 'created', 'from_id', 'quarantine', 'permalink', 'thumbnail', 'domain', 'from_kind', 'link_flair_css_class', 'is_self', 'hide_score'}\n",
      "\n",
      "In comments table but not in posts table: \n",
      " {'link_id', 'parent_id', 'post_id', 'link_id_short', 'controversiality', 'removal_reason', 'parent_id_short', 'score_hidden'}\n",
      "columns_in_both: 16\n"
     ]
    }
   ],
   "source": [
    "print(\"In posts table but not in comments table: \\n\",set(df_intersect.columns)-set(df_comments.columns) )\n",
    "print()\n",
    "\n",
    "print(\"In comments table but not in posts table: \\n\",set(df_comments.columns)-set(df_intersect.columns) )\n",
    "\n",
    "columns_in_both = (set(df_comments.columns) & set(df_intersect.columns))\n",
    "print('columns_in_both:',len(columns_in_both))\n",
    "# update the columns we still want to import from posts table\n",
    "columns_in_both.update([\"title\",\"url\",\"over_18\"])\n",
    "columns_in_both = list(columns_in_both)"
   ]
  },
  {
   "cell_type": "code",
   "execution_count": 10,
   "metadata": {},
   "outputs": [],
   "source": [
    "# Get comments following threads that are in both posts and comments\n",
    "df_comments = df_comments.loc[df_comments['link_id_short'].isin(id_intersect)].copy()\n",
    "# Get final intersect table\n",
    "df_intersect = df_comments.append(df_intersect[columns_in_both]).copy()\n"
   ]
  },
  {
   "cell_type": "markdown",
   "metadata": {},
   "source": [
    "## Implemented as function"
   ]
  },
  {
   "cell_type": "code",
   "execution_count": 2,
   "metadata": {},
   "outputs": [
    {
     "name": "stdout",
     "output_type": "stream",
     "text": [
      "Shape: (557648, 24)\n"
     ]
    }
   ],
   "source": [
    "# import data\n",
    "path_to_data = '../data/reddit_comments_askDocs_2014_to_2018_03.gz'\n",
    "df_comments = load_comments(path_to_data)\n",
    "path_to_posts = '../data/original_posts_under_askDocs_subreddit_id.gz'\n",
    "df_posts = pd.read_csv(path_to_posts,low_memory=False)\n",
    "\n",
    "## Get uniqueness\n",
    "# Uniqueness among posts\n",
    "comment_post_ids = df_comments['link_id_short'].tolist()\n",
    "post_ids = df_posts['id'].tolist()\n",
    "\n",
    "# Get set of ids that are in both tables:\n",
    "id_intersect = (set(post_ids) & set(comment_post_ids))\n",
    "\n",
    "# Create table with only those intersect ids\n",
    "df_intersect = df_posts.loc[df_posts['id'].isin(id_intersect)]\n",
    "df_intersect = df_intersect.rename(index=str, columns={\"selftext\": \"body\"}).copy()\n",
    "\n",
    "# Deterimine which columns would be helpful in final table\n",
    "columns_in_both = (set(df_comments.columns) & set(df_intersect.columns))\n",
    "columns_in_both.update([\"title\",\"url\",\"over_18\"])\n",
    "columns_in_both = list(columns_in_both)\n",
    "\n",
    "# Get comments following threads that are in both posts and comments\n",
    "df_comments = df_comments.loc[df_comments['link_id_short'].isin(id_intersect)].copy()\n",
    "# Get final intersect table\n",
    "df_intersect = df_comments.append(df_intersect[columns_in_both]).copy()\n",
    "print('Final combined table shape:',df_intersect.shape)"
   ]
  },
  {
   "cell_type": "code",
   "execution_count": 2,
   "metadata": {},
   "outputs": [],
   "source": [
    "data_instance = DataPipeline(comments_path = '../data/reddit_comments_askDocs_2014_to_2018_03.gz',\n",
    "                            posts_path = '../data/original_posts_under_askDocs_subreddit_id.gz')"
   ]
  },
  {
   "cell_type": "code",
   "execution_count": 3,
   "metadata": {},
   "outputs": [
    {
     "name": "stdout",
     "output_type": "stream",
     "text": [
      "Comments Table Shape: (557648, 24)\n",
      "Posts table shape: (43615, 34)\n",
      "Final combined table shape: (139535, 27)\n"
     ]
    }
   ],
   "source": [
    "df_test = data_instance.load_full_thread()"
   ]
  },
  {
   "cell_type": "code",
   "execution_count": null,
   "metadata": {},
   "outputs": [],
   "source": []
  }
 ],
 "metadata": {
  "kernelspec": {
   "display_name": "nlp-env",
   "language": "python",
   "name": "nlp-env"
  },
  "language_info": {
   "codemirror_mode": {
    "name": "ipython",
    "version": 3
   },
   "file_extension": ".py",
   "mimetype": "text/x-python",
   "name": "python",
   "nbconvert_exporter": "python",
   "pygments_lexer": "ipython3",
   "version": "3.6.5"
  }
 },
 "nbformat": 4,
 "nbformat_minor": 2
}
