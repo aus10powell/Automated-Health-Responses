{
 "cells": [
  {
   "cell_type": "markdown",
   "metadata": {},
   "source": [
    "\n",
    "### Purpose\n",
    "Currently being used to shortcut creating data for training.\n",
    "\n",
    "*However:* A more rigerous method for cleaning data and make a pipeline where changes can produce better results in training.\n",
    "\n",
    "Use as reference: https://www.safaribooksonline.com/library/view/hands-on-automated-machine/9781788629898/ccac8d45-a703-42b9-992c-d82eafafe94d.xhtml\n",
    "\n",
    "* use as example for text utilities: https://github.com/openai/finetune-transformer-lm/blob/master/text_utils.py"
   ]
  },
  {
   "cell_type": "code",
   "execution_count": 17,
   "metadata": {},
   "outputs": [],
   "source": [
    "import string\n",
    "import pickle\n",
    "punctuations = string.punctuation\n",
    "\n",
    "from spacy.lang.en import English\n",
    "parser = English()"
   ]
  },
  {
   "cell_type": "code",
   "execution_count": 18,
   "metadata": {},
   "outputs": [
    {
     "name": "stdout",
     "output_type": "stream",
     "text": [
      "Num pairs: 108825\n"
     ]
    }
   ],
   "source": [
    "data = pickle.load(open('../data/all_responses_equal.p','rb'))\n",
    "\n",
    "qa = []\n",
    "for i in list(data):\n",
    "    qa.append((i[0]['utterance'],i[1]['utterance']))\n",
    "\n",
    "# Split pairs into question and answer\n",
    "question, answer = zip(*qa)\n",
    "print('Num pairs:',len(question))"
   ]
  },
  {
   "cell_type": "code",
   "execution_count": 19,
   "metadata": {},
   "outputs": [],
   "source": [
    "def shorten_sentence(txt,length=30):\n",
    "    \"\"\"\n",
    "    Shortens to 20 words\n",
    "    \"\"\"\n",
    "    clean = ' '.join(str(txt).lower().replace(\"\\n\",\"\").split(' ')[:length])\n",
    "    \n",
    "    return ' '.join(clean.split())\n",
    "\n",
    "data = pickle.load(open('../data/all_responses_equal.p','rb'))\n",
    "qa = []\n",
    "for i in list(data):\n",
    "    q = shorten_sentence(i[0]['utterance'],length=25)\n",
    "    a = shorten_sentence(i[1]['utterance'],length=30)\n",
    "    if 'deleted' not in a:\n",
    "        qa.append((q.replace(\"\\n\",\"\"),a.replace(\"\\n\",\"\")))"
   ]
  },
  {
   "cell_type": "code",
   "execution_count": 20,
   "metadata": {},
   "outputs": [
    {
     "name": "stdout",
     "output_type": "stream",
     "text": [
      "Num original pairs: 29722\n"
     ]
    }
   ],
   "source": [
    "qa_new = []\n",
    "original_question = set()\n",
    "for line in qa:\n",
    "    if line[0] not in original_question:\n",
    "        qa_new.append(line)\n",
    "        original_question.add(line[0])\n",
    "print('Num original pairs:',len(qa_new))"
   ]
  },
  {
   "cell_type": "code",
   "execution_count": 25,
   "metadata": {},
   "outputs": [],
   "source": [
    "pickle.dump(qa_new,open('seq2seq_examples/fra-eng/all_responses_equal.p','wb'))"
   ]
  },
  {
   "cell_type": "code",
   "execution_count": 24,
   "metadata": {},
   "outputs": [],
   "source": [
    "with open('seq2seq_examples/fra-eng/all_responses_equal.txt', 'w') as fp:\n",
    "    fp.write('\\n'.join('%s -----+----- %s' % x for x in qa_new))"
   ]
  }
 ],
 "metadata": {
  "kernelspec": {
   "display_name": "nlp-env",
   "language": "python",
   "name": "nlp-env"
  },
  "language_info": {
   "codemirror_mode": {
    "name": "ipython",
    "version": 3
   },
   "file_extension": ".py",
   "mimetype": "text/x-python",
   "name": "python",
   "nbconvert_exporter": "python",
   "pygments_lexer": "ipython3",
   "version": "3.6.5"
  }
 },
 "nbformat": 4,
 "nbformat_minor": 2
}
